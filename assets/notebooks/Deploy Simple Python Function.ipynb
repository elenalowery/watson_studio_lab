{
 "cells": [
  {
   "cell_type": "markdown",
   "metadata": {
    "id": "60ceea7c-0047-437d-b407-1b9c55247c0b"
   },
   "source": [
    "# Deploy Python Function that includes custom .py"
   ]
  },
  {
   "cell_type": "markdown",
   "metadata": {
    "id": "c8d6904a-25cd-423e-a385-ff6c99d1802f"
   },
   "source": [
    "This notebook tested this [sample](https://github.com/IBMDataScience/sample-notebooks/blob/master/CloudPakForData/notebooks/Use_Python_function_feature_to_scrape_a__ndTSmTZh9.ipynb) to work in CP4D v4.x."
   ]
  },
  {
   "cell_type": "markdown",
   "metadata": {
    "id": "8685ddb2-b55d-4a9f-933f-74435ae915e6"
   },
   "source": [
    "## 1. Define the function to be deployed: "
   ]
  },
  {
   "cell_type": "code",
   "execution_count": 1,
   "metadata": {
    "id": "65638e53-ebac-49d3-97b1-fed769dd8dcc"
   },
   "outputs": [],
   "source": [
    "# You can add any information needed to run the Python function, e.g., wml credentials.\n",
    "py_params = {\n",
    "\n",
    "}"
   ]
  },
  {
   "cell_type": "code",
   "execution_count": 2,
   "metadata": {
    "id": "991984ce-8063-45d9-ba1d-001d3d5b0a98"
   },
   "outputs": [],
   "source": [
    "def py_funct(params=py_params):  \n",
    "    try:\n",
    "        # Import the subprocess module.\n",
    "        import subprocess\n",
    "        \n",
    "        # Install required packages.\n",
    "        subprocess.check_output('pip install --user lxml', stderr=subprocess.STDOUT, shell=True)\n",
    "        subprocess.check_output('pip install --user bs4', stderr=subprocess.STDOUT, shell=True)\n",
    "        subprocess.check_output('pip install --user sklearn', stderr=subprocess.STDOUT, shell=True)\n",
    "    except subprocess.CalledProcessError as e:        \n",
    "        install_err = 'subprocess.CalledProcessError:\\n\\n' + 'cmd:\\n' + e.cmd + '\\n\\noutput:\\n' + e.output.decode()\n",
    "        raise Exception( 'Installation failed:\\n' + install_err )\n",
    "    \n",
    "    def score(payload):\n",
    "        try:\n",
    "            # Import required modules.\n",
    "            from bs4 import BeautifulSoup\n",
    "            from urllib.request import urlopen\n",
    "            from sklearn.feature_extraction.text import CountVectorizer\n",
    "\n",
    "            urls = payload['input_data'][0]['values']\n",
    "            final_texts = []   # An array that will have stripped clean text from html tag enclosed text.\n",
    "\n",
    "            for url in urls:            \n",
    "                html = urlopen(url)\n",
    "                soup = BeautifulSoup(html, 'lxml')\n",
    "\n",
    "                p_tags = soup.find_all('p')    # Text is enclosed in <p> tag.\n",
    "\n",
    "                for p in p_tags:\n",
    "                    str_p = str(p)\n",
    "                    text = BeautifulSoup(str_p, 'lxml').get_text()\n",
    "                    final_texts.append(text)\n",
    "\n",
    "            vectorizer = CountVectorizer()\n",
    "            vectorizer.fit_transform(final_texts)\n",
    "\n",
    "            return {\"predictions\": [{\"fields\": [\"tokens\"], \"values\": [vectorizer.get_feature_names()]}]}\n",
    "        except Exception as e:\n",
    "            return {\"predictions\": [{\"error\" : repr(e)}]}\n",
    "        \n",
    "    return score"
   ]
  },
  {
   "cell_type": "markdown",
   "metadata": {
    "id": "ee51e8ad-50d3-42f2-8b7f-0f29937bfc41"
   },
   "source": [
    "## 2. Define which deployment space you want to save this function to."
   ]
  },
  {
   "cell_type": "code",
   "execution_count": 3,
   "metadata": {
    "id": "a0ce194b-24c4-4adb-a536-5cd2c0d110fd"
   },
   "outputs": [],
   "source": [
    "from ibm_watson_machine_learning import APIClient"
   ]
  },
  {
   "cell_type": "code",
   "execution_count": 4,
   "metadata": {
    "id": "1771d577-c358-471b-8e3e-1d59182f6d31"
   },
   "outputs": [],
   "source": [
    "# get the Project ID and set the location to save the model to the project\n",
    "from ibm_watson_machine_learning import APIClient\n",
    "import os\n",
    "\n",
    "token = os.environ['USER_ACCESS_TOKEN']\n",
    "\n",
    "wml_credentials = {\n",
    "   \"token\": token,\n",
    "   \"instance_id\" : \"openshift\",\n",
    "   \"url\": os.environ['RUNTIME_ENV_APSX_URL'],\n",
    "   \"version\": \"4.0\"\n",
    "}\n",
    "\n",
    "client = APIClient(wml_credentials)"
   ]
  },
  {
   "cell_type": "code",
   "execution_count": 5,
   "metadata": {
    "id": "e5f3efddecb247b88a5669c309def949"
   },
   "outputs": [
    {
     "name": "stdout",
     "output_type": "stream",
     "text": [
      "Space UID = a297dc8b-3ad4-4485-b67a-548b79a59ec8\n"
     ]
    }
   ],
   "source": [
    "# Enter the name of your deployment space here:\n",
    "space_uid = \"a297dc8b-3ad4-4485-b67a-548b79a59ec8\"\n",
    "print(\"Space UID = \" + space_uid)"
   ]
  },
  {
   "cell_type": "code",
   "execution_count": 6,
   "metadata": {
    "id": "fd28094375ef40d9a6635d56d5771dac"
   },
   "outputs": [
    {
     "data": {
      "text/plain": [
       "'SUCCESS'"
      ]
     },
     "execution_count": 6,
     "metadata": {},
     "output_type": "execute_result"
    }
   ],
   "source": [
    "client.set.default_space(space_uid)"
   ]
  },
  {
   "cell_type": "markdown",
   "metadata": {
    "id": "d5fa3659-4eb9-46fe-a6db-b3a17d9c629f"
   },
   "source": [
    "## 3. Define Function metadata"
   ]
  },
  {
   "cell_type": "code",
   "execution_count": 11,
   "metadata": {
    "id": "695fa2562f6a4245887ba4478998111a"
   },
   "outputs": [],
   "source": [
    "# Function Metadata.\n",
    "meta_props = {\n",
    "    client.repository.FunctionMetaNames.NAME: \"Python function demo\",\n",
    "    client.repository.FunctionMetaNames.SOFTWARE_SPEC_ID:client.software_specifications.get_id_by_name(\"default_py3.7_opence\"),\n",
    "}"
   ]
  },
  {
   "cell_type": "code",
   "execution_count": 12,
   "metadata": {
    "id": "58405375-78a0-44ae-a874-016185921260"
   },
   "outputs": [],
   "source": [
    "# if you don't know what software_spec are available, run the following line to check\n",
    "#client.software_specifications.list()"
   ]
  },
  {
   "cell_type": "markdown",
   "metadata": {
    "id": "207c4c8b-24a5-46b3-a57e-454ed7e1ec93"
   },
   "source": [
    "## 4. Store function"
   ]
  },
  {
   "cell_type": "code",
   "execution_count": 13,
   "metadata": {
    "id": "2ae0e82ceebe4f2c824ade6024a5d8da"
   },
   "outputs": [
    {
     "name": "stdout",
     "output_type": "stream",
     "text": [
      "Function UID = fd93bceb-d5ee-4430-8e55-ad62dd833c7c\n"
     ]
    }
   ],
   "source": [
    "#Create the function artifact.\n",
    "function_artifact = client.repository.store_function(meta_props=meta_props, function=py_funct)\n",
    "function_uid = client.repository.get_function_uid(function_artifact)\n",
    "print(\"Function UID = \" + function_uid)"
   ]
  },
  {
   "cell_type": "code",
   "execution_count": 14,
   "metadata": {
    "id": "86120089d27c4fbbbe9299d31e26441a"
   },
   "outputs": [
    {
     "name": "stdout",
     "output_type": "stream",
     "text": [
      "{'entity': {'software_spec': {'id': 'c2057dd4-f42c-5f77-a02f-72bdbd3282c9',\n",
      "                              'name': 'default_py3.7_opence'},\n",
      "            'type': 'python'},\n",
      " 'metadata': {'created_at': '2022-04-19T20:07:52.398Z',\n",
      "              'id': 'fd93bceb-d5ee-4430-8e55-ad62dd833c7c',\n",
      "              'modified_at': '2022-04-19T20:07:53.680Z',\n",
      "              'name': 'Python function demo',\n",
      "              'owner': '1000331005',\n",
      "              'space_id': 'a297dc8b-3ad4-4485-b67a-548b79a59ec8'},\n",
      " 'system': {'warnings': []}}\n"
     ]
    }
   ],
   "source": [
    "# Details about the function.\n",
    "function_details = client.repository.get_details(function_uid)\n",
    "from pprint import pprint\n",
    "pprint(function_details)"
   ]
  },
  {
   "cell_type": "code",
   "execution_count": 15,
   "metadata": {
    "id": "2c185c5f0b9d4c66b0f3c719289ee08b"
   },
   "outputs": [
    {
     "name": "stdout",
     "output_type": "stream",
     "text": [
      "------------------------------------  --------------------  ------------------------  ------\n",
      "GUID                                  NAME                  CREATED                   TYPE\n",
      "fd93bceb-d5ee-4430-8e55-ad62dd833c7c  Python function demo  2022-04-19T20:07:52.002Z  python\n",
      "------------------------------------  --------------------  ------------------------  ------\n"
     ]
    }
   ],
   "source": [
    "# Display a list of all the functions.\n",
    "client.repository.list_functions()"
   ]
  },
  {
   "cell_type": "markdown",
   "metadata": {
    "id": "75cb63f7-05e3-4501-9b63-26b6b1cf479c"
   },
   "source": [
    "## 5. Define Deployment metdadata and Deploy Function"
   ]
  },
  {
   "cell_type": "markdown",
   "metadata": {
    "id": "ed0c260c-cd24-4baf-bcb5-3610229b8ac0"
   },
   "source": [
    "## 5.1 Online deployment"
   ]
  },
  {
   "cell_type": "code",
   "execution_count": 16,
   "metadata": {
    "id": "e234496c-fbb7-40e9-b963-730a4809dc62"
   },
   "outputs": [],
   "source": [
    "# Deployment metadata.\n",
    "deploy_meta = {\n",
    "    client.deployments.ConfigurationMetaNames.NAME: \"Web scraping python function deployment online\",\n",
    "    client.deployments.ConfigurationMetaNames.ONLINE: {}\n",
    "}"
   ]
  },
  {
   "cell_type": "code",
   "execution_count": 17,
   "metadata": {
    "id": "b7f0f763-7f06-4181-b016-cfa35898194b"
   },
   "outputs": [
    {
     "name": "stdout",
     "output_type": "stream",
     "text": [
      "\n",
      "\n",
      "#######################################################################################\n",
      "\n",
      "Synchronous deployment creation for uid: 'fd93bceb-d5ee-4430-8e55-ad62dd833c7c' started\n",
      "\n",
      "#######################################################################################\n",
      "\n",
      "\n",
      "initializing\n",
      "Note: online_url is deprecated and will be removed in a future release. Use serving_urls instead.\n",
      "...\n",
      "ready\n",
      "\n",
      "\n",
      "------------------------------------------------------------------------------------------------\n",
      "Successfully finished deployment creation, deployment_uid='4ebc7c8e-e49f-40cc-a3a7-72f95161c26b'\n",
      "------------------------------------------------------------------------------------------------\n",
      "\n",
      "\n"
     ]
    }
   ],
   "source": [
    "# Create the deployment.\n",
    "deployment_details = client.deployments.create(function_uid, meta_props=deploy_meta)"
   ]
  },
  {
   "cell_type": "code",
   "execution_count": 18,
   "metadata": {
    "id": "834cf258-4ea5-40ad-a627-21dbb311cb2c"
   },
   "outputs": [
    {
     "data": {
      "text/plain": [
       "{'entity': {'asset': {'id': 'fd93bceb-d5ee-4430-8e55-ad62dd833c7c'},\n",
       "  'custom': {},\n",
       "  'deployed_asset_type': 'function',\n",
       "  'hardware_spec': {'id': 'Not_Applicable', 'name': 'XXS', 'num_nodes': 1},\n",
       "  'name': 'Web scraping python function deployment online',\n",
       "  'online': {},\n",
       "  'space_id': 'a297dc8b-3ad4-4485-b67a-548b79a59ec8',\n",
       "  'status': {'online_url': {'url': 'https://internal-nginx-svc:12443/ml/v4/deployments/4ebc7c8e-e49f-40cc-a3a7-72f95161c26b/predictions'},\n",
       "   'serving_urls': ['https://internal-nginx-svc:12443/ml/v4/deployments/4ebc7c8e-e49f-40cc-a3a7-72f95161c26b/predictions'],\n",
       "   'state': 'ready'}},\n",
       " 'metadata': {'created_at': '2022-04-19T20:08:18.036Z',\n",
       "  'id': '4ebc7c8e-e49f-40cc-a3a7-72f95161c26b',\n",
       "  'modified_at': '2022-04-19T20:08:18.036Z',\n",
       "  'name': 'Web scraping python function deployment online',\n",
       "  'owner': '1000331005',\n",
       "  'space_id': 'a297dc8b-3ad4-4485-b67a-548b79a59ec8'},\n",
       " 'system': {'warnings': [{'id': 'Deprecated',\n",
       "    'message': 'online_url is deprecated and will be removed in a future release. Use serving_urls instead.'}]}}"
      ]
     },
     "execution_count": 18,
     "metadata": {},
     "output_type": "execute_result"
    }
   ],
   "source": [
    "deployment_details"
   ]
  },
  {
   "cell_type": "markdown",
   "metadata": {
    "id": "19c7945f-e645-4090-9543-dc00b9ef4c08"
   },
   "source": [
    "### Test online endpoint"
   ]
  },
  {
   "cell_type": "code",
   "execution_count": 19,
   "metadata": {
    "id": "3dc6b338-87ef-402f-a5e7-240daca0197a"
   },
   "outputs": [
    {
     "name": "stdout",
     "output_type": "stream",
     "text": [
      "Deployment uid = 4ebc7c8e-e49f-40cc-a3a7-72f95161c26b\n"
     ]
    }
   ],
   "source": [
    "# Deployment UID.\n",
    "deployment_uid = client.deployments.get_uid(deployment_details)\n",
    "print('Deployment uid = {}'.format(deployment_uid))"
   ]
  },
  {
   "cell_type": "code",
   "execution_count": 20,
   "metadata": {
    "id": "b171ec09-36e9-4933-9d6a-9d8145cb7b3b"
   },
   "outputs": [
    {
     "name": "stdout",
     "output_type": "stream",
     "text": [
      "{'input_data': [{'fields': ['url'],\n",
      "                 'values': ['https://www.ibm.com/cloud/machine-learning']}]}\n"
     ]
    }
   ],
   "source": [
    "# Prepare scoring payload for online scoring\n",
    "job_payload = {\n",
    "    client.deployments.ScoringMetaNames.INPUT_DATA: [{\n",
    "        'fields': ['url'],\n",
    "        'values': [\n",
    "            'https://www.ibm.com/cloud/machine-learning'\n",
    "        ]\n",
    "    }]\n",
    "}\n",
    "pprint(job_payload)"
   ]
  },
  {
   "cell_type": "code",
   "execution_count": 21,
   "metadata": {
    "id": "d49a84f1-5f78-44a8-ab73-9eeab761f48e"
   },
   "outputs": [
    {
     "data": {
      "text/plain": [
       "'https://www.ibm.com/cloud/machine-learning'"
      ]
     },
     "execution_count": 21,
     "metadata": {},
     "output_type": "execute_result"
    }
   ],
   "source": [
    "job_payload['input_data'][0]['values'][0]"
   ]
  },
  {
   "cell_type": "code",
   "execution_count": 22,
   "metadata": {
    "id": "90fafd75-45f3-4e6f-9168-b3febcaeb9ef"
   },
   "outputs": [],
   "source": [
    "# if using UI for testing, use the following to get right format\n",
    "#import json\n",
    "#json.dumps(job_payload)"
   ]
  },
  {
   "cell_type": "code",
   "execution_count": 23,
   "metadata": {
    "id": "9ab17a99-ba69-4b1b-afc1-6da339d27bec"
   },
   "outputs": [
    {
     "name": "stdout",
     "output_type": "stream",
     "text": [
      "['01',\n",
      " '20',\n",
      " '2020',\n",
      " '37',\n",
      " 'aberdeen',\n",
      " 'ability',\n",
      " 'about',\n",
      " 'access',\n",
      " 'accuracy',\n",
      " 'across']\n"
     ]
    }
   ],
   "source": [
    "# Perform prediction and display the result.\n",
    "# for online scoring\n",
    "job_details = client.deployments.score(deployment_uid, job_payload)\n",
    "pprint(job_details['predictions'][0]['values'][0][:10])"
   ]
  },
  {
   "cell_type": "markdown",
   "metadata": {
    "id": "ab7fc9f2-1de4-4dab-93fe-616baf163d87"
   },
   "source": [
    "## 5.2 Batch deployment: update python function"
   ]
  },
  {
   "cell_type": "code",
   "execution_count": 24,
   "metadata": {
    "id": "90856790-6799-4613-b865-a5cff74be99e"
   },
   "outputs": [],
   "source": [
    "def py_funct(params=py_params):  \n",
    "    try:\n",
    "        # Import the subprocess module.\n",
    "        import subprocess\n",
    "        \n",
    "        # Install required packages.\n",
    "        subprocess.check_output('pip install --user lxml', stderr=subprocess.STDOUT, shell=True)\n",
    "        subprocess.check_output('pip install --user bs4', stderr=subprocess.STDOUT, shell=True)\n",
    "        subprocess.check_output('pip install --user sklearn', stderr=subprocess.STDOUT, shell=True)\n",
    "    except subprocess.CalledProcessError as e:        \n",
    "        install_err = 'subprocess.CalledProcessError:\\n\\n' + 'cmd:\\n' + e.cmd + '\\n\\noutput:\\n' + e.output.decode()\n",
    "        raise Exception( 'Installation failed:\\n' + install_err )\n",
    "    \n",
    "    def score(payload):\n",
    "        try:\n",
    "            # Import required modules.\n",
    "            from bs4 import BeautifulSoup\n",
    "            from urllib.request import urlopen\n",
    "            from sklearn.feature_extraction.text import CountVectorizer\n",
    "\n",
    "            urls = payload['input_data'][0]['values']\n",
    "\n",
    "            output = []\n",
    "            for url in urls:\n",
    "                final_texts = []\n",
    "                html = urlopen(url[0])\n",
    "                soup = BeautifulSoup(html, 'lxml')\n",
    "\n",
    "                p_tags = soup.find_all('p')    # Text is enclosed in <p> tag.\n",
    "\n",
    "                for p in p_tags:\n",
    "                    str_p = str(p)\n",
    "                    text = BeautifulSoup(str_p, 'lxml').get_text()\n",
    "                    final_texts.append(text)\n",
    "                vectorizer = CountVectorizer()\n",
    "                vectorizer.fit_transform(final_texts)\n",
    "                output.append(vectorizer.get_feature_names())\n",
    "\n",
    "            return {\"predictions\": [{\"fields\": [\"tokens\"], \"values\": output}]}\n",
    "        except Exception as e:\n",
    "            return {\"predictions\": [{\"error\" : repr(e)}]}\n",
    "        \n",
    "    return score"
   ]
  },
  {
   "cell_type": "code",
   "execution_count": 25,
   "metadata": {
    "id": "bde84cab-8eb0-438e-bf05-7d679670db3a"
   },
   "outputs": [],
   "source": [
    "# Function Metadata.\n",
    "meta_props = {\n",
    "    client.repository.FunctionMetaNames.NAME: \"Web scraping python function updated for batch\",\n",
    "    client.repository.FunctionMetaNames.SOFTWARE_SPEC_ID:client.software_specifications.get_id_by_name(\"default_py3.7\"),\n",
    "}"
   ]
  },
  {
   "cell_type": "code",
   "execution_count": 26,
   "metadata": {
    "id": "b30a9f4b-e9ca-4732-9912-97009d1bde07"
   },
   "outputs": [
    {
     "name": "stderr",
     "output_type": "stream",
     "text": [
      "Failure during saving function. (POST https://internal-nginx-svc:12443/ml/v4/functions?version=2021-06-24)\n",
      "Status code: 400, body: {\n",
      "  \"trace\": \"unknown\",\n",
      "  \"errors\": [{\n",
      "    \"code\": \"invalid_request_entity\",\n",
      "    \"message\": \"Invalid request entity: Unsupported software specification provided in the request.\",\n",
      "    \"more_info\": \"https://cloud.ibm.com/apidocs/machine-learning\"\n",
      "  }],\n",
      "  \"status_code\": \"400\"\n",
      "}\n"
     ]
    },
    {
     "ename": "ApiRequestFailure",
     "evalue": "Failure during saving function. (POST https://internal-nginx-svc:12443/ml/v4/functions?version=2021-06-24)\nStatus code: 400, body: {\n  \"trace\": \"unknown\",\n  \"errors\": [{\n    \"code\": \"invalid_request_entity\",\n    \"message\": \"Invalid request entity: Unsupported software specification provided in the request.\",\n    \"more_info\": \"https://cloud.ibm.com/apidocs/machine-learning\"\n  }],\n  \"status_code\": \"400\"\n}",
     "output_type": "error",
     "traceback": [
      "\u001b[0;31m---------------------------------------------------------------------------\u001b[0m",
      "\u001b[0;31mApiRequestFailure\u001b[0m                         Traceback (most recent call last)",
      "\u001b[0;32m<ipython-input-26-fcf8f4e83c62>\u001b[0m in \u001b[0;36m<module>\u001b[0;34m\u001b[0m\n\u001b[0;32m----> 1\u001b[0;31m \u001b[0mfunction_artifact\u001b[0m \u001b[0;34m=\u001b[0m \u001b[0mclient\u001b[0m\u001b[0;34m.\u001b[0m\u001b[0mrepository\u001b[0m\u001b[0;34m.\u001b[0m\u001b[0mstore_function\u001b[0m\u001b[0;34m(\u001b[0m\u001b[0mmeta_props\u001b[0m\u001b[0;34m=\u001b[0m\u001b[0mmeta_props\u001b[0m\u001b[0;34m,\u001b[0m \u001b[0mfunction\u001b[0m\u001b[0;34m=\u001b[0m\u001b[0mpy_funct\u001b[0m\u001b[0;34m)\u001b[0m\u001b[0;34m\u001b[0m\u001b[0;34m\u001b[0m\u001b[0m\n\u001b[0m\u001b[1;32m      2\u001b[0m \u001b[0mfunction_uid\u001b[0m \u001b[0;34m=\u001b[0m \u001b[0mclient\u001b[0m\u001b[0;34m.\u001b[0m\u001b[0mrepository\u001b[0m\u001b[0;34m.\u001b[0m\u001b[0mget_function_uid\u001b[0m\u001b[0;34m(\u001b[0m\u001b[0mfunction_artifact\u001b[0m\u001b[0;34m)\u001b[0m\u001b[0;34m\u001b[0m\u001b[0;34m\u001b[0m\u001b[0m\n\u001b[1;32m      3\u001b[0m \u001b[0mprint\u001b[0m\u001b[0;34m(\u001b[0m\u001b[0;34m\"Function UID = \"\u001b[0m \u001b[0;34m+\u001b[0m \u001b[0mfunction_uid\u001b[0m\u001b[0;34m)\u001b[0m\u001b[0;34m\u001b[0m\u001b[0;34m\u001b[0m\u001b[0m\n",
      "\u001b[0;32m/opt/conda/envs/Python-3.8-main/lib/python3.8/site-packages/ibm_watson_machine_learning/repository.py\u001b[0m in \u001b[0;36mstore_function\u001b[0;34m(self, function, meta_props)\u001b[0m\n\u001b[1;32m    557\u001b[0m             \"\"\"\n\u001b[1;32m    558\u001b[0m \u001b[0;34m\u001b[0m\u001b[0m\n\u001b[0;32m--> 559\u001b[0;31m         \u001b[0;32mreturn\u001b[0m \u001b[0mself\u001b[0m\u001b[0;34m.\u001b[0m\u001b[0m_client\u001b[0m\u001b[0;34m.\u001b[0m\u001b[0m_functions\u001b[0m\u001b[0;34m.\u001b[0m\u001b[0mstore\u001b[0m\u001b[0;34m(\u001b[0m\u001b[0mfunction\u001b[0m\u001b[0;34m,\u001b[0m \u001b[0mmeta_props\u001b[0m\u001b[0;34m)\u001b[0m\u001b[0;34m\u001b[0m\u001b[0;34m\u001b[0m\u001b[0m\n\u001b[0m\u001b[1;32m    560\u001b[0m \u001b[0;34m\u001b[0m\u001b[0m\n\u001b[1;32m    561\u001b[0m \u001b[0;34m\u001b[0m\u001b[0m\n",
      "\u001b[0;32m/opt/conda/envs/Python-3.8-main/lib/python3.8/site-packages/ibm_watson_machine_learning/functions.py\u001b[0m in \u001b[0;36mstore\u001b[0;34m(self, function, meta_props)\u001b[0m\n\u001b[1;32m    360\u001b[0m \u001b[0;34m\u001b[0m\u001b[0m\n\u001b[1;32m    361\u001b[0m         \u001b[0;32mexcept\u001b[0m \u001b[0mException\u001b[0m \u001b[0;32mas\u001b[0m \u001b[0me\u001b[0m\u001b[0;34m:\u001b[0m\u001b[0;34m\u001b[0m\u001b[0;34m\u001b[0m\u001b[0m\n\u001b[0;32m--> 362\u001b[0;31m             \u001b[0;32mraise\u001b[0m \u001b[0me\u001b[0m\u001b[0;34m\u001b[0m\u001b[0;34m\u001b[0m\u001b[0m\n\u001b[0m\u001b[1;32m    363\u001b[0m         \u001b[0;32mfinally\u001b[0m\u001b[0;34m:\u001b[0m\u001b[0;34m\u001b[0m\u001b[0;34m\u001b[0m\u001b[0m\n\u001b[1;32m    364\u001b[0m             \u001b[0;32mtry\u001b[0m\u001b[0;34m:\u001b[0m\u001b[0;34m\u001b[0m\u001b[0;34m\u001b[0m\u001b[0m\n",
      "\u001b[0;32m/opt/conda/envs/Python-3.8-main/lib/python3.8/site-packages/ibm_watson_machine_learning/functions.py\u001b[0m in \u001b[0;36mstore\u001b[0;34m(self, function, meta_props)\u001b[0m\n\u001b[1;32m    334\u001b[0m                                                       verify=False)\n\u001b[1;32m    335\u001b[0m \u001b[0;34m\u001b[0m\u001b[0m\n\u001b[0;32m--> 336\u001b[0;31m                 details = self._handle_response(expected_status_code=201,\n\u001b[0m\u001b[1;32m    337\u001b[0m                                                 \u001b[0moperationName\u001b[0m\u001b[0;34m=\u001b[0m\u001b[0;34mu'saving function'\u001b[0m\u001b[0;34m,\u001b[0m\u001b[0;34m\u001b[0m\u001b[0;34m\u001b[0m\u001b[0m\n\u001b[1;32m    338\u001b[0m                                                 response=response_post)\n",
      "\u001b[0;32m/opt/conda/envs/Python-3.8-main/lib/python3.8/site-packages/ibm_watson_machine_learning/wml_resource.py\u001b[0m in \u001b[0;36m_handle_response\u001b[0;34m(self, expected_status_code, operationName, response, json_response)\u001b[0m\n\u001b[1;32m     71\u001b[0m                 \u001b[0;32mreturn\u001b[0m \u001b[0mresponse\u001b[0m\u001b[0;34m.\u001b[0m\u001b[0mtext\u001b[0m\u001b[0;34m\u001b[0m\u001b[0;34m\u001b[0m\u001b[0m\n\u001b[1;32m     72\u001b[0m         \u001b[0;32melse\u001b[0m\u001b[0;34m:\u001b[0m\u001b[0;34m\u001b[0m\u001b[0;34m\u001b[0m\u001b[0m\n\u001b[0;32m---> 73\u001b[0;31m             \u001b[0;32mraise\u001b[0m \u001b[0mApiRequestFailure\u001b[0m\u001b[0;34m(\u001b[0m\u001b[0;34mu'Failure during {}.'\u001b[0m\u001b[0;34m.\u001b[0m\u001b[0mformat\u001b[0m\u001b[0;34m(\u001b[0m\u001b[0moperationName\u001b[0m\u001b[0;34m)\u001b[0m\u001b[0;34m,\u001b[0m \u001b[0mresponse\u001b[0m\u001b[0;34m)\u001b[0m\u001b[0;34m\u001b[0m\u001b[0;34m\u001b[0m\u001b[0m\n\u001b[0m\u001b[1;32m     74\u001b[0m \u001b[0;34m\u001b[0m\u001b[0m\n\u001b[1;32m     75\u001b[0m     \u001b[0;34m@\u001b[0m\u001b[0mstaticmethod\u001b[0m\u001b[0;34m\u001b[0m\u001b[0;34m\u001b[0m\u001b[0m\n",
      "\u001b[0;31mApiRequestFailure\u001b[0m: Failure during saving function. (POST https://internal-nginx-svc:12443/ml/v4/functions?version=2021-06-24)\nStatus code: 400, body: {\n  \"trace\": \"unknown\",\n  \"errors\": [{\n    \"code\": \"invalid_request_entity\",\n    \"message\": \"Invalid request entity: Unsupported software specification provided in the request.\",\n    \"more_info\": \"https://cloud.ibm.com/apidocs/machine-learning\"\n  }],\n  \"status_code\": \"400\"\n}"
     ]
    }
   ],
   "source": [
    "function_artifact = client.repository.store_function(meta_props=meta_props, function=py_funct)\n",
    "function_uid = client.repository.get_function_uid(function_artifact)\n",
    "print(\"Function UID = \" + function_uid)"
   ]
  },
  {
   "cell_type": "code",
   "execution_count": 27,
   "metadata": {
    "id": "781d32e8-3a23-4d76-8cf0-2118ae917d36"
   },
   "outputs": [
    {
     "name": "stdout",
     "output_type": "stream",
     "text": [
      "{'entity': {'software_spec': {'id': 'c2057dd4-f42c-5f77-a02f-72bdbd3282c9',\n",
      "                              'name': 'default_py3.7_opence'},\n",
      "            'type': 'python'},\n",
      " 'metadata': {'created_at': '2022-04-19T20:07:52.398Z',\n",
      "              'id': 'fd93bceb-d5ee-4430-8e55-ad62dd833c7c',\n",
      "              'modified_at': '2022-04-19T20:07:53.680Z',\n",
      "              'name': 'Python function demo',\n",
      "              'owner': '1000331005',\n",
      "              'space_id': 'a297dc8b-3ad4-4485-b67a-548b79a59ec8'},\n",
      " 'system': {'warnings': []}}\n"
     ]
    }
   ],
   "source": [
    "function_details = client.repository.get_details(function_uid)\n",
    "from pprint import pprint\n",
    "pprint(function_details)"
   ]
  },
  {
   "cell_type": "code",
   "execution_count": 28,
   "metadata": {
    "id": "6765e94756dc46dc81f8d878c2c8d4da"
   },
   "outputs": [],
   "source": [
    "# Deployment metadata.\n",
    "deploy_meta = {\n",
    "    client.deployments.ConfigurationMetaNames.NAME: \"Web scraping python function deployment batch\",\n",
    "    #client.deployments.ConfigurationMetaNames.ONLINE: {},\n",
    "    client.deployments.ConfigurationMetaNames.BATCH: {},\n",
    "    client.deployments.ConfigurationMetaNames.HARDWARE_SPEC: {\"name\": \"S\", \"num_nodes\": 1}\n",
    "}"
   ]
  },
  {
   "cell_type": "code",
   "execution_count": 29,
   "metadata": {
    "id": "6eb9e6d8-91bf-411a-ace3-577b72c73148"
   },
   "outputs": [],
   "source": [
    "#client.hardware_specifications.list()"
   ]
  },
  {
   "cell_type": "code",
   "execution_count": 30,
   "metadata": {
    "id": "939f74918e73481480346e591e0fec8a"
   },
   "outputs": [
    {
     "name": "stdout",
     "output_type": "stream",
     "text": [
      "\n",
      "\n",
      "#######################################################################################\n",
      "\n",
      "Synchronous deployment creation for uid: 'fd93bceb-d5ee-4430-8e55-ad62dd833c7c' started\n",
      "\n",
      "#######################################################################################\n",
      "\n",
      "\n",
      "ready.\n",
      "\n",
      "\n",
      "------------------------------------------------------------------------------------------------\n",
      "Successfully finished deployment creation, deployment_uid='4d310755-e047-4285-b759-91e66ac40fe8'\n",
      "------------------------------------------------------------------------------------------------\n",
      "\n",
      "\n"
     ]
    }
   ],
   "source": [
    "# Create the deployment.\n",
    "deployment_details = client.deployments.create(function_uid, meta_props=deploy_meta)"
   ]
  },
  {
   "cell_type": "code",
   "execution_count": 31,
   "metadata": {
    "id": "39a27b937511421caeaa13b00be787f3"
   },
   "outputs": [
    {
     "data": {
      "text/plain": [
       "{'entity': {'asset': {'id': 'fd93bceb-d5ee-4430-8e55-ad62dd833c7c'},\n",
       "  'batch': {},\n",
       "  'custom': {},\n",
       "  'deployed_asset_type': 'function',\n",
       "  'hardware_spec': {'id': 'e7ed1d6c-2e89-42d7-aed5-863b972c1d2b',\n",
       "   'name': 'S',\n",
       "   'num_nodes': 1},\n",
       "  'name': 'Web scraping python function deployment batch',\n",
       "  'space_id': 'a297dc8b-3ad4-4485-b67a-548b79a59ec8',\n",
       "  'status': {'state': 'ready'}},\n",
       " 'metadata': {'created_at': '2022-04-19T20:08:49.873Z',\n",
       "  'id': '4d310755-e047-4285-b759-91e66ac40fe8',\n",
       "  'modified_at': '2022-04-19T20:08:49.873Z',\n",
       "  'name': 'Web scraping python function deployment batch',\n",
       "  'owner': '1000331005',\n",
       "  'space_id': 'a297dc8b-3ad4-4485-b67a-548b79a59ec8'}}"
      ]
     },
     "execution_count": 31,
     "metadata": {},
     "output_type": "execute_result"
    }
   ],
   "source": [
    "deployment_details"
   ]
  },
  {
   "cell_type": "code",
   "execution_count": 32,
   "metadata": {
    "id": "e29f1c0664df47cb828d95323c8a837b"
   },
   "outputs": [
    {
     "name": "stdout",
     "output_type": "stream",
     "text": [
      "------------------------------------  ----------------------------------------------  -----  ------------------------\n",
      "GUID                                  NAME                                            STATE  CREATED\n",
      "4d310755-e047-4285-b759-91e66ac40fe8  Web scraping python function deployment batch   ready  2022-04-19T20:08:49.873Z\n",
      "4ebc7c8e-e49f-40cc-a3a7-72f95161c26b  Web scraping python function deployment online  ready  2022-04-19T20:08:18.036Z\n",
      "a443e90e-8fdc-42bc-9d68-8356075d4aea  Churn Deployment via API-Online                 ready  2022-04-06T17:45:04.645Z\n",
      "98744498-f1f5-455d-8c44-4306830234c0  Demo online                                     ready  2022-03-16T20:56:30.856Z\n",
      "ab070bba-9a71-49eb-b8a2-4c9895fa7a87  Customer_churn_batch                            ready  2022-03-03T20:21:52.805Z\n",
      "572b85c0-c994-4946-a5ac-9e77af3bf925  Customer_Churn_Online                           ready  2022-03-03T20:21:28.135Z\n",
      "------------------------------------  ----------------------------------------------  -----  ------------------------\n"
     ]
    }
   ],
   "source": [
    "client.deployments.list()"
   ]
  },
  {
   "cell_type": "markdown",
   "metadata": {
    "id": "50fced65-ec44-40a1-883e-737c5c05c34d"
   },
   "source": [
    "### Test Batch scoring endpoint"
   ]
  },
  {
   "cell_type": "code",
   "execution_count": 157,
   "metadata": {
    "id": "2d67b05a87864192ab215987f5c77604"
   },
   "outputs": [
    {
     "name": "stdout",
     "output_type": "stream",
     "text": [
      "Deployment uid = 4b9d1226-d0e9-4c14-abfe-f5de97d409eb\n"
     ]
    }
   ],
   "source": [
    "# Deployment UID.\n",
    "deployment_uid = client.deployments.get_uid(deployment_details)\n",
    "print('Deployment uid = {}'.format(deployment_uid))"
   ]
  },
  {
   "cell_type": "code",
   "execution_count": 158,
   "metadata": {
    "id": "3bcddef1-1688-49bd-bdc1-b27e134c84b0"
   },
   "outputs": [
    {
     "name": "stdout",
     "output_type": "stream",
     "text": [
      "{'input_data': [{'fields': ['url'],\n",
      "                 'values': [['https://www.ibm.com/cloud/machine-learning'],\n",
      "                            ['https://en.wikipedia.org/wiki/IBM']]}]}\n"
     ]
    }
   ],
   "source": [
    "job_payload = {\n",
    "    client.deployments.ScoringMetaNames.INPUT_DATA: [{\n",
    "        'fields': ['url'],\n",
    "        'values': [\n",
    "            ['https://www.ibm.com/cloud/machine-learning'], ['https://en.wikipedia.org/wiki/IBM']\n",
    "        ]\n",
    "    }]\n",
    "}\n",
    "pprint(job_payload)"
   ]
  },
  {
   "cell_type": "code",
   "execution_count": 159,
   "metadata": {
    "id": "8603e309-dce7-48e6-ba81-c9efe9dc1cb6"
   },
   "outputs": [
    {
     "data": {
      "text/plain": [
       "'{\"input_data\": [{\"fields\": [\"url\"], \"values\": [[\"https://www.ibm.com/cloud/machine-learning\"], [\"https://en.wikipedia.org/wiki/IBM\"]]}]}'"
      ]
     },
     "execution_count": 159,
     "metadata": {},
     "output_type": "execute_result"
    }
   ],
   "source": [
    "# if using UI for testing, use the following to get right format\n",
    "import json\n",
    "json.dumps(job_payload)"
   ]
  },
  {
   "cell_type": "code",
   "execution_count": 160,
   "metadata": {
    "id": "3d11546c-18c7-4104-be79-003c5fd6a24b"
   },
   "outputs": [],
   "source": [
    "job = client.deployments.create_job(deployment_uid, meta_props=job_payload)"
   ]
  },
  {
   "cell_type": "code",
   "execution_count": 179,
   "metadata": {
    "id": "5c661b0b-541f-4764-894d-13d76b6185dd"
   },
   "outputs": [
    {
     "name": "stdout",
     "output_type": "stream",
     "text": [
      "Output: 2\n"
     ]
    }
   ],
   "source": [
    "import time\n",
    "\n",
    "job_id = client.deployments.get_job_uid(job)\n",
    "\n",
    "elapsed_time = 0\n",
    "while client.deployments.get_job_status(job_id).get('state') != 'completed' and elapsed_time < 300:\n",
    "    elapsed_time += 10\n",
    "    time.sleep(10)\n",
    "if client.deployments.get_job_status(job_id).get('state') == 'completed':\n",
    "    job_details = client.deployments.get_job_details(job_id)\n",
    "    output = job_details['entity'][\"scoring\"]['predictions'][0][\"values\"]\n",
    "    print(f\"Output: {len(output)}\")\n",
    "else:\n",
    "    print(\"Job hasn't completed successfully in 5 minutes.\")"
   ]
  },
  {
   "cell_type": "markdown",
   "metadata": {
    "id": "da9eddfb-b2d6-4a07-9af7-c91570e6bdd0"
   },
   "source": [
    "### check if a batch function could be deployed as online"
   ]
  },
  {
   "cell_type": "code",
   "execution_count": 182,
   "metadata": {
    "id": "180664d8-e2bb-41d4-b6b4-0640919e9f19"
   },
   "outputs": [],
   "source": [
    "deploy_meta = {\n",
    "    client.deployments.ConfigurationMetaNames.NAME: \"Web scraping python function deployment batch as online\",\n",
    "    client.deployments.ConfigurationMetaNames.ONLINE: {},\n",
    "    #client.deployments.ConfigurationMetaNames.BATCH: {},\n",
    "    #client.deployments.ConfigurationMetaNames.HARDWARE_SPEC: {\"name\": \"S\", \"num_nodes\": 1}\n",
    "}"
   ]
  },
  {
   "cell_type": "code",
   "execution_count": 183,
   "metadata": {
    "id": "9a227b1b-f8de-44e2-8ea4-852992f26107"
   },
   "outputs": [
    {
     "name": "stdout",
     "output_type": "stream",
     "text": [
      "\n",
      "\n",
      "#######################################################################################\n",
      "\n",
      "Synchronous deployment creation for uid: 'ca137c4a-2817-484d-a0ff-2a604cf4f6c9' started\n",
      "\n",
      "#######################################################################################\n",
      "\n",
      "\n",
      "initializing...\n",
      "ready\n",
      "\n",
      "\n",
      "------------------------------------------------------------------------------------------------\n",
      "Successfully finished deployment creation, deployment_uid='fa29422f-6b6e-44a9-92ce-1197aba6332a'\n",
      "------------------------------------------------------------------------------------------------\n",
      "\n",
      "\n"
     ]
    }
   ],
   "source": [
    "deployment_details = client.deployments.create(function_uid, meta_props=deploy_meta)"
   ]
  },
  {
   "cell_type": "code",
   "execution_count": 185,
   "metadata": {
    "id": "4e4fb21f-a235-47a8-8ee6-f51aac83b1ff"
   },
   "outputs": [
    {
     "name": "stdout",
     "output_type": "stream",
     "text": [
      "Deployment uid = fa29422f-6b6e-44a9-92ce-1197aba6332a\n"
     ]
    }
   ],
   "source": [
    "# Deployment UID.\n",
    "deployment_uid = client.deployments.get_uid(deployment_details)\n",
    "print('Deployment uid = {}'.format(deployment_uid))"
   ]
  },
  {
   "cell_type": "code",
   "execution_count": 187,
   "metadata": {
    "id": "dfd9990b-cb1d-424c-ae2c-4472061c5196"
   },
   "outputs": [
    {
     "name": "stdout",
     "output_type": "stream",
     "text": [
      "['01',\n",
      " '13',\n",
      " '2020',\n",
      " '2021',\n",
      " '37',\n",
      " 'aberdeen',\n",
      " 'about',\n",
      " 'access',\n",
      " 'across',\n",
      " 'ai']\n"
     ]
    }
   ],
   "source": [
    "job_details = client.deployments.score(\"fa29422f-6b6e-44a9-92ce-1197aba6332a\", job_payload)\n",
    "pprint(job_details['predictions'][0]['values'][0][:10])"
   ]
  },
  {
   "cell_type": "code",
   "execution_count": 188,
   "metadata": {
    "id": "0b15c108-6b0b-4ce2-8dc5-686f5ba34d5e"
   },
   "outputs": [
    {
     "name": "stdout",
     "output_type": "stream",
     "text": [
      "['000', '05', '10', '100', '100th', '101', '102', '103', '104', '105']\n"
     ]
    }
   ],
   "source": [
    "pprint(job_details['predictions'][0]['values'][1][:10])"
   ]
  },
  {
   "cell_type": "code",
   "execution_count": 194,
   "metadata": {
    "id": "71844e98-0c53-4d9f-91f3-62c38a773560"
   },
   "outputs": [
    {
     "name": "stdout",
     "output_type": "stream",
     "text": [
      "{'input_data': [{'fields': ['url'],\n",
      "                 'values': [['https://www.ibm.com/cloud/machine-learning']]}]}\n"
     ]
    }
   ],
   "source": [
    "job_payload = {\n",
    "    client.deployments.ScoringMetaNames.INPUT_DATA: [{\n",
    "        'fields': ['url'],\n",
    "        'values': [\n",
    "            ['https://www.ibm.com/cloud/machine-learning']\n",
    "        ]\n",
    "    }]\n",
    "}\n",
    "pprint(job_payload)"
   ]
  },
  {
   "cell_type": "code",
   "execution_count": 199,
   "metadata": {
    "id": "1b4b36a5-3673-465e-af32-c36b266bbd4d"
   },
   "outputs": [
    {
     "name": "stdout",
     "output_type": "stream",
     "text": [
      "['01',\n",
      " '13',\n",
      " '2020',\n",
      " '2021',\n",
      " '37',\n",
      " 'aberdeen',\n",
      " 'about',\n",
      " 'access',\n",
      " 'across',\n",
      " 'ai']\n"
     ]
    }
   ],
   "source": [
    "job_details = client.deployments.score(\"fa29422f-6b6e-44a9-92ce-1197aba6332a\", job_payload)\n",
    "pprint(job_details['predictions'][0]['values'][0][:10])"
   ]
  },
  {
   "cell_type": "markdown",
   "metadata": {
    "id": "5e3d0eb1-7fc1-4b83-b4a9-d9efe4105f8c"
   },
   "source": [
    "- So a function that can only handle one entry at a time could only be deployed as online, batch wont work.  \n",
    "- If a function can handle entries as batch, then both online and batch should both work. Just need to pay attention to the format of input and output."
   ]
  },
  {
   "cell_type": "markdown",
   "metadata": {
    "id": "7156b930-46e3-4bc8-91ab-1520727d883c"
   },
   "source": [
    "## The following code shows how to make use of custom code in .py files"
   ]
  },
  {
   "cell_type": "code",
   "execution_count": 75,
   "metadata": {
    "id": "f2e7f9ae12f74d9285842a07e869aff8"
   },
   "outputs": [
    {
     "name": "stdout",
     "output_type": "stream",
     "text": [
      "Collecting git+https://github.com/CatherineCao2016/custom_lib.git\n",
      "  Cloning https://github.com/CatherineCao2016/custom_lib.git to /tmp/wsuser/pip-req-build-9b97vzwk\n",
      "  Running command git clone -q https://github.com/CatherineCao2016/custom_lib.git /tmp/wsuser/pip-req-build-9b97vzwk\n",
      "Building wheels for collected packages: custom-lib\n",
      "  Building wheel for custom-lib (setup.py) ... \u001b[?25ldone\n",
      "\u001b[?25h  Created wheel for custom-lib: filename=custom_lib-0.1-py3-none-any.whl size=34559 sha256=d87b2a9f831ca793c15b58dd8c6967d32bf5f7b311caeb7df6337da8fef6f0f3\n",
      "  Stored in directory: /tmp/wsuser/pip-ephem-wheel-cache-gsa5ch35/wheels/d8/0e/ba/fc319ff502868e556965f335d34f08460393e39025aee3b0b8\n",
      "Successfully built custom-lib\n",
      "Installing collected packages: custom-lib\n",
      "Successfully installed custom-lib-0.1\n",
      "Note: you may need to restart the kernel to use updated packages.\n"
     ]
    }
   ],
   "source": [
    "pip install git+https://github.com/CatherineCao2016/custom_lib.git"
   ]
  },
  {
   "cell_type": "code",
   "execution_count": 92,
   "metadata": {
    "id": "42b640b0acd44dc385f78b5227ac1577"
   },
   "outputs": [],
   "source": [
    "from custom_lib import sample_class"
   ]
  },
  {
   "cell_type": "code",
   "execution_count": 94,
   "metadata": {
    "id": "2c64e457dde743d88bc2636348457310"
   },
   "outputs": [],
   "source": [
    "emp = sample_class.Employee(\"Y\", \"C\", \"F\")"
   ]
  },
  {
   "cell_type": "code",
   "execution_count": 95,
   "metadata": {
    "id": "cd8954b963bf470e8afac44eefad0dc4"
   },
   "outputs": [
    {
     "data": {
      "text/plain": [
       "'Y C'"
      ]
     },
     "execution_count": 95,
     "metadata": {},
     "output_type": "execute_result"
    }
   ],
   "source": [
    "emp.fullname()"
   ]
  },
  {
   "cell_type": "code",
   "execution_count": 201,
   "metadata": {
    "id": "52bab62441e34ed58a8b7c092804056d"
   },
   "outputs": [],
   "source": [
    "# adding to deployment"
   ]
  },
  {
   "cell_type": "code",
   "execution_count": 96,
   "metadata": {
    "id": "45539cad70554b01961aa2fe4c7bb164"
   },
   "outputs": [],
   "source": [
    "# Function Metadata.\n",
    "meta_props = {\n",
    "    client.repository.FunctionMetaNames.NAME: \"python function from custom lib\",\n",
    "    client.repository.FunctionMetaNames.SOFTWARE_SPEC_ID:client.software_specifications.get_id_by_name(\"default_py3.7\"),\n",
    "}"
   ]
  },
  {
   "cell_type": "code",
   "execution_count": 130,
   "metadata": {
    "id": "f8086dea17c14cc185c25f102085bb0c"
   },
   "outputs": [],
   "source": [
    "def py_funct(params=py_params):  \n",
    "    try:\n",
    "        # Import the subprocess module.\n",
    "        import subprocess\n",
    "        # Install required packages.\n",
    "        subprocess.check_output('wget https://raw.githubusercontent.com/CatherineCao2016/custom_lib/main/custom_lib/sample_class.py', stderr=subprocess.STDOUT, shell=True)\n",
    "    except subprocess.CalledProcessError as e:        \n",
    "        install_err = 'subprocess.CalledProcessError:\\n\\n' + 'cmd:\\n' + e.cmd + '\\n\\noutput:\\n' + e.output.decode()\n",
    "        raise Exception( 'Installation failed:\\n' + install_err )\n",
    "    \n",
    "    def score(payload):\n",
    "        try:\n",
    "            # Import required modules.\n",
    "            import sample_class\n",
    "\n",
    "            emp = sample_class.Employee(payload['input_data'][0]['values'][0], payload['input_data'][0]['values'][1], payload['input_data'][0]['values'][2])\n",
    "            \n",
    "            return {\"predictions\": [{\"fields\": [\"output\"], \"values\": [emp.fullname()]}]}\n",
    "        except Exception as e:\n",
    "            return {\"predictions\": [{\"error\" : repr(e)}]}\n",
    "        \n",
    "    return score"
   ]
  },
  {
   "cell_type": "code",
   "execution_count": 131,
   "metadata": {
    "id": "e771d705f2524e85812bbe443db96a36"
   },
   "outputs": [
    {
     "name": "stdout",
     "output_type": "stream",
     "text": [
      "Function UID = 50872277-bfb6-4c6e-832b-36c9e431cc14\n"
     ]
    }
   ],
   "source": [
    "#Create the function artifact.\n",
    "function_artifact = client.repository.store_function(meta_props=meta_props, function=py_funct)\n",
    "function_uid = client.repository.get_function_uid(function_artifact)\n",
    "print(\"Function UID = \" + function_uid)"
   ]
  },
  {
   "cell_type": "code",
   "execution_count": 156,
   "metadata": {
    "id": "5749aa52ed704dff82e8cfed2bfbd4ef"
   },
   "outputs": [
    {
     "data": {
      "text/plain": [
       "'SUCCESS'"
      ]
     },
     "execution_count": 156,
     "metadata": {},
     "output_type": "execute_result"
    }
   ],
   "source": [
    "client.deployments.delete(\"e36bbb2f-7227-4c20-9cf2-07f4b788fc02\")"
   ]
  },
  {
   "cell_type": "code",
   "execution_count": 139,
   "metadata": {
    "id": "6c2b0dbca184433a85f72b00cffa6ca2"
   },
   "outputs": [],
   "source": [
    "# Deployment metadata.\n",
    "deploy_meta = {\n",
    "    client.deployments.ConfigurationMetaNames.NAME: \"python function from custom lib deployment\",\n",
    "    client.deployments.ConfigurationMetaNames.ONLINE: {}\n",
    "}"
   ]
  },
  {
   "cell_type": "code",
   "execution_count": 140,
   "metadata": {
    "id": "c7740b008ebe4796a65943892942e300"
   },
   "outputs": [
    {
     "name": "stdout",
     "output_type": "stream",
     "text": [
      "\n",
      "\n",
      "#######################################################################################\n",
      "\n",
      "Synchronous deployment creation for uid: '50872277-bfb6-4c6e-832b-36c9e431cc14' started\n",
      "\n",
      "#######################################################################################\n",
      "\n",
      "\n",
      "initializing..\n",
      "ready\n",
      "\n",
      "\n",
      "------------------------------------------------------------------------------------------------\n",
      "Successfully finished deployment creation, deployment_uid='07df5f1e-f730-4901-ab8a-d98737773c20'\n",
      "------------------------------------------------------------------------------------------------\n",
      "\n",
      "\n"
     ]
    }
   ],
   "source": [
    "deployment_details = client.deployments.create(function_uid, meta_props=deploy_meta)"
   ]
  },
  {
   "cell_type": "code",
   "execution_count": 141,
   "metadata": {
    "id": "766cad474fa9427a96366a448838cee7"
   },
   "outputs": [
    {
     "data": {
      "text/plain": [
       "{'entity': {'asset': {'id': '50872277-bfb6-4c6e-832b-36c9e431cc14'},\n",
       "  'custom': {},\n",
       "  'deployed_asset_type': 'function',\n",
       "  'hardware_spec': {'id': 'Not_Applicable', 'name': 'XXS', 'num_nodes': 1},\n",
       "  'name': 'python function from custom lib deployment',\n",
       "  'online': {},\n",
       "  'space_id': '27f3466c-e5b6-4e88-bd72-6d6570f6d255',\n",
       "  'status': {'online_url': {'url': 'https://internal-nginx-svc:12443/ml/v4/deployments/07df5f1e-f730-4901-ab8a-d98737773c20/predictions'},\n",
       "   'state': 'ready'}},\n",
       " 'metadata': {'created_at': '2021-08-10T17:03:07.126Z',\n",
       "  'id': '07df5f1e-f730-4901-ab8a-d98737773c20',\n",
       "  'modified_at': '2021-08-10T17:03:07.126Z',\n",
       "  'name': 'python function from custom lib deployment',\n",
       "  'owner': '1000331019',\n",
       "  'space_id': '27f3466c-e5b6-4e88-bd72-6d6570f6d255'}}"
      ]
     },
     "execution_count": 141,
     "metadata": {},
     "output_type": "execute_result"
    }
   ],
   "source": [
    "deployment_details"
   ]
  },
  {
   "cell_type": "code",
   "execution_count": 142,
   "metadata": {
    "id": "a3ab89e154b44cfc8b809dc91d21a69b"
   },
   "outputs": [
    {
     "name": "stdout",
     "output_type": "stream",
     "text": [
      "Deployment uid = 07df5f1e-f730-4901-ab8a-d98737773c20\n"
     ]
    }
   ],
   "source": [
    "# Deployment UID.\n",
    "deployment_uid = client.deployments.get_uid(deployment_details)\n",
    "print('Deployment uid = {}'.format(deployment_uid))"
   ]
  },
  {
   "cell_type": "code",
   "execution_count": 101,
   "metadata": {
    "id": "53167069053e4f12ba39caf80cfbe50b"
   },
   "outputs": [
    {
     "name": "stdout",
     "output_type": "stream",
     "text": [
      "{'input_data': [{'fields': ['employee'], 'values': ['Catherine', 'Cao', 'F']}]}\n"
     ]
    }
   ],
   "source": [
    "job_payload = {\n",
    "    client.deployments.ScoringMetaNames.INPUT_DATA: [{\n",
    "        'fields': ['employee'],\n",
    "        'values': [\"Catherine\", \"Cao\", \"F\"\n",
    "            \n",
    "        ]\n",
    "    }]\n",
    "}\n",
    "pprint(job_payload)"
   ]
  },
  {
   "cell_type": "code",
   "execution_count": 144,
   "metadata": {
    "id": "000943dc99394bf8a32d7592e702f9cb"
   },
   "outputs": [
    {
     "name": "stdout",
     "output_type": "stream",
     "text": [
      "['Catherine Cao']\n"
     ]
    }
   ],
   "source": [
    "# Perform prediction and display the result.\n",
    "job_details = client.deployments.score(deployment_uid, job_payload)\n",
    "pprint(job_details['predictions'][0]['values'])"
   ]
  },
  {
   "cell_type": "markdown",
   "metadata": {
    "id": "99c839f2a60747128ee679a8221a6462"
   },
   "source": [
    "# clear playground"
   ]
  },
  {
   "cell_type": "code",
   "execution_count": 212,
   "metadata": {
    "id": "5c93bcff-88f5-4ded-8f3f-b00ea82c1f4d"
   },
   "outputs": [
    {
     "name": "stdout",
     "output_type": "stream",
     "text": [
      "------------------------------------  -------------------------------------------------------  -----  ------------------------\n",
      "GUID                                  NAME                                                     STATE  CREATED\n",
      "fa29422f-6b6e-44a9-92ce-1197aba6332a  Web scraping python function deployment batch as online  ready  2021-08-10T21:59:59.832Z\n",
      "4b9d1226-d0e9-4c14-abfe-f5de97d409eb  Web scraping python function deployment batch            ready  2021-08-10T21:53:22.516Z\n",
      "8e5ff083-2042-4b41-b7e6-22d29593ab3a  UI created batch job                                     ready  2021-08-10T21:47:25.806Z\n",
      "a9908a51-8f09-4468-b55a-b965a13454f9  Web scraping python function deployment batch            ready  2021-08-10T21:39:37.395Z\n",
      "7557268a-1eb2-4bda-9217-a6cdb445b677  Web scraping python function deployment batch            ready  2021-08-10T20:49:48.107Z\n",
      "0f632456-01b9-4afd-ac33-55e2fd711186  Web scraping python function deployment online           ready  2021-08-10T20:43:47.240Z\n",
      "f2e8ee6c-f7c7-44f3-8ee5-d4b491af0741  Web scraping python function deployment demo 2           ready  2021-08-10T20:29:54.403Z\n",
      "506b2c89-4b4e-460b-ae47-0df6e9fddd77  Web scraping python function deployment demo             ready  2021-08-10T20:10:24.628Z\n",
      "ec9b33ef-8938-41a6-b3a9-d0fa7cdf02b8  Web scraping python function deployment                  ready  2021-08-10T19:56:49.184Z\n",
      "07df5f1e-f730-4901-ab8a-d98737773c20  python function from custom lib deployment               ready  2021-08-10T17:03:07.126Z\n",
      "c72ab43f-9e7c-4413-bbc1-cdf8a85762ee  Web scraping python function deployment                  ready  2021-08-10T16:09:13.966Z\n",
      "------------------------------------  -------------------------------------------------------  -----  ------------------------\n"
     ]
    }
   ],
   "source": [
    "client.deployments.list()"
   ]
  },
  {
   "cell_type": "code",
   "execution_count": 213,
   "metadata": {
    "id": "20bb66f1-cb9d-4327-b8d8-63d36291d525"
   },
   "outputs": [],
   "source": [
    "for i in [\"7557268a-1eb2-4bda-9217-a6cdb445b677\", \"ec9b33ef-8938-41a6-b3a9-d0fa7cdf02b8\" ]:\n",
    "    client.deployments.delete(i)"
   ]
  },
  {
   "cell_type": "code",
   "execution_count": 214,
   "metadata": {
    "id": "51b7d951-8b97-418a-bac8-b7450fa197d3"
   },
   "outputs": [
    {
     "name": "stdout",
     "output_type": "stream",
     "text": [
      "------------------------------------  ----------------------------------------------  ------------------------  ------\n",
      "GUID                                  NAME                                            CREATED                   TYPE\n",
      "ca137c4a-2817-484d-a0ff-2a604cf4f6c9  Web scraping python function updated for batch  2021-08-10T21:53:14.002Z  python\n",
      "89b6e63d-dd16-4dbf-a806-813bdef5cf15  Web scraping python function updated for batch  2021-08-10T21:38:43.002Z  python\n",
      "54d5b041-a0f9-44c8-886d-9865b5bc29b4  Web scraping python function demo               2021-08-10T19:48:59.002Z  python\n",
      "50872277-bfb6-4c6e-832b-36c9e431cc14  python function from custom lib                 2021-08-10T17:01:54.002Z  python\n",
      "f4e11908-cbc4-4796-bdc0-439c84e74300  Web scraping python function                    2021-08-10T16:08:09.002Z  python\n",
      "------------------------------------  ----------------------------------------------  ------------------------  ------\n"
     ]
    }
   ],
   "source": [
    "client.repository.list_functions()"
   ]
  },
  {
   "cell_type": "code",
   "execution_count": null,
   "metadata": {
    "id": "b8932543-e29d-4a56-a9f9-91114009cd0d"
   },
   "outputs": [],
   "source": [
    "#client.repository.delete(\"\")"
   ]
  },
  {
   "cell_type": "code",
   "execution_count": null,
   "metadata": {
    "id": "2d02823d-a5aa-4b46-ba3f-1700bab0776a"
   },
   "outputs": [],
   "source": [
    "https://www.ibm.com/support/producthub/icpdata/docs/content/SSQNUZ_latest/wsj/analyze-data/deploy-batch-details.html"
   ]
  }
 ],
 "metadata": {
  "kernelspec": {
   "display_name": "Python 3.8",
   "language": "python",
   "name": "python3"
  },
  "language_info": {
   "codemirror_mode": {
    "name": "ipython",
    "version": 3
   },
   "file_extension": ".py",
   "mimetype": "text/x-python",
   "name": "python",
   "nbconvert_exporter": "python",
   "pygments_lexer": "ipython3",
   "version": "3.8.11"
  }
 },
 "nbformat": 4,
 "nbformat_minor": 4
}
