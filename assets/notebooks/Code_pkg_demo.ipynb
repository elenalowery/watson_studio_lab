{
 "cells": [
  {
   "cell_type": "markdown",
   "id": "parliamentary-dominant",
   "metadata": {
    "id": "3c159c65-632c-4407-b560-0d4f3224b088"
   },
   "source": [
    "# Code Package Demo"
   ]
  },
  {
   "cell_type": "markdown",
   "id": "verified-father",
   "metadata": {
    "id": "9838c22c-d63c-4541-a8c7-737c960cf4c9"
   },
   "source": [
    "A code package is a way of organizing a set of dependent files in a folder structure. \n",
    "\n",
    "Each code package has a main executable file that in turn accesses other files in the code package. For example, a code package can contain a notebook file that calls other notebook files or functions in scripts in the folder structure in a notebook job. See [docs](https://www.ibm.com/docs/en/cloud-paks/cp-data/4.0?topic=integration-code-packages) for more details.\n",
    "\n",
    "Currently, you can use code packages in deployment spaces only. \n",
    "\n",
    "So this notebook shows you an example of how to deploy code packages to Deployment Space using cpdctl tool."
   ]
  },
  {
   "cell_type": "markdown",
   "id": "distributed-effort",
   "metadata": {
    "id": "be01ddf3-67d9-4ecb-a714-bec061baf8a8",
    "tags": []
   },
   "source": [
    "# Table of Contents\n",
    "\n",
    "1. [Install the version v1.1.132 of `cpdctl`](#1)\n",
    "2. [Prepare code package](#2)\n",
    "3. [Upload code package zip file to target space](#3)\n",
    "4. [Create a code package asset](#4)\n",
    "5. [Create a job](#5)\n",
    "6. [Kick off the job](#6)\n",
    "7. [Check the job log](#7)"
   ]
  },
  {
   "cell_type": "markdown",
   "id": "metropolitan-seventh",
   "metadata": {
    "id": "92dc4f30-b697-46e7-9d99-8f6f18a46159"
   },
   "source": [
    "<div class=\"alert alert-block alert-danger\">\n",
    "    \n",
    "\n",
    "1. The code package includes 1 notebook and 3 python scripts: <br>\n",
    "Code_pkg_notebook.ipynb calls data_prep.py for data preparation, then model_build.py for building models, and finally model_deploy.py for model deployment.\n",
    "\n",
    "2. The Code_pkg_demo.ipynb prepares and deploys this code package to deployment space using cpdctl, and create a notebook job for the code_pkg_notebook.ipynb which requires 3 environment variables: <br>\n",
    "    \n",
    "    \n",
    "    *space_name=Customer Attrition Space*  \n",
    "    *model_name=test model*  \n",
    "    *deployment_name=test model deployment*\n",
    "\n",
    "Note: make sure you have promoted [customer_history.csv](./../assets/data_asset/customer_history.csv) to your deployment space.\n",
    "    \n",
    "\n",
    "   \n",
    "</div>"
   ]
  },
  {
   "cell_type": "markdown",
   "id": "flying-harrison",
   "metadata": {
    "id": "32c6b4f1-ac92-43e0-b8a1-e926add45540",
    "tags": []
   },
   "source": [
    "![](./../imgs/code_pkg_demo_workflow.png)"
   ]
  },
  {
   "cell_type": "code",
   "execution_count": 1,
   "id": "clean-sphere",
   "metadata": {
    "id": "0fe1ab48-8a4f-4021-83b7-64a897256331",
    "tags": []
   },
   "outputs": [],
   "source": [
    "import base64\n",
    "import json\n",
    "import os\n",
    "import requests\n",
    "import platform\n",
    "import tarfile\n",
    "import zipfile\n",
    "from IPython.core.display import display, HTML"
   ]
  },
  {
   "cell_type": "markdown",
   "id": "brazilian-productivity",
   "metadata": {
    "id": "98a190e1-1631-4009-91fa-8d94c7631b87",
    "tags": []
   },
   "source": [
    "<a id=\"1\"></a>\n",
    "## 1. Install the version v1.1.132 of `cpdctl`"
   ]
  },
  {
   "cell_type": "code",
   "execution_count": 2,
   "id": "agreed-velvet",
   "metadata": {
    "id": "592a6f7d-8b9f-49e8-9287-1dd8b02aea9c",
    "tags": []
   },
   "outputs": [
    {
     "data": {
      "text/html": [
       "<code>cpdctl</code> binary downloaded from: <a href=\"https://github.com/IBM/cpdctl/releases/download/v1.1.132/cpdctl_linux_amd64.tar.gz\">cpdctl_linux_amd64.tar.gz</a>"
      ],
      "text/plain": [
       "<IPython.core.display.HTML object>"
      ]
     },
     "metadata": {},
     "output_type": "display_data"
    }
   ],
   "source": [
    "PLATFORM = platform.system().lower()\n",
    "CPDCTL_ARCH = \"{}_amd64\".format(PLATFORM)\n",
    "CPDCTL_RELEASES_URL=\"https://api.github.com/repos/IBM/cpdctl/releases\"\n",
    "CWD = os.getcwd()\n",
    "PATH = os.environ['PATH']\n",
    "CPDCONFIG = os.path.join(CWD, '.cpdctl.config.yml')\n",
    "version='v1.1.132'\n",
    "\n",
    "response = requests.get(CPDCTL_RELEASES_URL)\n",
    "asset_version = next(a for a in response.json() if version==a['tag_name'])\n",
    "#assets = response.json()[0]['assets']\n",
    "assets=asset_version['assets']\n",
    "platform_asset = next(a for a in assets if CPDCTL_ARCH in a['name'])\n",
    "cpdctl_url = platform_asset['url']\n",
    "cpdctl_file_name = platform_asset['name']\n",
    "\n",
    "response = requests.get(cpdctl_url, headers={'Accept': 'application/octet-stream'})\n",
    "with open(cpdctl_file_name, 'wb') as f:\n",
    "    f.write(response.content)\n",
    "    \n",
    "display(HTML('<code>cpdctl</code> binary downloaded from: <a href=\"{}\">{}</a>'.format(platform_asset['browser_download_url'], platform_asset['name'])))"
   ]
  },
  {
   "cell_type": "code",
   "execution_count": 3,
   "id": "associate-equity",
   "metadata": {
    "id": "690124e8-8c8f-4cf6-bd1a-9166f1ca1526",
    "tags": []
   },
   "outputs": [],
   "source": [
    "%%capture\n",
    "\n",
    "%env PATH={CWD}:{PATH}\n",
    "%env CPDCONFIG={CPDCONFIG}"
   ]
  },
  {
   "cell_type": "code",
   "execution_count": 4,
   "id": "changing-masters",
   "metadata": {
    "id": "064b0e6e-5c15-4e4b-b7bb-6a24b8a02bb0",
    "tags": []
   },
   "outputs": [
    {
     "name": "stdout",
     "output_type": "stream",
     "text": [
      "cpdctl version: 1.1.132\n"
     ]
    }
   ],
   "source": [
    "if cpdctl_file_name.endswith('tar.gz'):\n",
    "    with tarfile.open(cpdctl_file_name, \"r:gz\") as tar:\n",
    "        tar.extractall()\n",
    "elif cpdctl_file_name.endswith('zip'):\n",
    "    with zipfile.ZipFile(cpdctl_file_name, 'r') as zf:\n",
    "        zf.extractall()\n",
    "\n",
    "if CPDCONFIG and os.path.exists(CPDCONFIG):\n",
    "    os.remove(CPDCONFIG)\n",
    "    \n",
    "version_r = ! cpdctl version\n",
    "CPDCTL_VERSION = version_r.s\n",
    "\n",
    "print(\"cpdctl version: {}\".format(CPDCTL_VERSION))"
   ]
  },
  {
   "cell_type": "markdown",
   "id": "dense-hampton",
   "metadata": {
    "id": "01287523-b345-421f-9316-3bb9efe9035e"
   },
   "source": [
    "<a id=\"2\"></a>\n",
    "## 2. Prepare code package"
   ]
  },
  {
   "cell_type": "code",
   "execution_count": 5,
   "id": "published-immunology",
   "metadata": {
    "id": "2c3bf26d-fb10-4392-a260-9b5aafdd7410",
    "tags": []
   },
   "outputs": [
    {
     "data": {
      "text/plain": [
       "'/userfs/assets/notebooks/code_pkg.zip'"
      ]
     },
     "execution_count": 5,
     "metadata": {},
     "output_type": "execute_result"
    }
   ],
   "source": [
    "# prepare code pkg zip file\n",
    "import shutil\n",
    "shutil.make_archive(\"code_pkg\", 'zip', \"code_pkg\")"
   ]
  },
  {
   "cell_type": "code",
   "execution_count": 6,
   "id": "patent-fiber",
   "metadata": {
    "id": "ef30857b-afa9-4505-ba4d-bfbe2632f62b",
    "tags": []
   },
   "outputs": [],
   "source": [
    "remote_file_path = \"code_package/cpdctl-test-code-package.zip\"\n",
    "local_file_path = \"code_pkg.zip\""
   ]
  },
  {
   "cell_type": "markdown",
   "id": "exempt-persian",
   "metadata": {
    "id": "8c71deef-6e3e-475a-951c-5bc2ee5c59d8"
   },
   "source": [
    "<a id=\"3\"></a>\n",
    "## 3. Upload code package zip file to target space"
   ]
  },
  {
   "cell_type": "code",
   "execution_count": 7,
   "id": "polyphonic-twist",
   "metadata": {
    "id": "01df3c2c-38fb-4843-b200-648db83bf654",
    "tags": []
   },
   "outputs": [],
   "source": [
    "space_id = \"0eaef2ee-dd8a-4292-8c2d-3edcdc0da0d0\""
   ]
  },
  {
   "cell_type": "code",
   "execution_count": 8,
   "id": "interpreted-consideration",
   "metadata": {
    "id": "29cf2353-1086-43a6-9c4e-112c8dc64aa7",
    "tags": []
   },
   "outputs": [
    {
     "name": "stdout",
     "output_type": "stream",
     "text": [
      "...\n",
      "\u001b[32;1mOK\u001b[0m\n"
     ]
    }
   ],
   "source": [
    "! cpdctl asset file upload --path {remote_file_path} --file {local_file_path} --space-id {space_id}"
   ]
  },
  {
   "cell_type": "markdown",
   "id": "internal-accreditation",
   "metadata": {
    "id": "1d417fd4-63e5-445a-b434-3bbc2c488132"
   },
   "source": [
    "<a id=\"4\"></a>\n",
    "## 4. Create a code package asset."
   ]
  },
  {
   "cell_type": "code",
   "execution_count": 9,
   "id": "conceptual-folder",
   "metadata": {
    "id": "a8f7e3e0-3893-45b4-90ac-db99dd618289",
    "tags": []
   },
   "outputs": [],
   "source": [
    "os.environ[\"CPDCTL_ENABLE_CODE_PACKAGE\"] = \"true\""
   ]
  },
  {
   "cell_type": "code",
   "execution_count": 10,
   "id": "beginning-anxiety",
   "metadata": {
    "id": "2d099143-faa1-4886-ace3-937af44ed728",
    "tags": []
   },
   "outputs": [],
   "source": [
    "file_name = \"code-package-demo.zip\""
   ]
  },
  {
   "cell_type": "code",
   "execution_count": 11,
   "id": "necessary-assembly",
   "metadata": {
    "id": "69a963d7-905b-4d5a-8bc2-a38237ae25f3",
    "tags": []
   },
   "outputs": [
    {
     "name": "stdout",
     "output_type": "stream",
     "text": [
      "code package id: e2f1268f-1c25-40f0-986c-6350e5a67613\n"
     ]
    }
   ],
   "source": [
    "# get code_package_id\n",
    "\n",
    "result = ! cpdctl code-package create --file-reference {remote_file_path} --name {file_name} --space-id {space_id} --output json -j \"metadata.asset_id\" --raw-output\n",
    "code_package_id = result.s\n",
    "\n",
    "# or run this to grab code_pkg_id ! cpdctl code-package create --file-reference {remote_file_path} --name {file_name} --space-id {space_id} --output json -j \"metadata.asset_id\" --raw-output\n",
    "\n",
    "#code_package_id = \"4ff4ef99-b1f7-46e6-ab93-163bbc2ee3b3\"\n",
    "print(\"code package id: {}\".format(code_package_id))"
   ]
  },
  {
   "cell_type": "markdown",
   "id": "informative-container",
   "metadata": {
    "id": "59e248b0-9b48-4994-b068-267276f39567"
   },
   "source": [
    "<a id=\"5\"></a>\n",
    "## 5. Create a job"
   ]
  },
  {
   "cell_type": "code",
   "execution_count": 18,
   "id": "lasting-possibility",
   "metadata": {
    "id": "19752b89-0ccc-42ed-aea1-79dea7a384ff",
    "tags": []
   },
   "outputs": [
    {
     "name": "stdout",
     "output_type": "stream",
     "text": [
      "environment id: jupconda38-0eaef2ee-dd8a-4292-8c2d-3edcdc0da0d0\n"
     ]
    }
   ],
   "source": [
    "# get environment id\n",
    "# environment_name = \"IBM Runtime 22.1 on Python 3.9\"\n",
    "environment_name = \"Default Python 3.8\"\n",
    "query_string = \"(resources[?entity.environment.display_name == '{}'].metadata.asset_id)[0]\".format(environment_name)\n",
    "\n",
    "result = ! cpdctl environment list --space-id {space_id} --output json -j \"{query_string}\" --raw-output\n",
    "env_id = result.s\n",
    "print(\"environment id: {}\".format(env_id))"
   ]
  },
  {
   "cell_type": "code",
   "execution_count": 21,
   "id": "legal-complaint",
   "metadata": {
    "id": "0fb6d0a9-455e-4bd4-8450-0b9a60102e9f",
    "tags": []
   },
   "outputs": [],
   "source": [
    "job_name = \"code-package-job-demo1\"\n",
    "job = {\n",
    "    'asset_ref': code_package_id, \n",
    "    'configuration': {\n",
    "        'env_id': env_id, \n",
    "        'env_variables': [\n",
    "            'space_name=Customer%20Attrition%20Space', \n",
    "            'model_name=test%20model',\n",
    "            'deployment_name=test%20model%20deployment'\n",
    "        ],\n",
    "        'entrypoint': \"code_pkg_notebook.ipynb\"\n",
    "    }, \n",
    "    'description': 'my code package job', \n",
    "    'name': job_name\n",
    "}\n",
    "job_json = json.dumps(job)"
   ]
  },
  {
   "cell_type": "code",
   "execution_count": 22,
   "id": "advisory-intellectual",
   "metadata": {
    "id": "71e5a901-9a7f-4afa-b68e-7a1dd7f20675",
    "tags": []
   },
   "outputs": [
    {
     "name": "stdout",
     "output_type": "stream",
     "text": [
      "job id: ae31963e-011e-4eb1-b2ee-8abd1da77bec\n"
     ]
    }
   ],
   "source": [
    "# create the job\n",
    "\n",
    "result = ! cpdctl job create --job '{job_json}' --space-id {space_id} --output json -j \"metadata.asset_id\" --raw-output\n",
    "job_id = result.s\n",
    "print(\"job id: {}\".format(job_id))"
   ]
  },
  {
   "cell_type": "markdown",
   "id": "dress-court",
   "metadata": {
    "id": "66fa1ad6-8fe8-4d6b-8b14-22fb71dcfcf3",
    "tags": []
   },
   "source": [
    "<a id=\"6\"></a>\n",
    "## 6. Kick off the job"
   ]
  },
  {
   "cell_type": "code",
   "execution_count": 23,
   "id": "personal-nightmare",
   "metadata": {
    "id": "82bcf4d1-973c-49ec-a5c5-e2899dfd5249",
    "tags": []
   },
   "outputs": [],
   "source": [
    "# kick off the job\n",
    "\n",
    "job_run = {\n",
    "    'configuration': {\n",
    "        'env_variables': [\n",
    "          'space_name=Customer%20Attrition%20Space', \n",
    "            'model_name=test%20model',\n",
    "            'deployment_name=test%20model%20deployment'\n",
    "        ]\n",
    "    }\n",
    "}\n",
    "job_run_json = json.dumps(job_run)\n",
    "\n",
    "result = ! cpdctl job run create --space-id {space_id} --job-id {job_id} --job-run '{job_run_json}' --output json -j \"metadata.asset_id\" --raw-output\n",
    "run_id = result.s\n",
    "#! cpdctl job run create --space-id \"5ff4a90a-43a3-4b71-9a4a-7c8b3a0c27e5\" --job-id \"e3b5f948-b39d-48c9-ae7e-f2972a573dbd\" --job-run '{job_run_json}' --output json -j \"metadata.asset_id\" --raw-output"
   ]
  },
  {
   "cell_type": "code",
   "execution_count": 24,
   "id": "starting-conference",
   "metadata": {
    "id": "13f30217-7829-4dcc-92e4-8a4e6838f60a",
    "tags": []
   },
   "outputs": [
    {
     "name": "stdout",
     "output_type": "stream",
     "text": [
      "run id: FAILED                      ID:            2c5172ed-7947-4039-9b2e-a467a0cd345f    Name:          Notebook Job    Created:       2022-05-03T14:50:20Z    Description:       State:         Failed    Tags:          []   \n"
     ]
    }
   ],
   "source": [
    "#run_id = \"\"\n",
    "print(\"run id: {}\".format(run_id))"
   ]
  },
  {
   "cell_type": "markdown",
   "id": "super-payday",
   "metadata": {
    "id": "b39f78bf-a637-4f83-8ec3-639f12c5ee37"
   },
   "source": [
    "<a id=\"7\"></a>\n",
    "## 7. Check the job log"
   ]
  },
  {
   "cell_type": "code",
   "execution_count": 25,
   "id": "quantitative-plate",
   "metadata": {
    "id": "0a5b3f3a-c219-45b6-b3a5-a9668f5430e1",
    "tags": []
   },
   "outputs": [
    {
     "name": "stdout",
     "output_type": "stream",
     "text": [
      "...\n",
      "\u001b[31;1mFAILED\u001b[0m\n",
      "\n",
      "\n",
      "\u001b[1m\u001b[0m           \u001b[1m\u001b[0m   \n",
      "\u001b[36;1mCode:\u001b[0m      400   \n",
      "\u001b[36;1mMessage:\u001b[0m   The server cannot or will not process the request due to an apparent client error (e.g. malformed request syntax).   \n",
      "\u001b[36;1mError:\u001b[0m     Bad Request   \n",
      "\u001b[36;1mReason:\u001b[0m    Invalid resource guid format 'runId'   \n"
     ]
    }
   ],
   "source": [
    "# check job log\n",
    "! cpdctl job run logs --job-id {job_id} --run-id {run_id} --space-id {space_id}"
   ]
  },
  {
   "cell_type": "code",
   "execution_count": null,
   "id": "competent-profit",
   "metadata": {
    "id": "5e2a5e8e-a283-4591-9613-9a3a631eb110"
   },
   "outputs": [],
   "source": []
  }
 ],
 "metadata": {
  "kernelspec": {
   "display_name": "Python 3.8",
   "language": "python",
   "name": "python3"
  },
  "language_info": {
   "codemirror_mode": {
    "name": "ipython",
    "version": 3
   },
   "file_extension": ".py",
   "mimetype": "text/x-python",
   "name": "python",
   "nbconvert_exporter": "python",
   "pygments_lexer": "ipython3",
   "version": "3.8.11"
  }
 },
 "nbformat": 4,
 "nbformat_minor": 5
}
