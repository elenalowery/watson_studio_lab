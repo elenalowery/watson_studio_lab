{
 "cells": [
  {
   "cell_type": "code",
   "execution_count": 1,
   "id": "lasting-overall",
   "metadata": {
    "id": "5dfe75a8-7271-467e-9c34-a09aed9e5544",
    "tags": []
   },
   "outputs": [
    {
     "name": "stdout",
     "output_type": "stream",
     "text": [
      "A more common scenario for data scientists is to work on their own notebooks\n"
     ]
    }
   ],
   "source": [
    "print(\"A more common scenario for data scientists is to work on their own notebooks\")"
   ]
  },
  {
   "cell_type": "code",
   "execution_count": null,
   "id": "choice-validation",
   "metadata": {
    "id": "bf221ee4-a56e-4047-bf66-e37a1ff6068d"
   },
   "outputs": [],
   "source": []
  }
 ],
 "metadata": {
  "kernelspec": {
   "display_name": "Python 3.8",
   "language": "python",
   "name": "python3"
  },
  "language_info": {
   "codemirror_mode": {
    "name": "ipython",
    "version": 3
   },
   "file_extension": ".py",
   "mimetype": "text/x-python",
   "name": "python",
   "nbconvert_exporter": "python",
   "pygments_lexer": "ipython3",
   "version": "3.8.11"
  }
 },
 "nbformat": 4,
 "nbformat_minor": 5
}
