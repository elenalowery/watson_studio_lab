{
 "cells": [
  {
   "cell_type": "markdown",
   "metadata": {
    "id": "763e3465-2ef5-4676-8259-43860f53c55d"
   },
   "source": [
    "# CPDCTL Samples for Notebooks and Environments in Spaces"
   ]
  },
  {
   "cell_type": "markdown",
   "metadata": {
    "id": "4d1f933d-208b-490d-8c3f-2265b07e73fb"
   },
   "source": [
    "CPDCTL is a command-line interface (CLI) you can use to manage the lifecycle of notebooks. By using the notebook CLI, you can automate the flow for creating notebooks and running notebook jobs, as well as promoting notebooks from a project to a space.   \n",
    "\n",
    "This notebook begins by showing you how to install and configure CPDCTL and is then split up into three sections with examples of how to use the commands for:\n",
    "\n",
    "- Creating notebooks and running notebook jobs\n",
    "- Creating code packages and running code package jobs\n",
    "- Promoting notebooks from a project to a space"
   ]
  },
  {
   "cell_type": "markdown",
   "metadata": {
    "id": "098ee6f6-1f05-408b-ba89-e5f67d42b142"
   },
   "source": [
    "## Table of Contents"
   ]
  },
  {
   "cell_type": "markdown",
   "metadata": {
    "id": "86c9588b-b8ec-41db-8eaf-cd002a0585b9"
   },
   "source": [
    "[1. Installing and configuring CPDCTL](#part1)\n",
    "- [1.1 Installing the latest version of CPDCTL](#part1.1)\n",
    "- [1.2 Adding CPD cluster configuration settings](#part1.2)\n",
    "\n",
    "[2. Demo 1: Creating a notebook asset and running a job](#part2)\n",
    "- [2.1 Creating a notebook asset](#part2.1)\n",
    "- [2.2 Running a job](#part2.2)\n",
    "\n",
    "[3. Demo 2: Creating a code package asset and running a job](#part3)\n",
    "- [3.1 Creating a code package asset](#part3.1)\n",
    "- [3.2 Running a job](#part3.2)\n",
    "\n",
    "[4. Demo 3: Promoting a notebook from a project to a space](#part4)"
   ]
  },
  {
   "cell_type": "markdown",
   "metadata": {
    "id": "541e54bb-25a9-43b1-a893-488e5be41968"
   },
   "source": [
    "## Before you begin\n",
    "Import the following libraries:"
   ]
  },
  {
   "cell_type": "code",
   "execution_count": 1,
   "metadata": {
    "id": "fe4eb805-a587-4ba9-aac0-b080b9acb390"
   },
   "outputs": [],
   "source": [
    "import base64\n",
    "import json\n",
    "import os\n",
    "import requests\n",
    "import platform\n",
    "import tarfile\n",
    "import zipfile\n",
    "from IPython.core.display import display, HTML"
   ]
  },
  {
   "cell_type": "markdown",
   "metadata": {
    "id": "19ba5a1f-bdd4-4030-9b00-760e1c8324c6"
   },
   "source": [
    "##  1. Installing and configuring CPDCTL <a class=\"anchor\" id=\"part1\"></a>"
   ]
  },
  {
   "cell_type": "markdown",
   "metadata": {
    "id": "895b5d6d-e81b-4027-95d3-c68517ce4d9e"
   },
   "source": [
    "### 1.1 Installing the latest version of CPDCTL <a class=\"anchor\" id=\"part1.1\"></a>"
   ]
  },
  {
   "cell_type": "markdown",
   "metadata": {
    "id": "7360f94e-d350-4009-acaf-96fac0f86216"
   },
   "source": [
    "To use the notebook and environment CLI commands, you need to install CPDCTL. Download the binary from the [CPDCTL GitHub respository](https://github.com/IBM/cpdctl/releases)."
   ]
  },
  {
   "cell_type": "markdown",
   "metadata": {
    "id": "51f11e3d-7ce9-4566-aaa0-b41c2b1dd56b"
   },
   "source": [
    "Download the binary and then display the version number:"
   ]
  },
  {
   "cell_type": "code",
   "execution_count": 2,
   "metadata": {
    "id": "24f8a6c9-685c-4980-bfe2-a335f134ea83"
   },
   "outputs": [
    {
     "data": {
      "text/html": [
       "<code>cpdctl</code> binary downloaded from: <a href=\"https://github.com/IBM/cpdctl/releases/download/v1.0.105/cpdctl_darwin_amd64.tar.gz\">cpdctl_darwin_amd64.tar.gz</a>"
      ],
      "text/plain": [
       "<IPython.core.display.HTML object>"
      ]
     },
     "metadata": {},
     "output_type": "display_data"
    }
   ],
   "source": [
    "PLATFORM = platform.system().lower()\n",
    "CPDCTL_ARCH = \"{}_amd64\".format(PLATFORM)\n",
    "CPDCTL_RELEASES_URL=\"https://api.github.com/repos/IBM/cpdctl/releases\"\n",
    "CWD = os.getcwd()\n",
    "PATH = os.environ['PATH']\n",
    "CPD_CONFIG = os.path.join(CWD, '.cpdctl.config.yml')\n",
    "\n",
    "response = requests.get(CPDCTL_RELEASES_URL)\n",
    "assets = response.json()[0]['assets']\n",
    "platform_asset = next(a for a in assets if CPDCTL_ARCH in a['name'])\n",
    "cpdctl_url = platform_asset['url']\n",
    "cpdctl_file_name = platform_asset['name']\n",
    "        \n",
    "response = requests.get(cpdctl_url, headers={'Accept': 'application/octet-stream'})\n",
    "with open(cpdctl_file_name, 'wb') as f:\n",
    "    f.write(response.content)\n",
    "    \n",
    "display(HTML('<code>cpdctl</code> binary downloaded from: <a href=\"{}\">{}</a>'.format(platform_asset['browser_download_url'], platform_asset['name'])))"
   ]
  },
  {
   "cell_type": "code",
   "execution_count": 3,
   "metadata": {
    "id": "e5c591f4-f2ce-48b3-b496-5c85177c3c82"
   },
   "outputs": [],
   "source": [
    "%%capture\n",
    "\n",
    "%env PATH={CWD}:{PATH}\n",
    "%env CPD_CONFIG={CPD_CONFIG}"
   ]
  },
  {
   "cell_type": "code",
   "execution_count": 4,
   "metadata": {
    "id": "c553c9dd-c425-4bee-b7db-2f0e10f6cbb4"
   },
   "outputs": [
    {
     "name": "stdout",
     "output_type": "stream",
     "text": [
      "cpdctl version: 1.0.105\n"
     ]
    }
   ],
   "source": [
    "if cpdctl_file_name.endswith('tar.gz'):\n",
    "    with tarfile.open(cpdctl_file_name, \"r:gz\") as tar:\n",
    "        tar.extractall()\n",
    "elif cpdctl_file_name.endswith('zip'):\n",
    "    with zipfile.ZipFile(cpdctl_file_name, 'r') as zf:\n",
    "        zf.extractall()\n",
    "\n",
    "if CPD_CONFIG and os.path.exists(CPD_CONFIG):\n",
    "    os.remove(CPD_CONFIG)\n",
    "    \n",
    "version_r = ! cpdctl version\n",
    "CPDCTL_VERSION = version_r.s\n",
    "\n",
    "print(\"cpdctl version: {}\".format(CPDCTL_VERSION))"
   ]
  },
  {
   "cell_type": "markdown",
   "metadata": {
    "id": "069204dc-308a-4dbb-8b50-d173dddfd448"
   },
   "source": [
    "### 1.2  Adding CPD cluster configuration settings <a class=\"anchor\" id=\"part1.2\"></a>"
   ]
  },
  {
   "cell_type": "markdown",
   "metadata": {
    "id": "f8931550-d65c-4390-b295-faf0e334a8e2"
   },
   "source": [
    "Before you can use CPDCTL, you need to add configuration settings. You only need to configure these settings once for the same IBM Cloud Pak for Data (CPD) user and cluster. Begin by entering your CPD credentials and the URL to the CPD cluster:"
   ]
  },
  {
   "cell_type": "code",
   "execution_count": 5,
   "metadata": {
    "id": "5e902cd5-cdff-40e5-999a-04f69f6d339a"
   },
   "outputs": [],
   "source": [
    "CPD_USER_NAME = #'YOUR CPD user name'\n",
    "CPD_USER_PASSWORD = #'YOUR CPD user password'\n",
    "CPD_URL = #'YOUR CPD CLUSTER URL'"
   ]
  },
  {
   "cell_type": "markdown",
   "metadata": {
    "id": "7ff90bd0-79c5-4076-bcfb-c3e941025a83"
   },
   "source": [
    "Add \"cpd_user\" user to the cpdctl configuration:"
   ]
  },
  {
   "cell_type": "code",
   "execution_count": 6,
   "metadata": {
    "id": "a29d0b7e-dd8a-4f6b-8496-2553f93d6368"
   },
   "outputs": [],
   "source": [
    "! cpdctl config user set cpd_user --username {CPD_USER_NAME} --password {CPD_USER_PASSWORD}"
   ]
  },
  {
   "cell_type": "markdown",
   "metadata": {
    "id": "823826e5-afd8-4e2a-99fc-1c933c4dd1a9"
   },
   "source": [
    "Add \"cpd\" cluster to the cpdctl configuration:"
   ]
  },
  {
   "cell_type": "code",
   "execution_count": 7,
   "metadata": {
    "id": "a6473e69-3630-49a3-8489-4abf2770ba40"
   },
   "outputs": [],
   "source": [
    "! cpdctl config profile set cpd --url {CPD_URL}"
   ]
  },
  {
   "cell_type": "markdown",
   "metadata": {
    "id": "986f9f2e-b767-4e32-8f47-38240b7ecc37"
   },
   "source": [
    "Add \"cpd\" context to the cpdctl configuration:"
   ]
  },
  {
   "cell_type": "code",
   "execution_count": 8,
   "metadata": {
    "id": "228efff4-a0f1-4d03-8c3d-daaf91dd5623"
   },
   "outputs": [],
   "source": [
    "! cpdctl config context set cpd --profile cpd --user cpd_user"
   ]
  },
  {
   "cell_type": "markdown",
   "metadata": {
    "id": "788de7b5-82e5-4302-8d8b-aabda480e532"
   },
   "source": [
    "List available contexts:"
   ]
  },
  {
   "cell_type": "code",
   "execution_count": 9,
   "metadata": {
    "id": "09609b5e-dabb-41c7-b703-6199b107a6f7"
   },
   "outputs": [
    {
     "name": "stdout",
     "output_type": "stream",
     "text": [
      "\u001b[1mName\u001b[0m   \u001b[1mProfile\u001b[0m   \u001b[1mUser\u001b[0m       \u001b[1mCurrent\u001b[0m   \n",
      "\u001b[36;1mcpd\u001b[0m    cpd       cpd_user   *   \n"
     ]
    }
   ],
   "source": [
    "! cpdctl config context list"
   ]
  },
  {
   "cell_type": "markdown",
   "metadata": {
    "id": "93867c97-8bad-473e-bb0f-851c3f0d2be4"
   },
   "source": [
    "Switch to the context you just created if it is not marked in the `Current` column:"
   ]
  },
  {
   "cell_type": "code",
   "execution_count": 10,
   "metadata": {
    "id": "d9071d98-2a38-4ed8-9216-81948b9cf4de"
   },
   "outputs": [
    {
     "name": "stdout",
     "output_type": "stream",
     "text": [
      "Switched to context \"cpd\".\n"
     ]
    }
   ],
   "source": [
    "! cpdctl config context use cpd"
   ]
  },
  {
   "cell_type": "markdown",
   "metadata": {
    "id": "17cf7f8e-44e9-457b-b1e2-b812e2c82e1a"
   },
   "source": [
    "List available spaces in context:"
   ]
  },
  {
   "cell_type": "code",
   "execution_count": 11,
   "metadata": {
    "id": "b6ba5d97-a3b7-4bc6-b32d-4cb86ecc2f89"
   },
   "outputs": [
    {
     "name": "stdout",
     "output_type": "stream",
     "text": [
      "...\n",
      "\u001b[1mID\u001b[0m                                     \u001b[1mName\u001b[0m         \u001b[1mCreated\u001b[0m                    \u001b[1mDescription\u001b[0m   \u001b[1mState\u001b[0m    \u001b[1mTags\u001b[0m   \n",
      "\u001b[36;1m0f9bb565-a7d8-409b-baaf-5a56cd343155\u001b[0m   test_space   2021-05-17T13:52:54.619Z                 active   []   \n"
     ]
    }
   ],
   "source": [
    "! cpdctl space list"
   ]
  },
  {
   "cell_type": "markdown",
   "metadata": {
    "id": "7679bdf5-336d-4559-ab87-b4bcafcf269f"
   },
   "source": [
    "Choose the space in which you want to work:"
   ]
  },
  {
   "cell_type": "code",
   "execution_count": 12,
   "metadata": {
    "id": "4bc57103-d035-4f23-be5f-da597920ded2"
   },
   "outputs": [
    {
     "name": "stdout",
     "output_type": "stream",
     "text": [
      "space id: 0f9bb565-a7d8-409b-baaf-5a56cd343155\n"
     ]
    }
   ],
   "source": [
    "result = ! cpdctl space list --output json -j \"(resources[].metadata.id)[0]\" --raw-output\n",
    "space_id = result.s\n",
    "print(\"space id: {}\".format(space_id))\n",
    "\n",
    "# You can also specify your space id directly:\n",
    "# space_id = \"Your space ID\""
   ]
  },
  {
   "cell_type": "markdown",
   "metadata": {
    "id": "3a4d5c3f-4b66-4fd8-b86c-1d66c2a0b9c5"
   },
   "source": [
    "## 2. Demo 1: Creating a notebook asset and running a job <a class=\"anchor\" id=\"part2\"></a>"
   ]
  },
  {
   "cell_type": "markdown",
   "metadata": {
    "id": "719b5049-f67f-4d14-bf18-ef57ae496ae2"
   },
   "source": [
    "Before starting with this section, ensure that you have run the cells in [Section 1](#part1) and specified the ID of the space in which you will work."
   ]
  },
  {
   "cell_type": "markdown",
   "metadata": {
    "id": "a6f4890a-c9ec-4613-a0f2-66ef02dfe8c5"
   },
   "source": [
    "Suppose you have a Jupyter Notebook (.ipynb) file on your local system and you would like to run the code in the file as a job on a CPD cluster. This section shows you how to create a notebook asset and run a job on a CPD cluster. "
   ]
  },
  {
   "cell_type": "markdown",
   "metadata": {
    "id": "85ae008e-431e-460f-a069-e218d44073ad"
   },
   "source": [
    "### 2.1 Creating a notebook asset<a class=\"anchor\" id=\"part2.1\"></a>"
   ]
  },
  {
   "cell_type": "markdown",
   "metadata": {
    "id": "d908010d-54c5-4d86-b650-78ff8d9505da"
   },
   "source": [
    "First of all, you need to create a notebook asset in your space. To create a notebook asset you need to specify:\n",
    "- The environment in which your notebook is to run\n",
    "- A notebook file (.ipynb)."
   ]
  },
  {
   "cell_type": "markdown",
   "metadata": {
    "id": "46a6c16b-4bfe-4bce-956e-e586243eb97c"
   },
   "source": [
    "List all the environments in your space, filter them by their display name and get the ID of the environment in which your notebook will be run:"
   ]
  },
  {
   "cell_type": "code",
   "execution_count": 13,
   "metadata": {
    "id": "e80a54b9-493c-4dbb-90c7-40da77842b98"
   },
   "outputs": [],
   "source": [
    "environment_name = \"Default Python 3.8\"\n",
    "query_string = \"(resources[?entity.environment.display_name == '{}'].metadata.asset_id)[0]\".format(environment_name)"
   ]
  },
  {
   "cell_type": "code",
   "execution_count": 14,
   "metadata": {
    "id": "b3ce1bd3-847e-4aa9-aef8-d3738ade30ac"
   },
   "outputs": [
    {
     "name": "stdout",
     "output_type": "stream",
     "text": [
      "environment id: jupconda38-0f9bb565-a7d8-409b-baaf-5a56cd343155\n"
     ]
    }
   ],
   "source": [
    "result = ! cpdctl environment list --space-id {space_id} --output json -j \"{query_string}\" --raw-output\n",
    "env_id = result.s\n",
    "print(\"environment id: {}\".format(env_id))\n",
    "\n",
    "# You can also specify your environment id directly:\n",
    "# env_id = \"Your environment ID\""
   ]
  },
  {
   "cell_type": "markdown",
   "metadata": {
    "id": "a6427540-59bf-4a3a-865e-ab381b7e494d"
   },
   "source": [
    "Upload the .ipynb file:"
   ]
  },
  {
   "cell_type": "code",
   "execution_count": 15,
   "metadata": {
    "id": "330b7e1a-b45a-4da0-b313-d605f6f474ae"
   },
   "outputs": [],
   "source": [
    "remote_file_path = \"notebook/cpdctl-test-notebook.ipynb\"\n",
    "local_file_path = \"cpdctl-test-notebook.ipynb\""
   ]
  },
  {
   "cell_type": "code",
   "execution_count": 16,
   "metadata": {
    "id": "2e3008c5-9470-4c0c-9905-a539969bb9f8"
   },
   "outputs": [
    {
     "name": "stdout",
     "output_type": "stream",
     "text": [
      "...\n",
      "\u001b[32;1mOK\u001b[0m\n"
     ]
    }
   ],
   "source": [
    "! cpdctl asset file upload --path {remote_file_path} --file {local_file_path} --space-id {space_id}"
   ]
  },
  {
   "cell_type": "markdown",
   "metadata": {
    "id": "7599eb93-5a14-4183-83b6-23c8d9bf25c4"
   },
   "source": [
    "Create a notebook asset:"
   ]
  },
  {
   "cell_type": "code",
   "execution_count": 17,
   "metadata": {
    "id": "02b8b23b-c349-466f-a426-ba9a973ba75c"
   },
   "outputs": [],
   "source": [
    "file_name = \"cpdctl-test-notebook.ipynb\"\n",
    "runtime = {\n",
    "    'environment': env_id\n",
    "}\n",
    "runtime_json = json.dumps(runtime)"
   ]
  },
  {
   "cell_type": "code",
   "execution_count": 18,
   "metadata": {
    "id": "7ac5531a-6be2-4be9-9902-c29d888c797c"
   },
   "outputs": [
    {
     "name": "stdout",
     "output_type": "stream",
     "text": [
      "notebook id: d666abb7-969b-4e05-b2fe-0f263b319e86\n"
     ]
    }
   ],
   "source": [
    "result = ! cpdctl notebook create --file-reference {remote_file_path} --name {file_name} --space {space_id} --runtime '{runtime_json}' --output json -j \"metadata.asset_id\" --raw-output\n",
    "notebook_id = result.s\n",
    "print(\"notebook id: {}\".format(notebook_id))"
   ]
  },
  {
   "cell_type": "markdown",
   "metadata": {
    "id": "b629a791-3fec-489a-8bd9-357be8ba0cc3"
   },
   "source": [
    "### 2.2 Running a job <a class=\"anchor\" id=\"part2.2\"></a>"
   ]
  },
  {
   "cell_type": "markdown",
   "metadata": {
    "id": "60842b3b-ab72-46ab-bf25-4f3d9b909f8b"
   },
   "source": [
    "To create a notebook job, you need to give your job a name, add a description, and pass the notebook ID and environment ID you determined in [2.1](#part2.1). Additionally, you can add environment variables that will be used in your notebook:"
   ]
  },
  {
   "cell_type": "code",
   "execution_count": 19,
   "metadata": {
    "id": "287ecd42-4c5d-4620-ab97-da37f9395ba2"
   },
   "outputs": [],
   "source": [
    "job_name = \"cpdctl-test-job\"\n",
    "job = {\n",
    "    'asset_ref': notebook_id, \n",
    "    'configuration': {\n",
    "        'env_id': env_id, \n",
    "        'env_variables': [\n",
    "            'foo=1', \n",
    "            'bar=2'\n",
    "        ]\n",
    "    }, \n",
    "    'description': 'my job', \n",
    "    'name': job_name\n",
    "}\n",
    "job_json = json.dumps(job)"
   ]
  },
  {
   "cell_type": "code",
   "execution_count": 20,
   "metadata": {
    "id": "9a3f7a54-9e80-483d-b68a-1b67ca97bb85"
   },
   "outputs": [
    {
     "name": "stdout",
     "output_type": "stream",
     "text": [
      "job id: 7c1216dc-fc35-4cb5-bac5-c56cf25edd12\n"
     ]
    }
   ],
   "source": [
    "result = ! cpdctl job create --job '{job_json}' --space-id {space_id} --output json -j \"metadata.asset_id\" --raw-output\n",
    "job_id = result.s\n",
    "print(\"job id: {}\".format(job_id))"
   ]
  },
  {
   "cell_type": "markdown",
   "metadata": {
    "id": "ef4b823b-2080-4a36-9391-d54a493acece"
   },
   "source": [
    "Run a notebook job:"
   ]
  },
  {
   "cell_type": "code",
   "execution_count": 21,
   "metadata": {
    "id": "0c981dbe-7075-4518-8666-85a5573638ef"
   },
   "outputs": [],
   "source": [
    "job_run = {\n",
    "    'configuration': {\n",
    "        'env_variables': [\n",
    "            'key1=value1', \n",
    "            'key2=value2'\n",
    "        ]\n",
    "    }\n",
    "}\n",
    "job_run_json = json.dumps(job_run)"
   ]
  },
  {
   "cell_type": "code",
   "execution_count": 22,
   "metadata": {
    "id": "cf2d8e6a-e481-48b2-b0a6-8a32b991ba7b"
   },
   "outputs": [
    {
     "name": "stdout",
     "output_type": "stream",
     "text": [
      "run id: 04135925-a097-4d95-af74-888cdc0bb735\n"
     ]
    }
   ],
   "source": [
    "result = ! cpdctl job run create --space-id {space_id} --job-id {job_id} --job-run '{job_run_json}' --output json -j \"metadata.asset_id\" --raw-output\n",
    "run_id = result.s\n",
    "print(\"run id: {}\".format(run_id))"
   ]
  },
  {
   "cell_type": "markdown",
   "metadata": {
    "id": "80105ea9-7212-4eb5-bb38-38cf74c576dd"
   },
   "source": [
    "You can see the output of each cell in your .ipynb file by listing job run logs:"
   ]
  },
  {
   "cell_type": "code",
   "execution_count": 23,
   "metadata": {
    "id": "2bed7289-df5a-4557-9de2-1e0c9f68066b",
    "scrolled": true
   },
   "outputs": [
    {
     "name": "stdout",
     "output_type": "stream",
     "text": [
      "...\n",
      "\n",
      "Cell 1:\n",
      "0\n",
      "1\n",
      "4\n",
      "9\n",
      "16\n",
      "\n",
      "\n"
     ]
    }
   ],
   "source": [
    "! cpdctl job run logs --job-id {job_id} --run-id {run_id} --space-id {space_id}"
   ]
  },
  {
   "cell_type": "markdown",
   "metadata": {
    "id": "87ad8e7d-4aea-4531-aed7-8cea261c33e4"
   },
   "source": [
    "## 3. Demo 2: Creating a code package asset and running a job <a class=\"anchor\" id=\"part3\"></a>"
   ]
  },
  {
   "cell_type": "markdown",
   "metadata": {
    "id": "9aeba153-92b9-44a9-8fd3-0797b304a30e"
   },
   "source": [
    "Before starting with this section, ensure that you have run the cells in [Section 1](#part1) and specified the ID of the space in which you will work."
   ]
  },
  {
   "cell_type": "markdown",
   "metadata": {
    "id": "c8758f64-b35f-4abe-8b8e-e4b31ae2d7c1"
   },
   "source": [
    "A code package is a way of organizing a set of dependent files in a folder structure. For example, a code package can contain a notebook file that calls other notebook files or functions in script files."
   ]
  },
  {
   "cell_type": "markdown",
   "metadata": {
    "id": "655ef099-e882-4716-9e58-115f62e0295d"
   },
   "source": [
    "Suppose you have a ZIP file of this folder structure on your local system and would like to run the code in the folder as a job on a CPD cluster. This section shows you how to create and register a code package asset in a deployment space and run the files in the code package asset as a job."
   ]
  },
  {
   "cell_type": "markdown",
   "metadata": {
    "id": "aa89cdec-cfd2-425f-bdf9-7b827fcf1a6c"
   },
   "source": [
    "### 3.1 Creating a code package asset<a class=\"anchor\" id=\"part3.1\"></a>"
   ]
  },
  {
   "cell_type": "markdown",
   "metadata": {
    "id": "6049af0e-2b58-4b0f-ade6-f83edcf47d94"
   },
   "source": [
    "Upload the .zip file:"
   ]
  },
  {
   "cell_type": "code",
   "execution_count": 26,
   "metadata": {
    "id": "c9007201-f7d3-4b4c-a816-dfd27f40e04b"
   },
   "outputs": [],
   "source": [
    "remote_file_path = \"code_package/cpdctl-test-code-package.zip\"\n",
    "local_file_path = \"cpdctl-test-code-package.zip\""
   ]
  },
  {
   "cell_type": "code",
   "execution_count": 27,
   "metadata": {
    "id": "8d930117-4800-4dd3-bcc3-e81b11854f38"
   },
   "outputs": [
    {
     "name": "stdout",
     "output_type": "stream",
     "text": [
      "...\n",
      "\u001b[32;1mOK\u001b[0m\n"
     ]
    }
   ],
   "source": [
    "! cpdctl asset file upload --path {remote_file_path} --file {local_file_path} --space-id {space_id}"
   ]
  },
  {
   "cell_type": "markdown",
   "metadata": {
    "id": "c5e78b4e-b1c8-45a6-97a0-8f34f88a5beb"
   },
   "source": [
    "Create a code package asset. The code package asset has the same name as the ZIP file."
   ]
  },
  {
   "cell_type": "code",
   "execution_count": 39,
   "metadata": {
    "id": "5a0c6552-d0ee-42e4-bea6-cacab7bbd409"
   },
   "outputs": [],
   "source": [
    "os.environ[\"CPDCTL_ENABLE_CODE_PACKAGE\"] = \"true\""
   ]
  },
  {
   "cell_type": "code",
   "execution_count": 41,
   "metadata": {
    "id": "35e9b995-f5c8-4363-b682-d80d4c4376c5"
   },
   "outputs": [],
   "source": [
    "file_name = \"cpdctl-test-code-package.zip\""
   ]
  },
  {
   "cell_type": "code",
   "execution_count": 43,
   "metadata": {
    "id": "217dd57d-c93e-4dd6-8f86-68d994051891"
   },
   "outputs": [
    {
     "name": "stdout",
     "output_type": "stream",
     "text": [
      "code package id: 5b81c35c-4ccd-4090-993e-62cf5f6dd6d7\n"
     ]
    }
   ],
   "source": [
    "result = ! cpdctl code-package create --file-reference {remote_file_path} --name {file_name} --space-id {space_id} --output json -j \"metadata.asset_id\" --raw-output\n",
    "code_package_id = result.s\n",
    "print(\"code package id: {}\".format(code_package_id))"
   ]
  },
  {
   "cell_type": "markdown",
   "metadata": {
    "id": "9b8e7e2d-e647-4431-b5ad-77eacfa67250"
   },
   "source": [
    "### 3.2 Running a job <a class=\"anchor\" id=\"part3.2\"></a>"
   ]
  },
  {
   "cell_type": "markdown",
   "metadata": {
    "id": "e30d7073-5bf7-4f56-8e3f-deda07443a7c"
   },
   "source": [
    "List all the environments in your space, filter them by their display name and get the ID of the environment in which your code package will be run:"
   ]
  },
  {
   "cell_type": "code",
   "execution_count": 44,
   "metadata": {
    "id": "21bc5a56-fd54-46d4-8e6f-34dd805071e5"
   },
   "outputs": [],
   "source": [
    "environment_name = \"Default Python 3.8\"\n",
    "query_string = \"(resources[?entity.environment.display_name == '{}'].metadata.asset_id)[0]\".format(environment_name)"
   ]
  },
  {
   "cell_type": "code",
   "execution_count": 45,
   "metadata": {
    "id": "c1fb9b50-2a9b-4a21-a1a0-660683b527f0"
   },
   "outputs": [
    {
     "name": "stdout",
     "output_type": "stream",
     "text": [
      "environment id: jupconda38-0f9bb565-a7d8-409b-baaf-5a56cd343155\n"
     ]
    }
   ],
   "source": [
    "result = ! cpdctl environment list --space-id {space_id} --output json -j \"{query_string}\" --raw-output\n",
    "env_id = result.s\n",
    "print(\"environment id: {}\".format(env_id))\n",
    "\n",
    "# You can also specify your environment id directly:\n",
    "# env_id = \"Your environment ID\""
   ]
  },
  {
   "cell_type": "markdown",
   "metadata": {
    "id": "ec50988e-bdc9-4925-bef7-911a410f0c2a"
   },
   "source": [
    "To create a code package job, you need to give your job a name, add a description, set an entrypoint and pass the code package ID and the environment ID. Additionally, you can add environment variables that will be used in your notebook:"
   ]
  },
  {
   "cell_type": "code",
   "execution_count": 46,
   "metadata": {
    "id": "3afe1dbe-0809-4d42-bbc1-8dd6f4becf38"
   },
   "outputs": [],
   "source": [
    "job_name = \"cpdctl-test-code-package-job\"\n",
    "job = {\n",
    "    'asset_ref': code_package_id, \n",
    "    'configuration': {\n",
    "        'env_id': env_id, \n",
    "        'env_variables': [\n",
    "            'foo=1', \n",
    "            'bar=2'\n",
    "        ],\n",
    "        'entrypoint': \"test.ipynb\"\n",
    "    }, \n",
    "    'description': 'my code package job', \n",
    "    'name': job_name\n",
    "}\n",
    "job_json = json.dumps(job)"
   ]
  },
  {
   "cell_type": "code",
   "execution_count": 47,
   "metadata": {
    "id": "9ba2ae6f-1aaf-46d7-acda-89ad637698e0"
   },
   "outputs": [
    {
     "name": "stdout",
     "output_type": "stream",
     "text": [
      "job id: 6506e20b-33a6-4e80-9468-4982b046fb5d\n"
     ]
    }
   ],
   "source": [
    "result = ! cpdctl job create --job '{job_json}' --space-id {space_id} --output json -j \"metadata.asset_id\" --raw-output\n",
    "job_id = result.s\n",
    "print(\"job id: {}\".format(job_id))"
   ]
  },
  {
   "cell_type": "markdown",
   "metadata": {
    "id": "f4c1c749-e8cf-496d-bd55-f8d0d6a45072"
   },
   "source": [
    "Run a code packge job:"
   ]
  },
  {
   "cell_type": "code",
   "execution_count": 48,
   "metadata": {
    "id": "e9d9f74a-5811-450a-b1d7-eddee239f17e"
   },
   "outputs": [],
   "source": [
    "job_run = {\n",
    "    'configuration': {\n",
    "        'env_variables': [\n",
    "            'key1=value1', \n",
    "            'key2=value2'\n",
    "        ]\n",
    "    }\n",
    "}\n",
    "job_run_json = json.dumps(job_run)"
   ]
  },
  {
   "cell_type": "code",
   "execution_count": 49,
   "metadata": {
    "id": "d5710974-8435-436e-a0a0-e76c6a73cc95"
   },
   "outputs": [
    {
     "name": "stdout",
     "output_type": "stream",
     "text": [
      "run id: 42c620cb-834a-46d2-b262-1a15d77fc687\n"
     ]
    }
   ],
   "source": [
    "result = ! cpdctl job run create --space-id {space_id} --job-id {job_id} --job-run '{job_run_json}' --output json -j \"metadata.asset_id\" --raw-output\n",
    "run_id = result.s\n",
    "print(\"run id: {}\".format(run_id))"
   ]
  },
  {
   "cell_type": "markdown",
   "metadata": {
    "id": "216a4d77-23e7-40a1-8d5c-1dc6f309e490"
   },
   "source": [
    "You can see the output of each cell in your .ipynb file by listing job run logs:"
   ]
  },
  {
   "cell_type": "code",
   "execution_count": 50,
   "metadata": {
    "id": "805cee6b-b99c-43c6-b48a-3b33e8d0c0f4",
    "scrolled": true
   },
   "outputs": [
    {
     "name": "stdout",
     "output_type": "stream",
     "text": [
      "...\n",
      "\n",
      "Cell 1:\n",
      "0\n",
      "1\n",
      "2\n",
      "3\n",
      "4\n",
      "\n",
      "\n"
     ]
    }
   ],
   "source": [
    "! cpdctl job run logs --job-id {job_id} --run-id {run_id} --space-id {space_id}"
   ]
  },
  {
   "cell_type": "markdown",
   "metadata": {
    "id": "0668c32b-b13b-41ef-9947-9d0491d605ce"
   },
   "source": [
    "## 4. Demo 3: Promoting a notebook from a project to a space <a class=\"anchor\" id=\"part4\"></a>"
   ]
  },
  {
   "cell_type": "markdown",
   "metadata": {
    "id": "a92020a3-e0ab-45ca-81f3-61eed03573ad"
   },
   "source": [
    "Before starting with this section, ensure that you have run the cells in [Section 1](#part1) and specified the ID of the space in which you will work."
   ]
  },
  {
   "cell_type": "markdown",
   "metadata": {
    "id": "5b450ff2-23b2-42c3-8133-a6423e487b94"
   },
   "source": [
    "Suppose you have a notebook in a project and would like to promote a specific version of this notebook to a space. This section shows you how to promote a notebook from a project to a space on a CPD cluster."
   ]
  },
  {
   "cell_type": "markdown",
   "metadata": {
    "id": "7c50566b-1f6d-4109-80cf-ee49dc482ec3"
   },
   "source": [
    "Choose a project from which you will promote your notebook:"
   ]
  },
  {
   "cell_type": "code",
   "execution_count": 51,
   "metadata": {
    "id": "c72fb005-2050-4ac2-9848-286c3f8ddbab"
   },
   "outputs": [
    {
     "name": "stdout",
     "output_type": "stream",
     "text": [
      "project id: 0f5a1f58-7fdc-4a34-ad75-28c5b122758a\n"
     ]
    }
   ],
   "source": [
    "result = ! cpdctl project list --output json -j \"(resources[].metadata.guid)[0]\" --raw-output\n",
    "project_id = result.s\n",
    "print(\"project id: {}\".format(project_id))\n",
    "\n",
    "# You can also specify your project id directly:\n",
    "# project_id = \"Your project ID\""
   ]
  },
  {
   "cell_type": "markdown",
   "metadata": {
    "id": "eb783b60-be0a-45b3-91ff-af761eb70afe"
   },
   "source": [
    "Specify the notebook you would like to promote:"
   ]
  },
  {
   "cell_type": "code",
   "execution_count": 52,
   "metadata": {
    "id": "91b16858-8f55-436a-9c23-1269d0e6270a"
   },
   "outputs": [
    {
     "name": "stdout",
     "output_type": "stream",
     "text": [
      "notebook id in project: 8ead5d49-0a5d-4325-9017-996c3bf40245\n"
     ]
    }
   ],
   "source": [
    "result = ! cpdctl asset search --type-name notebook --query \"asset.asset_type:notebook\" --project-id {project_id} --output json -j \"(results[].metadata.asset_id)[0]\" --raw-output\n",
    "notebook_id_in_project = result.s\n",
    "print(\"notebook id in project: {}\".format(notebook_id_in_project))\n",
    "\n",
    "# You can also specify your notebook id in project directly:\n",
    "# notebook_id_in_project = \"Your notebook ID in project\""
   ]
  },
  {
   "cell_type": "markdown",
   "metadata": {
    "id": "c3382a84-3286-4309-9320-d4c1028894b6"
   },
   "source": [
    "Create a version for your notebook if it has not any version and get its corresponding revision id:"
   ]
  },
  {
   "cell_type": "code",
   "execution_count": 58,
   "metadata": {
    "id": "d191cc74-fe35-4f4d-8fdb-8e9150e5fe30"
   },
   "outputs": [
    {
     "name": "stdout",
     "output_type": "stream",
     "text": [
      "revision id: 7\n"
     ]
    }
   ],
   "source": [
    "result = ! cpdctl notebook version create --notebook-id {notebook_id_in_project} --output json -j \"entity.rev_id\" --raw-output\n",
    "revision_id = result.s\n",
    "print(\"revision id: {}\".format(revision_id))"
   ]
  },
  {
   "cell_type": "markdown",
   "metadata": {
    "id": "f76c353a-121b-4aa4-bae0-438e28e84504"
   },
   "source": [
    "Or specify an existing revision of the notebook:"
   ]
  },
  {
   "cell_type": "code",
   "execution_count": 59,
   "metadata": {
    "id": "f3156a3a-a4c4-40d8-9c1f-825ea7e69b2b"
   },
   "outputs": [
    {
     "name": "stdout",
     "output_type": "stream",
     "text": [
      "revision id: 7\n"
     ]
    }
   ],
   "source": [
    "result = ! cpdctl notebook version list --notebook-id {notebook_id_in_project} --output json -j \"(resources[].entity.rev_id)[0]\" --raw-output\n",
    "revision_id = result.s\n",
    "print(\"revision id: {}\".format(revision_id))\n",
    "\n",
    "# You can also specify your revision id directly:\n",
    "# revision_id = \"Your revision ID\""
   ]
  },
  {
   "cell_type": "markdown",
   "metadata": {
    "id": "b17e75c6-c8ee-4bd8-96dd-ecbeaf8f0267"
   },
   "source": [
    "Promote the notebook to the space. The parameters `name` and `description` are optional. If they are not specified, the name and description of the original notebook in the project will be used."
   ]
  },
  {
   "cell_type": "code",
   "execution_count": 60,
   "metadata": {
    "id": "524cd8ec-c8f0-4dd8-8616-fbe9be130123"
   },
   "outputs": [],
   "source": [
    "notebook_name = \"cpdctl_test_promote\"\n",
    "notebook_description = \"cpdctl test promote\"\n",
    "request_body = {\n",
    "    'space_id': space_id,\n",
    "    'metadata': {\n",
    "        'name': notebook_name,\n",
    "        'description': notebook_description\n",
    "    }\n",
    "}\n",
    "request_body = json.dumps(request_body)"
   ]
  },
  {
   "cell_type": "code",
   "execution_count": 61,
   "metadata": {
    "id": "f9362569-dee4-41c5-9ea3-3eb2833a350f"
   },
   "outputs": [
    {
     "name": "stdout",
     "output_type": "stream",
     "text": [
      "notebook id in space: [   \"20377bfa-4cb8-4a98-8e9b-94e83817daae\" ]\n"
     ]
    }
   ],
   "source": [
    "result = ! cpdctl asset promote --asset-id {notebook_id_in_project} --revision-id {revision_id} --project-id {project_id} --request-body '{request_body}'\n",
    "# verify that the notebook has been promoted into the space\n",
    "result = ! cpdctl asset search --space-id {space_id} --type-name notebook --query asset.name:{notebook_name} --output json -j \"(results[].metadata.asset_id)\" --raw-output\n",
    "notebook_id_in_space = result.s\n",
    "print(\"notebook id in space: {}\".format(notebook_id_in_space))"
   ]
  },
  {
   "cell_type": "markdown",
   "metadata": {
    "id": "27d76742-63c9-40c1-9142-c77927be9915"
   },
   "source": [
    "Copyright © 2021 IBM. This notebook and its source code are released under the terms of the MIT License."
   ]
  }
 ],
 "metadata": {
  "kernelspec": {
   "display_name": "Python 3.8",
   "language": "python",
   "name": "python3"
  },
  "language_info": {
   "codemirror_mode": {
    "name": "ipython",
    "version": 3
   },
   "file_extension": ".py",
   "mimetype": "text/x-python",
   "name": "python",
   "nbconvert_exporter": "python",
   "pygments_lexer": "ipython3",
   "version": "3.8.11"
  }
 },
 "nbformat": 4,
 "nbformat_minor": 4
}
