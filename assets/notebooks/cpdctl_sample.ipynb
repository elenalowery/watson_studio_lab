{
 "cells": [
  {
   "cell_type": "markdown",
   "id": "personal-joyce",
   "metadata": {
    "id": "4265cdd2-070f-4158-922d-0bd864cfcaf4"
   },
   "source": [
    "# CPDCTL samples for Notebooks and Environment in Projects"
   ]
  },
  {
   "cell_type": "markdown",
   "id": "alive-illness",
   "metadata": {
    "id": "41964aef-cfd6-4f13-874a-a197d1088d01",
    "tags": []
   },
   "source": [
    "<span style=\"color:red\">**Note: This notebooks is the [sample notebook](https://github.com/IBM/cpdctl/blob/master/samples/Notebook-and-Environment-samples-for-Projects.ipynb) from the cpdctl public repo. And tested and updated in CPD 4.0.4 - JupyterLab environment for latest cpdctl releases 1.1.132 by WW Data and AI team.**</span>\n",
    "\n",
    "\n",
    "CPDCTL is a command-line interface (CLI) you can use to manage the lifecycle of notebooks. By using the notebook CLI, you can automate the flow for creating notebooks and running notebook jobs, moving notebooks between projects in Watson Studio, and adding custom libraries to notebook runtime environments.\n",
    "\n",
    "This notebook begins by showing you how to install and configure CPDCTL and is then split up into four sections with examples of how to use the commands for:\n",
    "\n",
    "- Creating notebooks and running notebook jobs\n",
    "- Creating Python scripts and running script jobs\n",
    "- Downloading notebooks from one project and uploading them to another project\n",
    "- Adding custom libraries to a notebook runtime environment"
   ]
  },
  {
   "cell_type": "markdown",
   "id": "lonely-response",
   "metadata": {
    "id": "20245907-8e34-4d3d-b72d-70f3121da81f"
   },
   "source": [
    "## 0. Before you begin - setup"
   ]
  },
  {
   "cell_type": "markdown",
   "id": "uniform-badge",
   "metadata": {
    "id": "096e85a2-b899-4559-a731-cb71265255fd"
   },
   "source": [
    "### 0.1 Import required libraries and modules"
   ]
  },
  {
   "cell_type": "code",
   "execution_count": 6,
   "id": "internal-egypt",
   "metadata": {
    "id": "94db9442-069d-4543-95ed-ddf0ed68e931",
    "tags": []
   },
   "outputs": [],
   "source": [
    "# Import required libraries and modules\n",
    "import base64\n",
    "import json\n",
    "import os\n",
    "import platform\n",
    "import requests\n",
    "import tarfile\n",
    "import zipfile\n",
    "import jmespath\n",
    "import subprocess\n",
    "from IPython.core.display import display, HTML"
   ]
  },
  {
   "cell_type": "markdown",
   "id": "incorrect-development",
   "metadata": {
    "id": "236f0f7f-f0f8-4ce1-a166-c8ebdedc26fe"
   },
   "source": [
    "### 0.2 Install the version v1.1.132 of `cpdctl`"
   ]
  },
  {
   "cell_type": "code",
   "execution_count": 7,
   "id": "hired-creature",
   "metadata": {
    "id": "d5878af5-3923-4606-ba1a-eaa4b3789611",
    "tags": []
   },
   "outputs": [
    {
     "data": {
      "text/html": [
       "<code>cpdctl</code> binary downloaded from: <a href=\"https://github.com/IBM/cpdctl/releases/download/v1.1.132/cpdctl_linux_amd64.tar.gz\">cpdctl_linux_amd64.tar.gz</a>"
      ],
      "text/plain": [
       "<IPython.core.display.HTML object>"
      ]
     },
     "metadata": {},
     "output_type": "display_data"
    }
   ],
   "source": [
    "PLATFORM = platform.system().lower()\n",
    "CPDCTL_ARCH = \"{}_amd64\".format(PLATFORM)\n",
    "CPDCTL_RELEASES_URL=\"https://api.github.com/repos/IBM/cpdctl/releases\"\n",
    "CWD = os.getcwd()\n",
    "PATH = os.environ['PATH']\n",
    "CPDCONFIG = os.path.join(CWD, '.cpdctl.config.yml')\n",
    "version='v1.1.132'\n",
    "\n",
    "response = requests.get(CPDCTL_RELEASES_URL)\n",
    "asset_version = next(a for a in response.json() if version==a['tag_name'])\n",
    "#assets = response.json()[0]['assets']\n",
    "assets=asset_version['assets']\n",
    "platform_asset = next(a for a in assets if CPDCTL_ARCH in a['name'])\n",
    "cpdctl_url = platform_asset['url']\n",
    "cpdctl_file_name = platform_asset['name']\n",
    "\n",
    "response = requests.get(cpdctl_url, headers={'Accept': 'application/octet-stream'})\n",
    "with open(cpdctl_file_name, 'wb') as f:\n",
    "    f.write(response.content)\n",
    "    \n",
    "display(HTML('<code>cpdctl</code> binary downloaded from: <a href=\"{}\">{}</a>'.format(platform_asset['browser_download_url'], platform_asset['name'])))"
   ]
  },
  {
   "cell_type": "code",
   "execution_count": 8,
   "id": "alien-combine",
   "metadata": {
    "id": "f7125930-861f-4786-a540-b0f67147805e",
    "tags": []
   },
   "outputs": [],
   "source": [
    "%%capture\n",
    "\n",
    "%env PATH={CWD}:{PATH}\n",
    "%env CPDCONFIG={CPDCONFIG}"
   ]
  },
  {
   "cell_type": "code",
   "execution_count": 9,
   "id": "minus-produce",
   "metadata": {
    "id": "f401dfa5-01e7-4c13-beac-19723155e9e1",
    "tags": []
   },
   "outputs": [
    {
     "name": "stdout",
     "output_type": "stream",
     "text": [
      "cpdctl version: 1.1.132\n"
     ]
    }
   ],
   "source": [
    "if cpdctl_file_name.endswith('tar.gz'):\n",
    "    with tarfile.open(cpdctl_file_name, \"r:gz\") as tar:\n",
    "        tar.extractall()\n",
    "elif cpdctl_file_name.endswith('zip'):\n",
    "    with zipfile.ZipFile(cpdctl_file_name, 'r') as zf:\n",
    "        zf.extractall()\n",
    "\n",
    "if CPDCONFIG and os.path.exists(CPDCONFIG):\n",
    "    os.remove(CPDCONFIG)\n",
    "    \n",
    "version_r = ! cpdctl version\n",
    "CPDCTL_VERSION = version_r.s\n",
    "\n",
    "print(\"cpdctl version: {}\".format(CPDCTL_VERSION))"
   ]
  },
  {
   "cell_type": "code",
   "execution_count": 10,
   "id": "checked-tourist",
   "metadata": {
    "id": "83a10545-c5fd-4eb6-8e9a-cc4422be59b2",
    "tags": []
   },
   "outputs": [
    {
     "name": "stdout",
     "output_type": "stream",
     "text": [
      "/userfs/Notebooks/cpdctl\n"
     ]
    }
   ],
   "source": [
    "!which cpdctl"
   ]
  },
  {
   "cell_type": "code",
   "execution_count": 11,
   "id": "extreme-wheel",
   "metadata": {
    "id": "879d975f-7a54-4ca5-a46a-084c9df7c800",
    "tags": []
   },
   "outputs": [
    {
     "name": "stdout",
     "output_type": "stream",
     "text": [
      "1.1.132\n"
     ]
    }
   ],
   "source": [
    "!cpdctl version"
   ]
  },
  {
   "cell_type": "markdown",
   "id": "expensive-headquarters",
   "metadata": {
    "id": "623ca92f-5162-46f7-9e70-b14a3539709e"
   },
   "source": [
    "## 1. Provide CPD Cluster credentials"
   ]
  },
  {
   "cell_type": "code",
   "execution_count": 12,
   "id": "conservative-calgary",
   "metadata": {
    "id": "52f01409-7ef3-4312-9901-860ebe4dd707",
    "tags": []
   },
   "outputs": [],
   "source": [
    "CPD_USERNAME = 'admin' # for example: datascientist\n",
    "CPD_PASSWORD = 'CP4DDataFabric'\n",
    "CPD_URL = 'https://datafabric.ibmcloudpack.com:8954' #typically, this would be https://cpd-cpd-instance.apps.demo.ibmdte.net"
   ]
  },
  {
   "cell_type": "markdown",
   "id": "alert-improvement",
   "metadata": {
    "id": "e91f102a-01c0-4168-a7fb-fbb9559ab2eb"
   },
   "source": [
    "Since this notebook runs inside of the CPD cluster you want to interact with the cpdctl tool, you can leverage the zeror configration mode, which automatcially connects to the CP4D instance."
   ]
  },
  {
   "cell_type": "code",
   "execution_count": 13,
   "id": "incorrect-radical",
   "metadata": {
    "id": "b6accbf2-c539-4f11-b8ae-296d474b7138",
    "tags": []
   },
   "outputs": [
    {
     "name": "stdout",
     "output_type": "stream",
     "text": [
      "...\n",
      "\u001b[1mID\u001b[0m                                     \u001b[1mName\u001b[0m              \u001b[1mCreated\u001b[0m                    \u001b[1mDescription\u001b[0m   \u001b[1mTags\u001b[0m   \n",
      "\u001b[36;1m035869f9-b021-455a-980a-3ed56e3d722f\u001b[0m   New Git           2022-03-30T19:32:12.873Z                 []   \n",
      "\u001b[36;1mf8b97b79-18f8-49f4-9351-99dbf62c4c9a\u001b[0m   Classic Project   2022-03-30T18:49:42.321Z                 []   \n"
     ]
    }
   ],
   "source": [
    "# show all project\n",
    "! cpdctl project list"
   ]
  },
  {
   "cell_type": "code",
   "execution_count": 14,
   "id": "fundamental-photography",
   "metadata": {
    "id": "5a0e38d0-4d65-474e-98f9-3fadca902c3a",
    "tags": []
   },
   "outputs": [
    {
     "name": "stdout",
     "output_type": "stream",
     "text": [
      "...\n",
      "\u001b[1mID\u001b[0m                                     \u001b[1mName\u001b[0m         \u001b[1mCreated\u001b[0m                    \u001b[1mDescription\u001b[0m   \u001b[1mState\u001b[0m    \u001b[1mTags\u001b[0m   \n",
      "\u001b[36;1md9737768-f15b-4f36-ab58-007c58558986\u001b[0m   Demo Space   2022-03-30T18:57:08.544Z                 active   []   \n"
     ]
    }
   ],
   "source": [
    "# show all deployment spaces\n",
    "! cpdctl space list"
   ]
  },
  {
   "cell_type": "markdown",
   "id": "diverse-ground",
   "metadata": {
    "id": "e7b44d66-e99e-47f2-a217-e8e3fc0487a9",
    "tags": []
   },
   "source": [
    "## 2. Choose a project you want to work with"
   ]
  },
  {
   "cell_type": "markdown",
   "id": "painful-mambo",
   "metadata": {
    "id": "4c72e72b-9a15-4998-aa21-3c493e7e4bfb"
   },
   "source": [
    "<span style=\"color:red\">Important Note: If you want to interact with classic notebooks, you have to choose a **classic project that is not configured with git integration** OR a deployment space.</span>"
   ]
  },
  {
   "cell_type": "code",
   "execution_count": 15,
   "id": "similar-black",
   "metadata": {
    "id": "144f6ab0-9609-4a0a-8da0-6183df6ccaea",
    "tags": []
   },
   "outputs": [
    {
     "name": "stdout",
     "output_type": "stream",
     "text": [
      "project id: f8b97b79-18f8-49f4-9351-99dbf62c4c9a\n"
     ]
    }
   ],
   "source": [
    "# You can specify your project id directly:\n",
    "project_id = \"f8b97b79-18f8-49f4-9351-99dbf62c4c9a\"\n",
    "\n",
    "# OR you can reference it by index[0] is the index of the project id list\n",
    "#result = ! cpdctl project list --output json -j \"(resources[].metadata.guid)[0]\" --raw-output\n",
    "#project_id = result.s\n",
    "\n",
    "print(\"project id: {}\".format(project_id))"
   ]
  },
  {
   "cell_type": "markdown",
   "id": "twelve-abortion",
   "metadata": {
    "id": "499a8a16-3d42-434f-8fcc-e27a8a1e1625"
   },
   "source": [
    "## 3. Create a notebook in a non-git project using cpdctl\n",
    "\n",
    "First of all, you need to create a notebook asset in your project. To create a notebook asset you need to specify:\n",
    "\n",
    "- The environment in which your notebook is to run\n",
    "- A notebook file (.ipynb)."
   ]
  },
  {
   "cell_type": "markdown",
   "id": "several-constraint",
   "metadata": {
    "id": "658c5ca2-2750-4a3e-b444-2ee494a74b96"
   },
   "source": [
    "### 3.1 Get the environment ID\n",
    "\n",
    "List all the environments in your project, filter them by their display name and get the ID of the environment in which your notebook will be run:"
   ]
  },
  {
   "cell_type": "code",
   "execution_count": 54,
   "id": "taken-variation",
   "metadata": {
    "id": "5c10fb5f-98dc-45b5-be1e-15651b3ecb06",
    "tags": []
   },
   "outputs": [],
   "source": [
    "# You can find the name of the available environments in the project => Environment tab\n",
    "\n",
    "environment_name = \"Default Python 3.8\"\n",
    "query_string = \"(resources[?entity.environment.display_name == '{}'].metadata.asset_id)[0]\".format(environment_name)"
   ]
  },
  {
   "cell_type": "code",
   "execution_count": 55,
   "id": "funny-police",
   "metadata": {
    "id": "9ddd6f07-675b-4971-b6df-3f010a99ebe2",
    "tags": []
   },
   "outputs": [
    {
     "name": "stdout",
     "output_type": "stream",
     "text": [
      "environment id: jupconda38-f8b97b79-18f8-49f4-9351-99dbf62c4c9a\n"
     ]
    }
   ],
   "source": [
    "result = ! cpdctl environment list --project-id {project_id} --output json -j \"{query_string}\" --raw-output\n",
    "env_id = result.s\n",
    "print(\"environment id: {}\".format(env_id))\n",
    "\n",
    "# You can also specify your environment id directly:\n",
    "# env_id = \"Your environment ID\""
   ]
  },
  {
   "cell_type": "markdown",
   "id": "nutritional-comment",
   "metadata": {
    "id": "d718afd2-98cb-4ba8-84a4-fb406ce9914e"
   },
   "source": [
    "### 3.2 Upload the .ipynb file"
   ]
  },
  {
   "cell_type": "markdown",
   "id": "passive-robin",
   "metadata": {
    "id": "0231502d-b065-48e1-ba5a-635143b621fb",
    "tags": []
   },
   "source": [
    "The notebook I want to upload is called *Read_Write_CSV_Data.ipynb*, and it is in my current working directory. And I want to upload it to the target project."
   ]
  },
  {
   "cell_type": "code",
   "execution_count": 57,
   "id": "integrated-latino",
   "metadata": {
    "id": "ad33d8fe-7454-4187-9a9f-07184068e1da",
    "tags": []
   },
   "outputs": [],
   "source": [
    "remote_file_path = \"notebook/Read_Write_CSV_Data.ipynb\"\n",
    "local_file_path = \"Read_Write_CSV_Data.ipynb\""
   ]
  },
  {
   "cell_type": "code",
   "execution_count": 58,
   "id": "mediterranean-broad",
   "metadata": {
    "id": "60f32e91-345b-4059-b14a-773b4cfa7145",
    "tags": []
   },
   "outputs": [
    {
     "name": "stdout",
     "output_type": "stream",
     "text": [
      "...\n",
      "\u001b[32;1mOK\u001b[0m\n"
     ]
    }
   ],
   "source": [
    "! cpdctl asset file upload --path {remote_file_path} --file {local_file_path} --project-id {project_id}"
   ]
  },
  {
   "cell_type": "markdown",
   "id": "living-canadian",
   "metadata": {
    "id": "48264a59-dc29-4f5b-93db-31ad6f151f50"
   },
   "source": [
    "### 3.3 Create a notebook asset: associate environment runtime with the notebook file"
   ]
  },
  {
   "cell_type": "code",
   "execution_count": 59,
   "id": "quarterly-antibody",
   "metadata": {
    "id": "b3dd349f-68d9-4362-8b2f-9b42c9131919",
    "tags": []
   },
   "outputs": [],
   "source": [
    "file_name = \"Read_Write_CSV_Data.ipynb\"\n",
    "\n",
    "runtime = {\n",
    "    'environment': env_id\n",
    "}\n",
    "runtime_json = json.dumps(runtime)\n",
    "\n",
    "originate = {\n",
    "    'type': 'blank'\n",
    "}\n",
    "originate_json = json.dumps(originate)"
   ]
  },
  {
   "cell_type": "code",
   "execution_count": 60,
   "id": "swiss-arbor",
   "metadata": {
    "id": "cb7a6ae2-02da-408e-b33f-d463b04fad8e",
    "tags": []
   },
   "outputs": [
    {
     "name": "stdout",
     "output_type": "stream",
     "text": [
      "notebook id: 42443869-64db-49ab-a039-f96d5b042623\n"
     ]
    }
   ],
   "source": [
    "result = ! cpdctl notebook create --file-reference {remote_file_path} --name {file_name} --project {project_id} --runtime '{runtime_json}' --originates-from '{originate_json}' --output json -j \"metadata.asset_id\" --raw-output\n",
    "notebook_id = result.s\n",
    "print(\"notebook id: {}\".format(notebook_id))"
   ]
  },
  {
   "cell_type": "markdown",
   "id": "electronic-bunch",
   "metadata": {
    "id": "54672c51-c913-42b6-a2a4-f80a4c2b6cda"
   },
   "source": [
    "<span style=\"color:red\">Important Note: Now you can check the target project (eg.in my case, Classic Project), the Read_Write_CSV_Data notebook should show up in the Notebook section of the Assets tab. </span>"
   ]
  },
  {
   "cell_type": "markdown",
   "id": "forward-wisconsin",
   "metadata": {
    "id": "9dd9e8b3-83e5-406a-9134-1bc0a69a4190"
   },
   "source": [
    "## 4. Create and run a notebook job"
   ]
  },
  {
   "cell_type": "code",
   "execution_count": 61,
   "id": "offensive-witness",
   "metadata": {
    "id": "eaa5f347-7eb9-43e4-b77e-64444259657c",
    "tags": []
   },
   "outputs": [
    {
     "name": "stdout",
     "output_type": "stream",
     "text": [
      "version id: e2d9f014-c121-44ab-88ff-c03f0c52cb2b\n"
     ]
    }
   ],
   "source": [
    "result = ! cpdctl notebook version create --notebook-id {notebook_id} --output json -j \"metadata.guid\" --raw-output\n",
    "version_id = result.s\n",
    "print(\"version id: {}\".format(version_id))"
   ]
  },
  {
   "cell_type": "code",
   "execution_count": 24,
   "id": "satisfied-state",
   "metadata": {
    "id": "3b8f8561-4f25-4ede-8dc4-e1efd7cc6b9c",
    "tags": []
   },
   "outputs": [
    {
     "name": "stdout",
     "output_type": "stream",
     "text": [
      "ef98f57d-d81d-49f6-9b64-aac963970e23\n"
     ]
    }
   ],
   "source": [
    "! cpdctl notebook version create --notebook-id {notebook_id} --output json -j \"metadata.guid\" --raw-output"
   ]
  },
  {
   "cell_type": "code",
   "execution_count": 32,
   "id": "crucial-worth",
   "metadata": {
    "id": "c84f5eb6-89b9-4426-8be0-a8c95f415111",
    "tags": []
   },
   "outputs": [],
   "source": [
    "job_name = \"cpdctl-test-job\"\n",
    "job = {\n",
    "    'asset_ref': notebook_id, \n",
    "    'configuration': {\n",
    "        'env_id': env_id, \n",
    "        'env_variables': [\n",
    "           # 'foo=1', \n",
    "           # 'bar=2'\n",
    "        ]\n",
    "    }, \n",
    "    'description': 'my job', \n",
    "    'name': job_name\n",
    "}\n",
    "job_json = json.dumps(job)"
   ]
  },
  {
   "cell_type": "code",
   "execution_count": 33,
   "id": "cooperative-weekend",
   "metadata": {
    "id": "a5fefeee-179b-4f97-8241-fab079a78415",
    "tags": []
   },
   "outputs": [
    {
     "name": "stdout",
     "output_type": "stream",
     "text": [
      "job id: 094ba812-0611-44f0-95ac-86c2eb1cd448\n"
     ]
    }
   ],
   "source": [
    "result = ! cpdctl job create --job '{job_json}' --project-id {project_id} --output json -j \"metadata.asset_id\" --raw-output\n",
    "job_id = result.s\n",
    "print(\"job id: {}\".format(job_id))"
   ]
  },
  {
   "cell_type": "code",
   "execution_count": 34,
   "id": "productive-clarity",
   "metadata": {
    "id": "f850606f-47a3-4b40-b7fa-57762bb37b3c",
    "tags": []
   },
   "outputs": [],
   "source": [
    "job_run = {\n",
    "    'configuration': {\n",
    "        'env_variables': [\n",
    "            #'key1=value1', \n",
    "            #'key2=value2'\n",
    "        ]\n",
    "    }\n",
    "}\n",
    "job_run_json = json.dumps(job_run)"
   ]
  },
  {
   "cell_type": "code",
   "execution_count": 35,
   "id": "homeless-brunswick",
   "metadata": {
    "id": "4b63f08b-ed11-4829-b215-69d9ab54a885",
    "tags": []
   },
   "outputs": [
    {
     "name": "stdout",
     "output_type": "stream",
     "text": [
      "run id: c8dc6dea-addd-4c8f-867f-20a6f10e158c\n"
     ]
    }
   ],
   "source": [
    "result = ! cpdctl job run create --project-id {project_id} --job-id {job_id} --job-run '{job_run_json}' --output json -j \"metadata.asset_id\" --raw-output\n",
    "run_id = result.s\n",
    "print(\"run id: {}\".format(run_id))"
   ]
  },
  {
   "cell_type": "code",
   "execution_count": 36,
   "id": "sixth-barrel",
   "metadata": {
    "id": "7fd7ae72-57c3-4b7a-8745-00f6957f19e0",
    "tags": []
   },
   "outputs": [
    {
     "name": "stdout",
     "output_type": "stream",
     "text": [
      "...\n",
      "\n",
      "Cell 4:\n",
      "\n",
      "Cell 8:\n",
      "\n",
      "Cell 11:\n",
      "\n",
      "\n"
     ]
    }
   ],
   "source": [
    "! cpdctl job run logs --job-id {job_id} --run-id {run_id} --project-id {project_id}"
   ]
  },
  {
   "cell_type": "markdown",
   "id": "sudden-approval",
   "metadata": {
    "id": "6d31bec2-49c3-4d5b-be8b-89fe9b7426b8",
    "tags": []
   },
   "source": [
    "## 5. Creating a Python script asset and running a job"
   ]
  },
  {
   "cell_type": "markdown",
   "id": "handed-blink",
   "metadata": {
    "id": "47057695-2c02-4ed9-a27c-129fce716561"
   },
   "source": [
    "<span style=\"color:red\">Before starting with this section, ensure that you have **cpdctl v1.1.132 installed (see Section 0)** and specified the **CP4D Cluster** and **ID of the project in which you will work (see Section 1 and 2)**.</span>"
   ]
  },
  {
   "cell_type": "markdown",
   "id": "accepting-pregnancy",
   "metadata": {
    "id": "1c101852-d633-443f-8df6-07acaef47bb7"
   },
   "source": [
    "Suppose you have a Python script (.py) on your local system and you would like to run the code in the script as a job on a CPD cluster. This section shows you how to create a Python script asset and run a job on a CPD cluster."
   ]
  },
  {
   "cell_type": "markdown",
   "id": "posted-short",
   "metadata": {
    "id": "e0ddeba8-2195-422f-93a3-78428ce7f587"
   },
   "source": [
    "### 5.1 Creating a Python script asset"
   ]
  },
  {
   "cell_type": "code",
   "execution_count": 128,
   "id": "hollow-abraham",
   "metadata": {
    "id": "c44899a7-8965-4bc5-93ce-b3d89a6bf5b8",
    "tags": []
   },
   "outputs": [],
   "source": [
    "# upload the scipt .py file\n",
    "remote_file_path = \"script/test_script.py\"\n",
    "local_file_path = \"code_pkg/hello.py\""
   ]
  },
  {
   "cell_type": "code",
   "execution_count": 129,
   "id": "expanded-arctic",
   "metadata": {
    "id": "772a4aa2-0c64-444b-8e10-67934b4d0531",
    "tags": []
   },
   "outputs": [
    {
     "name": "stdout",
     "output_type": "stream",
     "text": [
      "...\n",
      "\u001b[32;1mOK\u001b[0m\n"
     ]
    }
   ],
   "source": [
    "! cpdctl asset file upload --path {remote_file_path} --file {local_file_path} --project-id {project_id}"
   ]
  },
  {
   "cell_type": "code",
   "execution_count": 130,
   "id": "secondary-impression",
   "metadata": {
    "id": "8bf4f2bd-690e-4ee2-aac5-2512f0d7218b",
    "tags": []
   },
   "outputs": [],
   "source": [
    "# Specify the metadata, entity and attachments of the script file:\n",
    "\n",
    "metadata = {\n",
    "    \"name\": \"my_test_script_with_env_var\",\n",
    "    \"asset_type\": \"script\",\n",
    "    \"asset_category\": \"USER\",\n",
    "    \"origin_country\": \"us\"\n",
    "}\n",
    "metadata_json = json.dumps(metadata)\n",
    "\n",
    "entity = {\n",
    "    \"script\": {\n",
    "        \"language\": {\n",
    "            \"name\": \"python3\"\n",
    "        }\n",
    "    }\n",
    "}\n",
    "entity_json = json.dumps(entity)\n",
    "\n",
    "attachments = [\n",
    "    {\n",
    "        \"asset_type\": \"script\",\n",
    "        \"name\": \"my_test_script\",\n",
    "        \"description\": \"attachment for script\",\n",
    "        \"mime\": \"application/text\",\n",
    "        \"object_key\": remote_file_path\n",
    "    }\n",
    "]\n",
    "attachments_json = json.dumps(attachments)"
   ]
  },
  {
   "cell_type": "code",
   "execution_count": 131,
   "id": "classical-steering",
   "metadata": {
    "id": "27ad29c3-fdf9-404c-baac-48a2f253cff0",
    "tags": []
   },
   "outputs": [
    {
     "name": "stdout",
     "output_type": "stream",
     "text": [
      "script id: 3e14540b-3092-47d8-9942-48eb8289a8c8\n"
     ]
    }
   ],
   "source": [
    "# Create a Python script asset:\n",
    "\n",
    "result = ! cpdctl asset create  --metadata '{metadata_json}' --entity '{entity_json}' --attachments '{attachments_json}' --project-id {project_id} --output json -j \"metadata.asset_id\" --raw-output\n",
    "script_id = result.s\n",
    "print(\"script id: {}\".format(script_id))"
   ]
  },
  {
   "cell_type": "markdown",
   "id": "bound-davis",
   "metadata": {
    "id": "59891ce1-d851-4396-a24b-26039f892e16",
    "tags": []
   },
   "source": [
    "Check the target project now, you should see the script under the Asset tab."
   ]
  },
  {
   "cell_type": "markdown",
   "id": "particular-regression",
   "metadata": {
    "id": "5fcfd257-7662-4dff-a4a7-c36898335bc0",
    "tags": []
   },
   "source": [
    "### 5.2 Running a script job"
   ]
  },
  {
   "cell_type": "code",
   "execution_count": 132,
   "id": "ideal-basketball",
   "metadata": {
    "id": "a2b73f3a-716e-4e43-95d7-eb7932984b1a",
    "tags": []
   },
   "outputs": [
    {
     "name": "stdout",
     "output_type": "stream",
     "text": [
      "environment id: jupconda38-f8b97b79-18f8-49f4-9351-99dbf62c4c9a\n"
     ]
    }
   ],
   "source": [
    "# specify environment by id\n",
    "environment_name = \"Default Python 3.8\"\n",
    "query_string = \"(resources[?entity.environment.display_name == '{}'].metadata.asset_id)[0]\".format(environment_name)\n",
    "\n",
    "result = ! cpdctl environment list --project-id {project_id} --output json -j \"{query_string}\" --raw-output\n",
    "env_id = result.s\n",
    "print(\"environment id: {}\".format(env_id))\n",
    "\n",
    "# You can also specify your environment id directly:\n",
    "# env_id = \"Your environment ID\""
   ]
  },
  {
   "cell_type": "markdown",
   "id": "smaller-taiwan",
   "metadata": {
    "id": "c9673583-ee09-46cc-9aff-453e07ba031c"
   },
   "source": [
    "Now you can create a script job. To do this, you need to give your script job a name, a description, and pass the script ID and environment ID."
   ]
  },
  {
   "cell_type": "code",
   "execution_count": 133,
   "id": "sorted-calendar",
   "metadata": {
    "id": "2c8d65f1-342a-424c-ad74-991e9708d8e1",
    "tags": []
   },
   "outputs": [
    {
     "name": "stdout",
     "output_type": "stream",
     "text": [
      "job id: 1d7b06f4-358b-4309-b4c1-32e5e23fa628\n"
     ]
    }
   ],
   "source": [
    "# define job metadatat\n",
    "job_name = \"cpdctl-test-job-for-script_with_env_v3\"\n",
    "job = {\n",
    "    'asset_ref': script_id, \n",
    "    'configuration': {\n",
    "        'env_id': env_id, \n",
    "        'env_variables': [\n",
    "            'input=hello', \n",
    "            #'bar=2'\n",
    "        ]\n",
    "    }, \n",
    "    'description': 'my script job', \n",
    "    'name': job_name\n",
    "}\n",
    "job_json = json.dumps(job)\n",
    "\n",
    "# create job\n",
    "result = ! cpdctl job create --job '{job_json}' --project-id {project_id} --output json -j \"metadata.asset_id\" --raw-output\n",
    "job_id = result.s\n",
    "print(\"job id: {}\".format(job_id))"
   ]
  },
  {
   "cell_type": "code",
   "execution_count": 134,
   "id": "genuine-shower",
   "metadata": {
    "id": "8c4f5626-a7a7-40ef-a713-646630989de2",
    "tags": []
   },
   "outputs": [
    {
     "name": "stdout",
     "output_type": "stream",
     "text": [
      "run id: 6868f64a-efa3-4d6d-abbf-103357f51765\n"
     ]
    }
   ],
   "source": [
    "# Kick off the job\n",
    "job_run = {\n",
    "    'configuration': {\n",
    "        'env_variables': [\n",
    "            'input=hello', \n",
    "            #'key2=value2'\n",
    "        ]\n",
    "    }\n",
    "}\n",
    "job_run_json = json.dumps(job_run)\n",
    "\n",
    "result = ! cpdctl job run create --project-id {project_id} --job-id {job_id} --job-run '{job_run_json}' --output json -j \"metadata.asset_id\" --raw-output\n",
    "run_id = result.s\n",
    "print(\"run id: {}\".format(run_id))"
   ]
  },
  {
   "cell_type": "code",
   "execution_count": 135,
   "id": "powered-slovenia",
   "metadata": {
    "id": "cdf82ef6-04ea-4aa2-bb6c-2072b376e150",
    "tags": []
   },
   "outputs": [
    {
     "name": "stdout",
     "output_type": "stream",
     "text": [
      "...\n",
      "\n",
      "hello\n",
      "\n",
      "\n"
     ]
    }
   ],
   "source": [
    "! cpdctl job run logs --job-id {job_id} --run-id {run_id} --project-id {project_id}"
   ]
  },
  {
   "cell_type": "markdown",
   "id": "comparable-netscape",
   "metadata": {
    "id": "f056c6c0-c231-4a68-92a2-dd1d22a1bbef"
   },
   "source": [
    "## 6. Downloading a notebook and uploading it to another project"
   ]
  },
  {
   "cell_type": "markdown",
   "id": "technical-steal",
   "metadata": {
    "id": "3936b11c-0236-4bf6-9696-d395de506998"
   },
   "source": [
    "<span style=\"color:red\">Before starting with this section, ensure that you have **cpdctl v1.1.132 installed (see Section 0)** and specified the **CP4D Cluster** and **ID of the project in which you will work (see Section 1 and 2)**.</span>"
   ]
  },
  {
   "cell_type": "markdown",
   "id": "handled-glasgow",
   "metadata": {
    "id": "14140c68-a241-42a6-8444-e23a1c802541"
   },
   "source": [
    "\n",
    "Suppose you have a notebook in one project and would like to add a specific version of this notebook to another project. To do this, you first need to download the notebook file to your local system and then upload it to the other project. After that you need to create a notebook asset in your project by referencing the uploaded notebook file (.ipynb) and specifying the environment in which your notebook is to run."
   ]
  },
  {
   "cell_type": "markdown",
   "id": "improving-enemy",
   "metadata": {
    "id": "dd037ade-68c8-409b-9a0d-ddcf827c9045"
   },
   "source": [
    "### 6.1 Download a notebook"
   ]
  },
  {
   "cell_type": "code",
   "execution_count": 22,
   "id": "lesser-narrow",
   "metadata": {
    "id": "1c0e9801-9355-4031-b86b-d29217247daa",
    "tags": []
   },
   "outputs": [],
   "source": [
    "notebook_id = \"42443869-64db-49ab-a039-f96d5b042623\""
   ]
  },
  {
   "cell_type": "code",
   "execution_count": 23,
   "id": "noted-omaha",
   "metadata": {
    "id": "e890e9e6-8a39-421f-a2f7-a03f7eae5924",
    "tags": []
   },
   "outputs": [
    {
     "name": "stdout",
     "output_type": "stream",
     "text": [
      "...\n",
      "\u001b[1mID\u001b[0m                                     \u001b[1mCreated\u001b[0m   \n",
      "\u001b[36;1me2d9f014-c121-44ab-88ff-c03f0c52cb2b\u001b[0m   1649188298833   \n"
     ]
    }
   ],
   "source": [
    "# list notebook versions\n",
    "! cpdctl notebook version list --notebook-id {notebook_id}"
   ]
  },
  {
   "cell_type": "markdown",
   "id": "victorian-milan",
   "metadata": {
    "id": "f011b5a2-2fd9-4932-a470-8995a94b78e3"
   },
   "source": [
    "### 6.2 Get the path in the storage volume to the notebook version that you want to download:"
   ]
  },
  {
   "cell_type": "code",
   "execution_count": 26,
   "id": "excellent-cross",
   "metadata": {
    "id": "3fabd0f6-605f-4ab4-9ffb-69dedbc189b1",
    "tags": []
   },
   "outputs": [
    {
     "name": "stdout",
     "output_type": "stream",
     "text": [
      "version id: e2d9f014-c121-44ab-88ff-c03f0c52cb2b\n"
     ]
    }
   ],
   "source": [
    "result = ! cpdctl notebook version list --notebook-id {notebook_id} --output json -j \"(resources[].metadata.guid)[0]\" --raw-output\n",
    "version_id = result.s\n",
    "print(\"version id: {}\".format(version_id))\n",
    "\n",
    "# You can also specify your version id directly:\n",
    "# version_id = \"Your version ID\""
   ]
  },
  {
   "cell_type": "code",
   "execution_count": 27,
   "id": "placed-wrapping",
   "metadata": {
    "id": "623c7340-e532-492e-a525-e0889cde09a9",
    "tags": []
   },
   "outputs": [
    {
     "name": "stdout",
     "output_type": "stream",
     "text": [
      "version storage path: notebook/attachment_for_notebook_42443869_64db_49ab_a039_f96d5b042623_6da56e36xeazd6ltp5hasd3af.ipynb\n"
     ]
    }
   ],
   "source": [
    "result = ! cpdctl notebook version get --notebook-id {notebook_id} --version-id {version_id} --output json -j \"entity.file_reference\" --raw-output\n",
    "version_storage_path = result.s\n",
    "print(\"version storage path: {}\".format(version_storage_path))"
   ]
  },
  {
   "cell_type": "markdown",
   "id": "virgin-french",
   "metadata": {
    "id": "efff844d-0a02-4ffa-ae63-aa2ec85b349b"
   },
   "source": [
    "### 6.3 Download the noteboook asset with the specific version from the storage path:"
   ]
  },
  {
   "cell_type": "code",
   "execution_count": 28,
   "id": "flush-search",
   "metadata": {
    "id": "0f7ac1e8-d5d1-4364-9bdf-05a9927d3fd1",
    "tags": []
   },
   "outputs": [
    {
     "name": "stdout",
     "output_type": "stream",
     "text": [
      "...\n",
      "\u001b[32;1mOK\u001b[0m\n",
      "Output written to my-new-notebook.ipynb\n"
     ]
    }
   ],
   "source": [
    "file_name = \"my-new-notebook.ipynb\"\n",
    "\n",
    "! cpdctl asset file download --path {version_storage_path} --output-file {file_name} --project-id {project_id} --raw-output"
   ]
  },
  {
   "cell_type": "markdown",
   "id": "vulnerable-demonstration",
   "metadata": {
    "id": "81b13638-03cb-4afe-9ef6-4a9533cf84dc"
   },
   "source": [
    "### 6.4 Upload the notebook to another project"
   ]
  },
  {
   "cell_type": "code",
   "execution_count": 32,
   "id": "express-teaching",
   "metadata": {
    "id": "c64d98b2-63bf-4dcd-a1d4-e25e6b06e2ce",
    "tags": []
   },
   "outputs": [
    {
     "name": "stdout",
     "output_type": "stream",
     "text": [
      "...\n",
      "\u001b[1m\u001b[0m           \u001b[1m\u001b[0m   \n",
      "\u001b[36;1mlocation\u001b[0m   /v2/projects/d7d9f3e3-db92-4248-83a7-d4f7835dcec3   \n"
     ]
    }
   ],
   "source": [
    "# if you dont have another project, you can create one using line below\n",
    "#!cpdctl project create --name \"new classic project\""
   ]
  },
  {
   "cell_type": "code",
   "execution_count": 33,
   "id": "growing-plymouth",
   "metadata": {
    "id": "b6b96e74-e7f4-458c-a17f-abb56b39d7b5",
    "tags": []
   },
   "outputs": [
    {
     "name": "stdout",
     "output_type": "stream",
     "text": [
      "...\n",
      "\u001b[1mID\u001b[0m                                     \u001b[1mName\u001b[0m                  \u001b[1mCreated\u001b[0m                    \u001b[1mDescription\u001b[0m   \u001b[1mTags\u001b[0m   \n",
      "\u001b[36;1m035869f9-b021-455a-980a-3ed56e3d722f\u001b[0m   New Git               2022-03-30T19:32:12.873Z                 []   \n",
      "\u001b[36;1md7d9f3e3-db92-4248-83a7-d4f7835dcec3\u001b[0m   new classic project   2022-04-06T15:44:32.180Z                 []   \n",
      "\u001b[36;1mf8b97b79-18f8-49f4-9351-99dbf62c4c9a\u001b[0m   Classic Project       2022-03-30T18:49:42.321Z                 []   \n"
     ]
    }
   ],
   "source": [
    "! cpdctl project list"
   ]
  },
  {
   "cell_type": "code",
   "execution_count": 34,
   "id": "public-protest",
   "metadata": {
    "id": "6aeca0c4-2b30-47ae-9b12-8be608763408",
    "tags": []
   },
   "outputs": [
    {
     "name": "stdout",
     "output_type": "stream",
     "text": [
      "another project id: d7d9f3e3-db92-4248-83a7-d4f7835dcec3\n"
     ]
    }
   ],
   "source": [
    "# pick project by index, in this case, index 1 refers to the new classic project we just created\n",
    "result = ! cpdctl project list --output json -j \"(resources[].metadata.guid)[1]\" --raw-output\n",
    "project2_id = result.s\n",
    "print(\"another project id: {}\".format(project2_id))\n",
    "\n",
    "# You can also specify your another project id directly:\n",
    "# project2_id = \"Your another project ID\""
   ]
  },
  {
   "cell_type": "code",
   "execution_count": 36,
   "id": "floppy-council",
   "metadata": {
    "id": "2dc98229-f760-42c0-a261-27d84bf6eb86",
    "tags": []
   },
   "outputs": [
    {
     "name": "stdout",
     "output_type": "stream",
     "text": [
      "...\n",
      "\u001b[32;1mOK\u001b[0m\n"
     ]
    }
   ],
   "source": [
    "# Upload the notebook file to this project:\n",
    "remote_file_path = \"notebook/{}\".format(file_name)\n",
    "\n",
    "! cpdctl asset file upload --path {remote_file_path} --file {file_name} --project-id {project2_id}"
   ]
  },
  {
   "cell_type": "markdown",
   "id": "adopted-newman",
   "metadata": {
    "id": "61ec08e7-94a8-4a11-9ec2-92b04a6fda0e"
   },
   "source": [
    "### 6.5 Specify environment by id"
   ]
  },
  {
   "cell_type": "code",
   "execution_count": 38,
   "id": "disabled-beauty",
   "metadata": {
    "id": "d71da326-a5cb-4516-8cc2-aee4ea6e52be",
    "tags": []
   },
   "outputs": [
    {
     "name": "stdout",
     "output_type": "stream",
     "text": [
      "environment id: jupconda38-d7d9f3e3-db92-4248-83a7-d4f7835dcec3\n"
     ]
    }
   ],
   "source": [
    "# identify environment id\n",
    "environment_name = \"Default Python 3.8\"\n",
    "query_string = \"(resources[?entity.environment.display_name == '{}'].metadata.asset_id)[0]\".format(environment_name)\n",
    "\n",
    "result = ! cpdctl environment list --project-id {project2_id} --output json -j \"{query_string}\" --raw-output\n",
    "env_id = result.s\n",
    "print(\"environment id: {}\".format(env_id))\n",
    "\n",
    "# You can also specify your environment id directly:\n",
    "# env_id = \"Your environment ID\""
   ]
  },
  {
   "cell_type": "markdown",
   "id": "pharmaceutical-courtesy",
   "metadata": {
    "id": "9b6ed58f-0697-46b8-a823-06cbd263b658"
   },
   "source": [
    "### 6.6 Associate environment runtime with the notebook file "
   ]
  },
  {
   "cell_type": "code",
   "execution_count": 40,
   "id": "particular-material",
   "metadata": {
    "id": "21694f6b-1a8c-45f6-869a-33f7426affc6",
    "tags": []
   },
   "outputs": [
    {
     "name": "stdout",
     "output_type": "stream",
     "text": [
      "notebook id: 0cce3597-2ea3-40df-8769-282f4a4a7d91\n"
     ]
    }
   ],
   "source": [
    "#Now you can create a notebook asset in this project by referencing the uploaded notebook file and attaching it to the environment runtime:\n",
    "\n",
    "file_name = \"my-new-notebook-in-another-project.ipynb\"\n",
    "\n",
    "runtime = {\n",
    "    'environment': env_id\n",
    "}\n",
    "runtime_json = json.dumps(runtime)\n",
    "\n",
    "originate = {\n",
    "    'type': 'blank'\n",
    "}\n",
    "originate_json = json.dumps(originate)\n",
    "\n",
    "result = ! cpdctl notebook create --file-reference {remote_file_path} --name {file_name} --project {project2_id} --originates-from '{originate_json}' --runtime '{runtime_json}' --output json -j \"metadata.asset_id\" --raw-output\n",
    "notebook_id = result.s\n",
    "print(\"notebook id: {}\".format(notebook_id))"
   ]
  },
  {
   "cell_type": "markdown",
   "id": "framed-antibody",
   "metadata": {
    "id": "714b70fe-373b-45cc-96ce-154f8745acb6",
    "tags": []
   },
   "source": [
    "Now if you check the new classic project, there should be a notebook named my-new-notebook-in-another-project.ipynb"
   ]
  },
  {
   "cell_type": "markdown",
   "id": "indirect-forth",
   "metadata": {
    "id": "527735ca-6714-4e82-9524-7c6f3fa9fc2c"
   },
   "source": [
    "## 7. Adding additional packages for custom environment"
   ]
  },
  {
   "cell_type": "markdown",
   "id": "occupational-scholar",
   "metadata": {
    "id": "b6184716-4eb5-4288-837a-87f3f8967271"
   },
   "source": [
    "<span style=\"color:red\">Before starting with this section, ensure that you have **cpdctl v1.1.132 installed (see Section 0)** and specified the **CP4D Cluster** and **ID of the project in which you will work (see Section 1 and 2)**.</span>"
   ]
  },
  {
   "cell_type": "markdown",
   "id": "popular-thickness",
   "metadata": {
    "id": "0993294d-af7a-4bd5-812d-0fb33054de06"
   },
   "source": [
    "Suppose you have a **conda-yml** file that lists your additional packages or you have a pip-zip file containing your custom packages, and you would like to install these packages in your custom environment. To do this, you need to:\n",
    "\n",
    "- Create a custom software specification\n",
    "- Add your custom packages\n",
    "- Create a custom environment"
   ]
  },
  {
   "cell_type": "markdown",
   "id": "legislative-screw",
   "metadata": {
    "id": "c21b7e9f-ee0e-4c35-9eb5-21bb7d866b28",
    "tags": []
   },
   "source": [
    "### 7.1 Idenfity the base image you want to customize by id"
   ]
  },
  {
   "cell_type": "markdown",
   "id": "dental-paragraph",
   "metadata": {
    "id": "9895fff1-556d-4d3b-a722-15e22dafc899"
   },
   "source": [
    "To create a custom software specification, you need to specify the base software specification that you want to customize. You can list all the software specifications in your project and choose one of them as the base software specification:"
   ]
  },
  {
   "cell_type": "code",
   "execution_count": 46,
   "id": "functioning-threshold",
   "metadata": {
    "id": "cef1cc42-73d4-48b0-8907-6ab55c533848",
    "tags": []
   },
   "outputs": [
    {
     "name": "stdout",
     "output_type": "stream",
     "text": [
      "...\n",
      "\u001b[1mID\u001b[0m                                     \u001b[1mName\u001b[0m                  \u001b[1mCreated\u001b[0m                    \u001b[1mDescription\u001b[0m   \u001b[1mTags\u001b[0m   \n",
      "\u001b[36;1m035869f9-b021-455a-980a-3ed56e3d722f\u001b[0m   New Git               2022-03-30T19:32:12.873Z                 []   \n",
      "\u001b[36;1md7d9f3e3-db92-4248-83a7-d4f7835dcec3\u001b[0m   new classic project   2022-04-06T15:44:32.180Z                 []   \n",
      "\u001b[36;1mf8b97b79-18f8-49f4-9351-99dbf62c4c9a\u001b[0m   Classic Project       2022-03-30T18:49:42.321Z                 []   \n"
     ]
    }
   ],
   "source": [
    "# double check which project_id you are using\n",
    "#!cpdctl project list "
   ]
  },
  {
   "cell_type": "code",
   "execution_count": 62,
   "id": "electric-envelope",
   "metadata": {
    "id": "411df23c-8ec9-46b6-943f-e5013c887fb2",
    "tags": []
   },
   "outputs": [
    {
     "data": {
      "text/plain": [
       "'f8b97b79-18f8-49f4-9351-99dbf62c4c9a'"
      ]
     },
     "execution_count": 62,
     "metadata": {},
     "output_type": "execute_result"
    }
   ],
   "source": [
    "project_id"
   ]
  },
  {
   "cell_type": "code",
   "execution_count": 43,
   "id": "realistic-chart",
   "metadata": {
    "id": "7b34b962-abea-4498-96c0-9faa2120d2ff",
    "tags": []
   },
   "outputs": [
    {
     "name": "stdout",
     "output_type": "stream",
     "text": [
      "...\n",
      "\u001b[1mID\u001b[0m                                     \u001b[1mName\u001b[0m                            \u001b[1mCreated\u001b[0m                    \u001b[1mDescription\u001b[0m                                          \u001b[1mType\u001b[0m   \n",
      "\u001b[36;1m0062b8c9-8b7d-44a0-a9b9-46c416adcbd9\u001b[0m   default_py3.6                   2022-01-05T15:30:14.436Z   Default Python 3.6                                   software_specification   \n",
      "\u001b[36;1m069ea134-3346-5748-b513-49120e15d288\u001b[0m   pytorch-onnx_1.3-py3.7-edt      2022-01-05T15:30:14.485Z   Software specification for Pytorch 1.3.1 Elastic …   software_specification   \n",
      "\u001b[36;1m09c5a1d0-9c1e-4473-a344-eb7b665ff687\u001b[0m   scikit-learn_0.20-py3.6         2022-01-05T15:30:14.477Z   Software specification for Scikit-learn on Python…   software_specification   \n",
      "\u001b[36;1m09f4cff0-90a7-5899-b9ed-1ef348aebdee\u001b[0m   spark-mllib_3.0-scala_2.12      2022-01-05T15:30:14.497Z   Machine Learning on Spark 3.0 with Scala 2.12        software_specification   \n",
      "\u001b[36;1m0cdb0f1e-5376-4f4d-92dd-da3b69aa9bda\u001b[0m   ai-function_0.1-py3.6           2022-01-05T15:30:14.434Z   Software specification for AI function on Python …   software_specification   \n",
      "\u001b[36;1m0e6e79df-875e-4f24-8ae9-62dcc2148306\u001b[0m   shiny-r3.6                      2022-01-05T15:30:14.492Z   R 3.6 with Shiny                                     software_specification   \n",
      "\u001b[36;1m10ac12d6-6b30-4ccd-8392-3e922c096a92\u001b[0m   pytorch_1.1-py3.6               2022-01-05T15:30:14.437Z   Software specification for Pytorch on Python 3.6     software_specification   \n",
      "\u001b[36;1m154010fa-5b3b-4ac1-82af-4d5ee5abbc85\u001b[0m   scikit-learn_0.22-py3.6         2022-01-05T15:30:14.478Z   Software specification for Scikit-learn on Python…   software_specification   \n",
      "\u001b[36;1m1b199910-c7d5-5af4-b8f1-e86b760f9779\u001b[0m   pytorch-onnx_1.7-py3.8-edt      2022-01-05T15:30:14.490Z   Software specification for Pytorch 1.7 Elastic Di…   software_specification   \n",
      "\u001b[36;1m1b70aec3-ab34-4b87-8aa0-a4a3c8296a36\u001b[0m   default_r3.6                    2022-01-05T15:30:14.491Z   Default R 3.6                                        software_specification   \n",
      "\u001b[36;1m295addb5-9ef9-547e-9bf4-92ae3563e720\u001b[0m   do_py3.8                        2022-01-05T15:30:14.489Z   Python 3.8 with Decision Optimization                software_specification   \n",
      "\u001b[36;1m2aa0c932-798f-5ae9-abd6-15e0c2402fb5\u001b[0m   autoai-ts_3.8-py3.8             2022-01-05T15:30:14.487Z   Software specification for AutoAI TimeSeries on P…   software_specification   \n",
      "\u001b[36;1m2b73a275-7cbf-420b-a912-eae7f436e0bc\u001b[0m   tensorflow_1.15-py3.6           2022-01-05T15:30:14.478Z   Software specification for Tensorflow on Python 3…   software_specification   \n",
      "\u001b[36;1m2c8ef57d-2687-4b7d-acce-01f94976dac1\u001b[0m   pytorch_1.2-py3.6               2022-01-05T15:30:14.437Z   Software specification for Pytorch on Python 3.6     software_specification   \n",
      "\u001b[36;1m2e51f700-bca0-4b0d-88dc-5c6791338875\u001b[0m   spark-mllib_2.3                 2022-01-05T15:30:14.492Z   Machine Learning on Spark 2.3 with Python 3.6        software_specification   \n",
      "\u001b[36;1m32983cea-3f32-4400-8965-dde874a8d67e\u001b[0m   pytorch-onnx_1.1-py3.6-edt      2022-01-05T15:30:14.437Z   Software specification for Pytorch EDT with ONNX …   software_specification   \n",
      "\u001b[36;1m36507ebe-8770-55ba-ab2a-eafe787600e9\u001b[0m   spark-mllib_3.0-py37            2022-01-05T15:30:14.496Z   Machine Learning on Spark 3.0 with Python 3.7        software_specification   \n",
      "\u001b[36;1m390d21f8-e58b-4fac-9c55-d7ceda621326\u001b[0m   spark-mllib_2.4                 2022-01-05T15:30:14.494Z   Machine Learning on Spark 2.4 with Python 3.6        software_specification   \n",
      "\u001b[36;1m39e31acd-5f30-41dc-ae44-60233c80306e\u001b[0m   xgboost_0.82-py3.6              2022-01-05T15:30:14.479Z   Software specification for XGBoost on Python 3.6     software_specification   \n",
      "\u001b[36;1m40589d0e-7019-4e28-8daa-fb03b6f4fe12\u001b[0m   pytorch-onnx_1.2-py3.6-edt      2022-01-05T15:30:14.438Z   Software specification for Pytorch EDT with ONNX …   software_specification   \n",
      "\u001b[36;1m42b92e18-d9ab-567f-988a-4240ba1ed5f7\u001b[0m   autoai-obm_3.0                  2022-01-05T15:30:14.495Z   Software specification for AutoAI OneButtonMachin…   software_specification   \n",
      "\u001b[36;1m435bfa8f-ddae-549a-826a-894368887231\u001b[0m   ai-function_0.2-py3.6           2022-01-05T15:30:14.433Z   Software specification for Python Functions on Py…   software_specification   \n",
      "\u001b[36;1m49403dff-92e9-4c87-a3d7-a42d0021c095\u001b[0m   spark-mllib_2.4-r_3.6           2022-01-05T15:30:14.494Z   Machine Learning on Spark 2.4 with R 3.6             software_specification   \n",
      "\u001b[36;1m4ff8d6c2-1343-4c18-85e1-689c965304d3\u001b[0m   xgboost_0.90-py3.6              2022-01-05T15:30:14.479Z   Software specification for XGBoost on Python 3.6     software_specification   \n",
      "\u001b[36;1m50f95b2a-bc16-43bb-bc94-b0bed208c60b\u001b[0m   pytorch-onnx_1.1-py3.6          2022-01-05T15:30:14.438Z   Software specification for Pytorch with ONNX on P…   software_specification   \n",
      "\u001b[36;1m52c57136-80fa-572e-8728-a5e7cbb42cde\u001b[0m   autoai-ts_3.9-py3.8             2022-01-05T15:30:14.488Z   Software specification for AutoAI-TimeSeries on P…   software_specification   \n",
      "\u001b[36;1m55a70f99-7320-4be5-9fb9-9edb5a443af5\u001b[0m   spark-mllib_2.4-scala_2.11      2022-01-05T15:30:14.494Z   Machine Learning on Spark 2.4 with Scala 2.11        software_specification   \n",
      "\u001b[36;1m5c1b0ca2-4977-5c2e-9439-ffd44ea8ffe9\u001b[0m   spark-mllib_3.0                 2022-01-05T15:30:14.492Z   Machine Learning on Spark 3.0                        software_specification   \n",
      "\u001b[36;1m5c2e37fa-80b8-5e77-840f-d912469614ee\u001b[0m   autoai-obm_2.0                  2022-01-05T15:30:14.493Z   Software specification for AutoAI OneButtonMachin…   software_specification   \n",
      "\u001b[36;1m5c3cad7e-507f-4b2a-a9a3-ab53a21dee8b\u001b[0m   spss-modeler_18.1               2022-01-05T15:30:14.499Z   SPSS Modeler 18.1                                    software_specification   \n",
      "\u001b[36;1m5d3232bf-c86b-5df4-a2cd-7bb870a1cd4e\u001b[0m   cuda-py3.8                      2022-01-05T15:30:14.488Z   Python 3.8 with CUDA                                 software_specification   \n",
      "\u001b[36;1m632d4b22-10aa-5180-88f0-f52dfb6444d7\u001b[0m   autoai-kb_3.1-py3.7             2022-01-05T15:30:14.480Z   Software specification for AutoAI KaggleBot on Py…   software_specification   \n",
      "\u001b[36;1m634d3cdc-b562-5bf9-a2d4-ea90a478456b\u001b[0m   pytorch-onnx_1.7-py3.8          2022-01-05T15:30:14.490Z   Software specification for Pytorch 1.3.1 on Pytho…   software_specification   \n",
      "\u001b[36;1m65e171d7-72d1-55d9-8ebb-f813d620c9bb\u001b[0m   tensorflow_2.4-py3.7            2022-01-05T15:30:14.487Z   Software specification for Tensorflow 2.4 on Pyth…   software_specification   \n",
      "\u001b[36;1m687eddc9-028a-4117-b9dd-e57b36f1efa5\u001b[0m   spss-modeler_18.2               2022-01-05T15:30:14.499Z   SPSS Modeler 18.2                                    software_specification   \n",
      "\u001b[36;1m692a6a4d-2c4d-45ff-a1ed-b167ee55469a\u001b[0m   pytorch-onnx_1.2-py3.6          2022-01-05T15:30:14.438Z   Software specification for Pytorch with ONNX on P…   software_specification   \n",
      "\u001b[36;1m75a3a4b0-6aa0-41b3-a618-48b1f56332a6\u001b[0m   do_12.9                         2022-01-05T15:30:14.431Z   Software specification for Decision Optimization     software_specification   \n",
      "\u001b[36;1m7abc992b-b685-532b-a122-a396a3cdbaab\u001b[0m   spark-mllib_2.4-py37            2022-01-05T15:30:14.493Z   Machine Learning on Spark 2.4 with Python 3.7        software_specification   \n",
      "\u001b[36;1m7bb3dbe2-da6e-4145-918d-b6d84aa93b6b\u001b[0m   caffe_1.0-py3.6                 2022-01-05T15:30:14.435Z   Caffe (community) on Python 3.6                      software_specification   \n",
      "\u001b[36;1m812c6631-42b7-5613-982b-02098e6c909c\u001b[0m   pytorch-onnx_1.7-py3.7          2022-01-05T15:30:14.486Z   Software specification for Pytorch 1.7.1 on Pytho…   software_specification   \n",
      "\u001b[36;1m82c79ece-4d12-40e6-8787-a7b9e0f62770\u001b[0m   cuda-py3.6                      2022-01-05T15:30:14.435Z   Python 3.6 with CUDA                                 software_specification   \n",
      "\u001b[36;1m8c1a58c6-62b5-4dc4-987a-df751c2756b6\u001b[0m   hybrid_0.1                      2022-01-05T15:30:14.432Z   Watson Machine Learning Hybrid framework             software_specification   \n",
      "\u001b[36;1m8d5d8a87-a912-54cf-81ec-3914adaa988d\u001b[0m   pytorch-onnx_1.3-py3.7          2022-01-05T15:30:14.486Z   Software specification for Pytorch 1.3.1 on Pytho…   software_specification   \n",
      "\u001b[36;1m8d863266-7927-4d1e-97d7-56a7f4c0a19b\u001b[0m   caffe-ibm_1.0-py3.6             2022-01-05T15:30:14.435Z   Caffe (IBM) on Python 3.6                            software_specification   \n",
      "\u001b[36;1m902d0051-84bd-4af6-ab6b-8f6aa6fdeabb\u001b[0m   spss-modeler_17.1               2022-01-05T15:30:14.499Z   SPSS Modeler 17.1                                    software_specification   \n",
      "\u001b[36;1m9100fd72-8159-4eb9-8a0b-a87e12eefa36\u001b[0m   do_12.10                        2022-01-05T15:30:14.430Z   Software specification for Decision Optimization     software_specification   \n",
      "\u001b[36;1m9447fa8b-2051-4d24-9eef-5acb0e3c59f8\u001b[0m   do_py3.7                        2022-01-05T15:30:14.484Z   (Deprecated) Python 3.7 with Decision Optimization   software_specification   \n",
      "\u001b[36;1m94bb6052-c837-589d-83f1-f4142f219e32\u001b[0m   spark-mllib_3.0-r_3.6           2022-01-05T15:30:14.497Z   Machine Learning on Spark 3.0 with R 3.6             software_specification   \n",
      "\u001b[36;1m94e9652b-7f2d-59d5-ba5a-23a414ea488f\u001b[0m   cuda-py3.7-opence               2022-01-05T15:30:14.481Z   Python 3.7 with CUDA                                 software_specification   \n",
      "\u001b[36;1m9a44990c-1aa1-4c7d-baf8-c4099011741c\u001b[0m   cuda-py3.7                      2022-01-05T15:30:14.482Z   (Deprecated) Python 3.7 with CUDA                    software_specification   \n",
      "\u001b[36;1m9b3f9040-9cee-4ead-8d7a-780600f542f7\u001b[0m   hybrid_0.2                      2022-01-05T15:30:14.433Z   Watson Machine Learning Hybrid framework             software_specification   \n",
      "\u001b[36;1m9f7a8fc1-4d3c-5e65-ab90-41fa8de2d418\u001b[0m   spark-mllib_3.0-py38            2022-01-05T15:30:14.497Z   Machine Learning on Spark 3.0 with Python 3.8        software_specification   \n",
      "\u001b[36;1ma3515e34-e372-5244-8609-f14713deac9d\u001b[0m   autoai-kb_3.2-py3.7             2022-01-05T15:30:14.480Z   Software specification for AutoAI KaggleBot on Py…   software_specification   \n",
      "\u001b[36;1ma545cca3-02df-5c61-9e88-998b09dc79af\u001b[0m   autoai-kb_3.3-py3.7             2022-01-05T15:30:14.480Z   Software specification for AutoAI KaggleBot on Py…   software_specification   \n",
      "\u001b[36;1mab9e1b80-f2ce-592c-a7d2-4f2344f77194\u001b[0m   default_py3.8                   2022-01-05T15:30:14.489Z   Default Python 3.8                                   software_specification   \n",
      "\u001b[36;1maf10f35f-69fa-5d66-9bf5-acb58434263a\u001b[0m   autoai-obm_2.0 with Spark 3.0   2022-01-05T15:30:14.495Z   Software specification for AutoAI OneButtonMachin…   software_specification   \n",
      "\u001b[36;1mc2057dd4-f42c-5f77-a02f-72bdbd3282c9\u001b[0m   default_py3.7_opence            2022-01-05T15:30:14.482Z   Default Python 3.7                                   software_specification   \n",
      "\u001b[36;1mc4032338-2a40-500a-beef-b01ab2667e27\u001b[0m   tensorflow_2.1-py3.7            2022-01-05T15:30:14.486Z   Software specification for Tensorflow 2.1 on Pyth…   software_specification   \n",
      "\u001b[36;1mcc8f8976-b74a-551a-bb66-6377f8d865b4\u001b[0m   do_py3.7_opence                 2022-01-05T15:30:14.483Z   Python 3.7 with Decision Optimization                software_specification   \n",
      "\u001b[36;1md139f196-e04b-5d8b-9140-9a10ca1fa91a\u001b[0m   autoai-kb_3.0-py3.6             2022-01-05T15:30:14.434Z   Software specification for AutoAI KaggleBot on Py…   software_specification   \n",
      "\u001b[36;1md82546d5-dd78-5fbb-9131-2ec309bc56ed\u001b[0m   spark-mllib_3.0-py36            2022-01-05T15:30:14.496Z   Machine Learning on Spark 3.0 with Python 3.6        software_specification   \n",
      "\u001b[36;1mda9b39c3-758c-5a4f-9cfd-457dd4d8c395\u001b[0m   autoai-kb_3.4-py3.8             2022-01-05T15:30:14.487Z   Software specification for AutoAI KaggleBot on Py…   software_specification   \n",
      "\u001b[36;1mdeef04f0-0c42-5147-9711-89f9904299db\u001b[0m   autoai-ts_1.0-py3.7             2022-01-05T15:30:14.481Z   Software specification for AutoAI-TimeSeries on P…   software_specification   \n",
      "\u001b[36;1me384fce5-fdd1-53f8-bc71-11326c9c635f\u001b[0m   tensorflow_2.1-py3.7-horovod    2022-01-05T15:30:14.486Z   Software specification for Tensorflow 2.1 on Pyth…   software_specification   \n",
      "\u001b[36;1me4429883-c883-42b6-87a8-f419d64088cd\u001b[0m   default_py3.7                   2022-01-05T15:30:14.483Z   (Deprecated) Default Python 3.7                      software_specification   \n",
      "\u001b[36;1mef1726a6-c84f-5a2c-aac6-5b80e39b8af0\u001b[0m   pytorch-onnx_1.7-py3.7-edt      2022-01-05T15:30:14.485Z   Software specification for Pytorch 1.7 Elastic Di…   software_specification   \n",
      "\u001b[36;1mf686cdd9-7904-5f9d-a732-01b0d6b10dc5\u001b[0m   do_20.1                         2022-01-05T15:30:14.432Z   Software specification for Decision Optimization     software_specification   \n",
      "\u001b[36;1mfe185c44-9a99-5425-986b-59bd1d2eda46\u001b[0m   tensorflow_2.4-py3.8            2022-01-05T15:30:14.490Z   Software specification for Tensorflow 2.4 on Pyth…   software_specification   \n"
     ]
    }
   ],
   "source": [
    "! cpdctl environment software-specification list --project-id {project_id} "
   ]
  },
  {
   "cell_type": "code",
   "execution_count": 48,
   "id": "moral-sensitivity",
   "metadata": {
    "id": "760976b9-4c88-4882-a953-ae352fc995cc",
    "tags": []
   },
   "outputs": [
    {
     "name": "stdout",
     "output_type": "stream",
     "text": [
      "base software specification id: ab9e1b80-f2ce-592c-a7d2-4f2344f77194\n"
     ]
    }
   ],
   "source": [
    "base_sw_spec_name = \"Default Python 3.8\"\n",
    "query_string = \"(resources[?metadata.description == '{}'].metadata.asset_id)[0]\".format(base_sw_spec_name)\n",
    "\n",
    "result = ! cpdctl environment software-specification list --project-id {project_id} --output json -j \"{query_string}\" --raw-output\n",
    "base_sw_spec_id = result.s\n",
    "print(\"base software specification id: {}\".format(base_sw_spec_id))\n",
    "\n",
    "# You can also specify your base software specification id directly:\n",
    "# based_sw_spec_id = \"Your base software specification ID\""
   ]
  },
  {
   "cell_type": "markdown",
   "id": "impossible-fisher",
   "metadata": {
    "id": "e9a006c8-d74c-4ce4-94fb-bae99fc3fa4d"
   },
   "source": [
    "### 7.2 Create a custom software specification"
   ]
  },
  {
   "cell_type": "code",
   "execution_count": 49,
   "id": "decent-renewal",
   "metadata": {
    "id": "659bdd94-94c7-4625-97bb-915cecddcd6e",
    "tags": []
   },
   "outputs": [],
   "source": [
    "custom_sw_spec_name = \"my_sw_spec\"\n",
    "\n",
    "base_sw_spec = {\n",
    "    'guid': base_sw_spec_id\n",
    "}\n",
    "\n",
    "base_sw_spec_json = json.dumps(base_sw_spec)\n",
    "\n",
    "sw_conf = {}\n",
    "sw_conf_json = json.dumps(sw_conf)"
   ]
  },
  {
   "cell_type": "code",
   "execution_count": 50,
   "id": "annoying-retrieval",
   "metadata": {
    "id": "0eb07fa2-f717-41b8-99c1-6f4d4bc10862",
    "tags": []
   },
   "outputs": [
    {
     "name": "stdout",
     "output_type": "stream",
     "text": [
      "custom software specification id: 0a99d940-d0da-4204-8e55-a318f72e5592\n"
     ]
    }
   ],
   "source": [
    "result = ! cpdctl environment software-specification create --project-id {project_id} --name {custom_sw_spec_name} --base-software-specification '{base_sw_spec_json}' --software-configuration '{sw_conf_json}' --output json -j \"metadata.asset_id\" --raw-output\n",
    "custom_sw_spec_id = result.s\n",
    "print(\"custom software specification id: {}\".format(custom_sw_spec_id))"
   ]
  },
  {
   "cell_type": "markdown",
   "id": "southern-psychology",
   "metadata": {
    "id": "ef3e9dcd-28c8-41b5-84e7-cdded3ce8907"
   },
   "source": [
    "### 7.3 Create a package extension and get its path"
   ]
  },
  {
   "cell_type": "code",
   "execution_count": null,
   "id": "interracial-convention",
   "metadata": {
    "id": "56a839e7-e744-4afd-856c-ecd41a1b4241"
   },
   "outputs": [],
   "source": [
    "pkg_name = \"my_test_packages\""
   ]
  },
  {
   "cell_type": "code",
   "execution_count": 78,
   "id": "portuguese-daily",
   "metadata": {
    "id": "0ef94870-f416-4cec-aae3-742af0152901",
    "tags": []
   },
   "outputs": [
    {
     "name": "stdout",
     "output_type": "stream",
     "text": [
      "package extension id: 4f5ff287-de8f-4633-9f6c-4d982d1ed3d6\n"
     ]
    }
   ],
   "source": [
    "#result = ! cpdctl environment package-extension create --name {pkg_name} --type \"conda_yml\" --project-id {project_id}  --output json\n",
    "result = ! cpdctl environment package-extension create --name 'my_test_packages' --type \"conda_yml\" --project-id 'f8b97b79-18f8-49f4-9351-99dbf62c4c9a'  --output json\n",
    "pkg_ext_id = json.loads(result.s)['metadata']['asset_id']\n",
    "print(\"package extension id: {}\".format(pkg_ext_id))"
   ]
  },
  {
   "cell_type": "markdown",
   "id": "local-curtis",
   "metadata": {
    "id": "3b3b6e32-3fec-405c-97ba-65c256a9ab8c"
   },
   "source": [
    "Get the path to where you want to upload the additional packages:"
   ]
  },
  {
   "cell_type": "code",
   "execution_count": 80,
   "id": "familiar-works",
   "metadata": {
    "id": "06f4dc0c-7e1e-42d2-91b3-2281130020c5",
    "tags": []
   },
   "outputs": [
    {
     "name": "stdout",
     "output_type": "stream",
     "text": [
      "path where asset should be uploaded: package_extension/my_test_packages_5DBAcnSUF.yml\n"
     ]
    }
   ],
   "source": [
    "pkg_ext_href = json.loads(result.s)['entity']['package_extension']['href'].split('/')[4].split('?')[0]\n",
    "remote_pkg_path = \"package_extension/{}\".format(pkg_ext_href)\n",
    "print(\"path where asset should be uploaded: {}\".format(remote_pkg_path))"
   ]
  },
  {
   "cell_type": "markdown",
   "id": "announced-retention",
   "metadata": {
    "id": "3494e0b7-a567-4bba-9659-6690d8f250bd"
   },
   "source": [
    "### 7.4 Define a conda-yaml file listing additional packages:"
   ]
  },
  {
   "cell_type": "code",
   "execution_count": 81,
   "id": "controlling-filename",
   "metadata": {
    "id": "e6d0cda2-c462-4a3a-832c-9fc6894af76a",
    "tags": []
   },
   "outputs": [],
   "source": [
    "my_yaml = \"\"\"\n",
    "channels:\n",
    "  - defaults\n",
    "\n",
    "dependencies:\n",
    "  - pip:\n",
    "    - fuzzywuzzy\n",
    "\n",
    "\"\"\"\n",
    "\n",
    "with open('my-pkg-ext.yaml', 'w') as f:\n",
    "    f.write(my_yaml)"
   ]
  },
  {
   "cell_type": "markdown",
   "id": "varying-terrain",
   "metadata": {
    "id": "af111fdb-2bb4-4a70-a161-9f6875a3f0a5"
   },
   "source": [
    "### 7.5 Upload the yaml file to the path returned in the previous command:"
   ]
  },
  {
   "cell_type": "code",
   "execution_count": 82,
   "id": "animal-advice",
   "metadata": {
    "id": "0925ab65-a983-489a-82ae-9ffa2bd53ce0",
    "tags": []
   },
   "outputs": [],
   "source": [
    "local_pkg_path = \"my-pkg-ext.yaml\""
   ]
  },
  {
   "cell_type": "code",
   "execution_count": 83,
   "id": "dying-identity",
   "metadata": {
    "id": "a3901616-94d6-460c-b22e-9ce51db6d681",
    "tags": []
   },
   "outputs": [
    {
     "name": "stdout",
     "output_type": "stream",
     "text": [
      "...\n",
      "\u001b[32;1mOK\u001b[0m\n"
     ]
    }
   ],
   "source": [
    "! cpdctl asset file upload --path \"{remote_pkg_path}\" --file {local_pkg_path} --project-id {project_id} "
   ]
  },
  {
   "cell_type": "markdown",
   "id": "overhead-wrapping",
   "metadata": {
    "id": "6a62db76-f603-4d91-980b-4fd34bcef881"
   },
   "source": [
    "### 7.6 Confirm the upload of the library file attached to the package extension is complete"
   ]
  },
  {
   "cell_type": "code",
   "execution_count": 84,
   "id": "standard-assurance",
   "metadata": {
    "id": "ee8a3d0f-a883-4e7e-b4a6-1565606ad940",
    "tags": []
   },
   "outputs": [
    {
     "name": "stdout",
     "output_type": "stream",
     "text": [
      "...\n",
      "\u001b[32;1mOK\u001b[0m\n"
     ]
    }
   ],
   "source": [
    "! cpdctl environment package-extension upload-complete --package-extension-id {pkg_ext_id} --project-id {project_id}"
   ]
  },
  {
   "cell_type": "markdown",
   "id": "logical-delivery",
   "metadata": {
    "id": "42d9972f-90de-4cf0-b72f-c4a15f4ee0ab"
   },
   "source": [
    "### 7.7 add package extensions (yml file) to the custom software specification (base image)"
   ]
  },
  {
   "cell_type": "code",
   "execution_count": 85,
   "id": "possible-highway",
   "metadata": {
    "id": "1dc7f4a4-9e55-408a-bfa8-85bf31e9a0fb",
    "tags": []
   },
   "outputs": [
    {
     "name": "stdout",
     "output_type": "stream",
     "text": [
      "...\n",
      "\u001b[32;1mOK\u001b[0m\n"
     ]
    }
   ],
   "source": [
    "! cpdctl environment software-specification add-package-extensions --software-specification-id {custom_sw_spec_id} --package-extension-id {pkg_ext_id} --project-id {project_id}"
   ]
  },
  {
   "cell_type": "markdown",
   "id": "dedicated-morgan",
   "metadata": {
    "id": "781414df-43ce-4528-8691-36e1548266da"
   },
   "source": [
    "### 7.8 Configure hardware specification"
   ]
  },
  {
   "cell_type": "code",
   "execution_count": 86,
   "id": "little-chapter",
   "metadata": {
    "id": "e7fe9ff3-9c5d-45bd-b676-607c53a75bd9",
    "tags": []
   },
   "outputs": [
    {
     "name": "stdout",
     "output_type": "stream",
     "text": [
      "...\n",
      "\u001b[1mID\u001b[0m                                     \u001b[1mName\u001b[0m            \u001b[1mCreated\u001b[0m                    \u001b[1mDescription\u001b[0m                                          \u001b[1mType\u001b[0m   \n",
      "\u001b[36;1m5a1f0e64-e420-55ce-bd7a-f6d00bb942cf\u001b[0m   ML              2022-01-05T15:30:15.797Z   A hardware specification providing 4 CPU cores an…   hardware_specification   \n",
      "\u001b[36;1ma02f3ab5-6964-4f06-a870-c7cc69187895\u001b[0m   V100x2          2022-01-05T15:30:15.798Z   A hardware specification providing 52 CPU cores a…   hardware_specification   \n",
      "\u001b[36;1ma6c4923b-b8e4-444c-9f43-8a7ec3020110\u001b[0m   L               2022-01-05T15:30:15.796Z   A hardware specification providing 8 CPU cores an…   hardware_specification   \n",
      "\u001b[36;1mac59d20a-9c7c-4504-a853-788ef35969da\u001b[0m   Default Spark   2022-01-05T15:30:15.794Z   A hardware specification for Spark with 1 CPU and…   hardware_specification   \n",
      "\u001b[36;1mb128f957-581d-46d0-95b6-8af5cd5be580\u001b[0m   XXS             2022-01-05T15:30:15.800Z   A hardware specification providing one CPU core a…   hardware_specification   \n",
      "\u001b[36;1mb2232f7a-bfad-4822-9bce-6ba1af49217a\u001b[0m   M-Spark         2022-01-05T15:30:15.796Z   A hardware specification for Spark service with 2…   hardware_specification   \n",
      "\u001b[36;1mb305a34b-acb5-4850-a44a-f1f15e304a20\u001b[0m   V100x4          2022-01-05T15:30:15.798Z   A hardware specification providing 104 CPU cores …   hardware_specification   \n",
      "\u001b[36;1mc076e82c-b2a7-4d20-9c0f-1f0c2fdf5a24\u001b[0m   M               2022-01-05T15:30:15.797Z   A hardware specification providing 4 CPU cores an…   hardware_specification   \n",
      "\u001b[36;1mc1791762-1333-4dd3-b7bb-228ae287da31\u001b[0m   XL-Spark        2022-01-05T15:30:15.799Z   A hardware specification for Spark service with 3…   hardware_specification   \n",
      "\u001b[36;1mcf70f086-916d-4684-91a7-264c49c6d425\u001b[0m   K80             2022-01-05T15:30:15.794Z   A hardware specification providing 4 CPU cores an…   hardware_specification   \n",
      "\u001b[36;1md0aa1ae8-a889-42e2-a099-041b604b9289\u001b[0m   XL              2022-01-05T15:30:15.799Z   A hardware specification providing 16 CPU cores a…   hardware_specification   \n",
      "\u001b[36;1md0f52aa1-4312-40f6-ad84-f16cf5c6da9e\u001b[0m   K80x2           2022-01-05T15:30:15.795Z   A hardware specification providing 8 CPU cores an…   hardware_specification   \n",
      "\u001b[36;1md92943ba-9f47-407d-9280-c85281687a1e\u001b[0m   S-Spark         2022-01-05T15:30:15.797Z   A hardware specification for Spark service with 1…   hardware_specification   \n",
      "\u001b[36;1me18b1866-e8fa-49c8-9aa5-dfaaed6ffa43\u001b[0m   XS-Spark        2022-01-05T15:30:15.799Z   A hardware specification for Spark with 1 CPU and…   hardware_specification   \n",
      "\u001b[36;1me4652060-04ee-493e-8044-df8a3c1d33f0\u001b[0m   ds-px-default   2022-01-07T22:39:48.177Z                                                        hardware_specification   \n",
      "\u001b[36;1me7ed1d6c-2e89-42d7-aed5-863b972c1d2b\u001b[0m   S               2022-01-05T15:30:15.797Z   A hardware specification providing 2 CPU cores an…   hardware_specification   \n",
      "\u001b[36;1mec104857-0389-4649-af8e-971fc11982d0\u001b[0m   K80x4           2022-01-05T15:30:15.795Z   A hardware specification providing 16 CPU cores a…   hardware_specification   \n",
      "\u001b[36;1mf132f14a-6c0f-4570-b87c-98ad1e297953\u001b[0m   L-Spark         2022-01-05T15:30:15.796Z   A hardware specification for Spark service with 2…   hardware_specification   \n",
      "\u001b[36;1mf327bdf7-5634-43d8-b1e3-445afeaf18b9\u001b[0m   V100            2022-01-05T15:30:15.798Z   A hardware specification providing 26 CPU cores a…   hardware_specification   \n",
      "\u001b[36;1mf3ebac7d-0a75-410c-8b48-a931428cc4c5\u001b[0m   XS              2022-01-05T15:30:15.799Z   A hardware specification providing one CPU core a…   hardware_specification   \n"
     ]
    }
   ],
   "source": [
    "! cpdctl environment hardware-specification list --project-id {project_id} "
   ]
  },
  {
   "cell_type": "code",
   "execution_count": 87,
   "id": "christian-nursery",
   "metadata": {
    "id": "0e9bd242-56a8-4430-8c83-e2ce3684ab7f",
    "tags": []
   },
   "outputs": [
    {
     "name": "stdout",
     "output_type": "stream",
     "text": [
      "hardware specification id: f3ebac7d-0a75-410c-8b48-a931428cc4c5\n"
     ]
    }
   ],
   "source": [
    "hw_spec_keyword_1 = \"one CPU core\"\n",
    "hw_spec_keyword_2 = \"4 GiB of memory\"\n",
    "query_string = \"(resources[?contains(metadata.description, '{}') && contains(metadata.description, '{}')].metadata.asset_id)[0]\".format(hw_spec_keyword_1, hw_spec_keyword_2)\n",
    "\n",
    "result = ! cpdctl environment hardware-specification list --project-id {project_id}  --output json -j \"{query_string}\" --raw-output\n",
    "hw_spec_id = result.s\n",
    "print(\"hardware specification id: {}\".format(hw_spec_id))\n",
    "\n",
    "# You can also specify your hardware specification id directly:\n",
    "# hw_spec_id = \"Your base software specification ID\""
   ]
  },
  {
   "cell_type": "markdown",
   "id": "mexican-conditioning",
   "metadata": {
    "id": "46f18b67-6084-47ca-8c7e-e11a41b1484a"
   },
   "source": [
    "### 7.9 Create a custom environment by specifying the hardware specification, the custom software specification and the tool specification:"
   ]
  },
  {
   "cell_type": "code",
   "execution_count": 89,
   "id": "clear-tackle",
   "metadata": {
    "id": "1e486389-07c1-4e2a-8421-413a2f8d6fa8",
    "tags": []
   },
   "outputs": [],
   "source": [
    "env_name = \"my_custom_env\"\n",
    "\n",
    "hw_spec = {\n",
    "    'guid': hw_spec_id\n",
    "}\n",
    "\n",
    "custom_sw_spec = {\n",
    "    'guid': custom_sw_spec_id\n",
    "}\n",
    "\n",
    "custom_sw_spec_json = json.dumps(custom_sw_spec)\n",
    "\n",
    "tool_spec = {\n",
    "    'supported_kernels': [{\n",
    "        'language': 'python', \n",
    "        'version': '3.8', \n",
    "        'display_name': 'Python 3.8'\n",
    "    }]\n",
    "}\n",
    "hw_spec_json = json.dumps(hw_spec)\n",
    "\n",
    "tool_spec_json = json.dumps(tool_spec)"
   ]
  },
  {
   "cell_type": "code",
   "execution_count": 90,
   "id": "played-salad",
   "metadata": {
    "id": "e870e159-c8f0-4693-804c-dd73012f6bfc",
    "tags": []
   },
   "outputs": [
    {
     "name": "stdout",
     "output_type": "stream",
     "text": [
      "custom environment id: 08cf9572-ca33-4134-b745-830d7a21239b\n"
     ]
    }
   ],
   "source": [
    "result = ! cpdctl environment create --project-id {project_id} --type \"notebook\" --name {env_name} --display-name {env_name} --hardware-specification '{hw_spec_json}' --software-specification '{custom_sw_spec_json}' --tools-specification '{tool_spec_json}' --output json -j \"metadata.asset_id\" --raw-output\n",
    "custom_env_id = result.s\n",
    "print(\"custom environment id: {}\".format(custom_env_id))"
   ]
  },
  {
   "cell_type": "markdown",
   "id": "electoral-pittsburgh",
   "metadata": {
    "id": "b6cd15d6-03df-422c-bab9-e40108f57317"
   },
   "source": [
    "Now you can go to your target project where you just created a custom environment and test if it works properly."
   ]
  }
 ],
 "metadata": {
  "kernelspec": {
   "display_name": "Python 3.8",
   "language": "python",
   "name": "python3"
  },
  "language_info": {
   "codemirror_mode": {
    "name": "ipython",
    "version": 3
   },
   "file_extension": ".py",
   "mimetype": "text/x-python",
   "name": "python",
   "nbconvert_exporter": "python",
   "pygments_lexer": "ipython3",
   "version": "3.8.11"
  }
 },
 "nbformat": 4,
 "nbformat_minor": 5
}
